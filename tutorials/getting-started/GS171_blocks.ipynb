{
 "cells": [
  {
   "cell_type": "markdown",
   "metadata": {},
   "source": [
    "# Using Deeplay Blocks\n",
    "\n",
    "Blocks are the most versatile part of Deeplay. They are designed to be transformed from a base block to any other block that accepts the same input tensor shape and returns the same output tensor shape."
   ]
  },
  {
   "cell_type": "code",
   "execution_count": 2,
   "metadata": {},
   "outputs": [],
   "source": [
    "import deeplay as dl\n",
    "import torch"
   ]
  },
  {
   "cell_type": "markdown",
   "metadata": {},
   "source": [
    "## Selection of Blocks Available in Deeplay"
   ]
  },
  {
   "cell_type": "markdown",
   "metadata": {},
   "source": [
    "### `LinearBlock`\n",
    "\n",
    "You can sequentially add layers to a block ..."
   ]
  },
  {
   "cell_type": "code",
   "execution_count": 3,
   "metadata": {},
   "outputs": [
    {
     "name": "stdout",
     "output_type": "stream",
     "text": [
      "LinearBlock(\n",
      "  (layer): Layer[Linear](in_features=4, out_features=10, bias=True)\n",
      ")\n"
     ]
    }
   ],
   "source": [
    "block = dl.LinearBlock(4, 10)\n",
    "print(block)"
   ]
  },
  {
   "cell_type": "code",
   "execution_count": 4,
   "metadata": {},
   "outputs": [
    {
     "name": "stdout",
     "output_type": "stream",
     "text": [
      "LinearBlock(\n",
      "  (activation): Layer[ReLU]()\n",
      "  (layer): Layer[Linear](in_features=4, out_features=10, bias=True)\n",
      ")\n"
     ]
    }
   ],
   "source": [
    "block.activated(torch.nn.ReLU, mode=\"prepend\")\n",
    "print(block)"
   ]
  },
  {
   "cell_type": "code",
   "execution_count": 5,
   "metadata": {},
   "outputs": [
    {
     "name": "stdout",
     "output_type": "stream",
     "text": [
      "LinearBlock(\n",
      "  (activation): Layer[ReLU]()\n",
      "  (layer): Layer[Linear](in_features=4, out_features=10, bias=True)\n",
      "  (normalization): Layer[LayerNorm](normalized_shape=10)\n",
      ")\n"
     ]
    }
   ],
   "source": [
    "block.normalized(torch.nn.LayerNorm, mode=\"insert\", after=\"layer\")\n",
    "print(block)"
   ]
  },
  {
   "cell_type": "code",
   "execution_count": 6,
   "metadata": {},
   "outputs": [
    {
     "name": "stdout",
     "output_type": "stream",
     "text": [
      "LinearBlock(\n",
      "  (shortcut_start): Layer[Linear](in_features=4, out_features=10)\n",
      "  (activation): Layer[ReLU]()\n",
      "  (layer): Layer[Linear](in_features=4, out_features=10, bias=True)\n",
      "  (normalization): Layer[LayerNorm](normalized_shape=10)\n",
      "  (shortcut_end): Add()\n",
      ")\n"
     ]
    }
   ],
   "source": [
    "block.shortcut(merge=dl.ops.Add(), shortcut=dl.Layer(torch.nn.Linear, 4, 10))\n",
    "print(block)"
   ]
  },
  {
   "cell_type": "code",
   "execution_count": 7,
   "metadata": {},
   "outputs": [
    {
     "name": "stdout",
     "output_type": "stream",
     "text": [
      "LinearBlock(\n",
      "  (shortcut_start): Layer[Linear](in_features=4, out_features=10)\n",
      "  (activation): Layer[ReLU]()\n",
      "  (layer): Layer[Linear](in_features=4, out_features=10, bias=True)\n",
      "  (normalization): Layer[LayerNorm](normalized_shape=10)\n",
      "  (shortcut_end): Add()\n",
      "  (dropout): Layer[Dropout](p=0.2)\n",
      ")\n"
     ]
    }
   ],
   "source": [
    "block.set_dropout(0.2)\n",
    "print(block)"
   ]
  },
  {
   "cell_type": "markdown",
   "metadata": {},
   "source": [
    "... you can also create multiple blocks and modify them at once."
   ]
  },
  {
   "cell_type": "code",
   "execution_count": 8,
   "metadata": {},
   "outputs": [
    {
     "name": "stdout",
     "output_type": "stream",
     "text": [
      "LinearBlock(\n",
      "  (layer): Layer[Linear](in_features=4, out_features=10, bias=True)\n",
      ")\n"
     ]
    }
   ],
   "source": [
    "block = dl.LinearBlock(4, 10)\n",
    "print(block)"
   ]
  },
  {
   "cell_type": "code",
   "execution_count": 9,
   "metadata": {},
   "outputs": [
    {
     "name": "stdout",
     "output_type": "stream",
     "text": [
      "LinearBlock(\n",
      "  (blocks): Sequential(\n",
      "    (0-1): 2 x LinearBlock(\n",
      "      (layer): Layer[Linear](in_features=4, out_features=10, bias=True)\n",
      "    )\n",
      "  )\n",
      ")\n"
     ]
    }
   ],
   "source": [
    "block.multi(2)  ### The second block should have in_features=10.\n",
    "print(block)"
   ]
  },
  {
   "cell_type": "code",
   "execution_count": 10,
   "metadata": {},
   "outputs": [
    {
     "name": "stdout",
     "output_type": "stream",
     "text": [
      "LinearBlock(\n",
      "  (blocks): Sequential(\n",
      "    (0-1): 2 x LinearBlock(\n",
      "      (shortcut_start): Layer[Identity]()\n",
      "      (layer): Layer[Linear](in_features=4, out_features=10, bias=True)\n",
      "      (normalization): Layer[LayerNorm](normalized_shape=10)\n",
      "      (activation): Layer[ReLU]()\n",
      "      (shortcut_end): Add()\n",
      "    )\n",
      "  )\n",
      ")\n"
     ]
    }
   ],
   "source": [
    "block[\"blocks\"].all \\\n",
    "    .activated(torch.nn.ReLU) \\\n",
    "    .normalized(torch.nn.LayerNorm, mode=\"insert\", after=\"layer\") \\\n",
    "    .shortcut()\n",
    "print(block)"
   ]
  },
  {
   "cell_type": "code",
   "execution_count": 11,
   "metadata": {},
   "outputs": [
    {
     "name": "stdout",
     "output_type": "stream",
     "text": [
      "LinearBlock(\n",
      "  (blocks): Sequential(\n",
      "    (0-1): 2 x LinearBlock(\n",
      "      (shortcut_start): Layer[Identity]()\n",
      "      (layer): Layer[Linear](in_features=4, out_features=10, bias=True)\n",
      "      (normalization): Layer[LayerNorm](normalized_shape=10)\n",
      "      (activation): Layer[ReLU]()\n",
      "      (shortcut_end): Add()\n",
      "    )\n",
      "  )\n",
      "  (dropout): Layer[Dropout](p=0.2)\n",
      ")\n"
     ]
    }
   ],
   "source": [
    "block.set_dropout(0.2)\n",
    "print(block)"
   ]
  },
  {
   "cell_type": "markdown",
   "metadata": {},
   "source": [
    "### `Conv2dBlock`"
   ]
  },
  {
   "cell_type": "code",
   "execution_count": 12,
   "metadata": {},
   "outputs": [
    {
     "name": "stdout",
     "output_type": "stream",
     "text": [
      "Conv2dBlock(\n",
      "  (layer): Layer[Conv2d](in_channels=3, out_channels=10, kernel_size=1, stride=1, padding=0)\n",
      ")\n"
     ]
    }
   ],
   "source": [
    "block = dl.Conv2dBlock(3, 10, kernel_size=1)\n",
    "print(block)"
   ]
  },
  {
   "cell_type": "code",
   "execution_count": 13,
   "metadata": {},
   "outputs": [
    {
     "name": "stdout",
     "output_type": "stream",
     "text": [
      "Conv2dBlock(\n",
      "  (shortcut_start): Conv2dBlock(\n",
      "    (layer): Layer[Conv2d](in_channels=3, out_channels=10, kernel_size=1, stride=2, padding=0)\n",
      "    (activation): Layer[Identity]()\n",
      "  )\n",
      "  (layer): Layer[Conv2d](in_channels=3, out_channels=10, kernel_size=1, stride=2, padding=0)\n",
      "  (activation): Layer[ReLU]()\n",
      "  (shortcut_end): Add()\n",
      "  (normalization): Layer[LayerNorm](normalized_shape=10)\n",
      ")\n"
     ]
    }
   ],
   "source": [
    "block.activated(torch.nn.ReLU) \\\n",
    "    .strided(2) \\\n",
    "    .shortcut() \\\n",
    "    .normalized(torch.nn.LayerNorm, mode=\"append\")\n",
    "\n",
    "print(block)"
   ]
  },
  {
   "cell_type": "code",
   "execution_count": 14,
   "metadata": {},
   "outputs": [
    {
     "name": "stdout",
     "output_type": "stream",
     "text": [
      "Conv2dBlock(\n",
      "  (layer): Layer[Conv2d](in_channels=3, out_channels=10, kernel_size=1, stride=1, padding=0)\n",
      "  (upsample): Layer[ConvTranspose2d](kernel_size=2, stride=2, padding=0, in_channels=10, out_channels=10)\n",
      ")\n"
     ]
    }
   ],
   "source": [
    "block = dl.Conv2dBlock(3, 10, kernel_size=1).upsampled()\n",
    "print(block)"
   ]
  },
  {
   "cell_type": "code",
   "execution_count": 15,
   "metadata": {},
   "outputs": [
    {
     "name": "stdout",
     "output_type": "stream",
     "text": [
      "Conv2dBlock(\n",
      "  (pool): Layer[MaxPool2d](kernel_size=2, stride=2)\n",
      "  (layer): Layer[Conv2d](in_channels=3, out_channels=10, kernel_size=1, stride=1, padding=0)\n",
      ")\n"
     ]
    }
   ],
   "source": [
    "block = dl.Conv2dBlock(3, 10, kernel_size=1).pooled()\n",
    "print(block)"
   ]
  },
  {
   "cell_type": "markdown",
   "metadata": {},
   "source": [
    "### `Sequence1dBlock`"
   ]
  },
  {
   "cell_type": "code",
   "execution_count": 16,
   "metadata": {},
   "outputs": [
    {
     "name": "stdout",
     "output_type": "stream",
     "text": [
      "Sequence1dBlock(\n",
      "  (layer): Layer[LSTM](input_size=4, hidden_size=10, batch_first=False)\n",
      ")\n"
     ]
    }
   ],
   "source": [
    "block = dl.Sequence1dBlock(4, 10).LSTM()\n",
    "print(block)"
   ]
  },
  {
   "cell_type": "code",
   "execution_count": 17,
   "metadata": {},
   "outputs": [
    {
     "name": "stdout",
     "output_type": "stream",
     "text": [
      "Sequence1dBlock(\n",
      "  (layer): Layer[GRU](input_size=4, hidden_size=10, batch_first=False)\n",
      ")\n"
     ]
    }
   ],
   "source": [
    "block = dl.Sequence1dBlock(4, 10).GRU()\n",
    "print(block)"
   ]
  },
  {
   "cell_type": "code",
   "execution_count": 18,
   "metadata": {},
   "outputs": [
    {
     "name": "stdout",
     "output_type": "stream",
     "text": [
      "Sequence1dBlock(\n",
      "  (layer): Layer[RNN](input_size=4, hidden_size=10, batch_first=False)\n",
      ")\n"
     ]
    }
   ],
   "source": [
    "block = dl.Sequence1dBlock(4, 10).RNN()\n",
    "print(block)"
   ]
  },
  {
   "cell_type": "markdown",
   "metadata": {},
   "source": [
    "## Using the Main Lower-level Block Methods"
   ]
  },
  {
   "cell_type": "markdown",
   "metadata": {},
   "source": [
    "### Adjusting Layer Order\n",
    "\n",
    "Blocks work through named layers executed sequentially based on a list containing the layer names ..."
   ]
  },
  {
   "cell_type": "code",
   "execution_count": 19,
   "metadata": {},
   "outputs": [
    {
     "name": "stdout",
     "output_type": "stream",
     "text": [
      "LinearBlock(\n",
      "  (layer): Layer[Linear](in_features=4, out_features=10, bias=True)\n",
      "  (activation): Layer[ReLU]()\n",
      "  (normalization): Layer[BatchNorm1d](num_features=10)\n",
      ")\n"
     ]
    }
   ],
   "source": [
    "block = dl.LinearBlock(4, 10) \\\n",
    "    .activated(torch.nn.ReLU) \\\n",
    "    .normalized()\n",
    "print(block)"
   ]
  },
  {
   "cell_type": "markdown",
   "metadata": {},
   "source": [
    "... the layer order can be configured."
   ]
  },
  {
   "cell_type": "code",
   "execution_count": 20,
   "metadata": {},
   "outputs": [
    {
     "name": "stdout",
     "output_type": "stream",
     "text": [
      "LinearBlock(\n",
      "  (layer): Layer[Linear](in_features=4, out_features=10, bias=True)\n",
      "  (normalization): Layer[BatchNorm1d](num_features=10)\n",
      "  (activation): Layer[ReLU]()\n",
      ")\n"
     ]
    }
   ],
   "source": [
    "block.configure(order=[\"layer\", \"normalization\", \"activation\"])\n",
    "print(block)"
   ]
  },
  {
   "cell_type": "markdown",
   "metadata": {},
   "source": [
    "### Adding Layers\n",
    "\n",
    "You can add layers to a block using various the `.append()`, `.prepend()`, `.insert()`, and `.set()` methods."
   ]
  },
  {
   "cell_type": "markdown",
   "metadata": {},
   "source": [
    "#### Adding Layers with the `.append()` Method"
   ]
  },
  {
   "cell_type": "code",
   "execution_count": 21,
   "metadata": {},
   "outputs": [
    {
     "name": "stdout",
     "output_type": "stream",
     "text": [
      "Conv2dBlock(\n",
      "  (layer): Layer[Conv2d](in_channels=3, out_channels=10, kernel_size=1, stride=1, padding=0)\n",
      ")\n"
     ]
    }
   ],
   "source": [
    "block = dl.Conv2dBlock(3, 10, kernel_size=1)\n",
    "print(block)"
   ]
  },
  {
   "cell_type": "code",
   "execution_count": 22,
   "metadata": {},
   "outputs": [
    {
     "name": "stdout",
     "output_type": "stream",
     "text": [
      "Conv2dBlock(\n",
      "  (layer): Layer[Conv2d](in_channels=3, out_channels=10, kernel_size=1, stride=1, padding=0)\n",
      "  (relu): Layer[ReLU]()\n",
      ")\n"
     ]
    }
   ],
   "source": [
    "block.append(dl.Layer(torch.nn.ReLU))\n",
    "print(block)"
   ]
  },
  {
   "cell_type": "code",
   "execution_count": 23,
   "metadata": {},
   "outputs": [
    {
     "name": "stdout",
     "output_type": "stream",
     "text": [
      "Conv2dBlock(\n",
      "  (layer): Layer[Conv2d](in_channels=3, out_channels=10, kernel_size=1, stride=1, padding=0)\n",
      "  (relu): Layer[ReLU]()\n",
      "  (normalization): Layer[LayerNorm]()\n",
      ")\n"
     ]
    }
   ],
   "source": [
    "block.append(dl.Layer(torch.nn.LayerNorm), name=\"normalization\")\n",
    "print(block)"
   ]
  },
  {
   "cell_type": "markdown",
   "metadata": {},
   "source": [
    "**Note:** The name of the added layer is automatically set to the class name."
   ]
  },
  {
   "cell_type": "markdown",
   "metadata": {},
   "source": [
    "#### Adding Layers with the `.prepend()` method"
   ]
  },
  {
   "cell_type": "code",
   "execution_count": 24,
   "metadata": {},
   "outputs": [
    {
     "name": "stdout",
     "output_type": "stream",
     "text": [
      "Conv2dBlock(\n",
      "  (layer): Layer[Conv2d](in_channels=3, out_channels=10, kernel_size=1, stride=1, padding=0)\n",
      ")\n"
     ]
    }
   ],
   "source": [
    "block = dl.Conv2dBlock(3, 10, kernel_size=1)\n",
    "print(block)"
   ]
  },
  {
   "cell_type": "code",
   "execution_count": 25,
   "metadata": {},
   "outputs": [
    {
     "name": "stdout",
     "output_type": "stream",
     "text": [
      "Conv2dBlock(\n",
      "  (pool): Layer[MaxPool2d](kernel_size=2)\n",
      "  (layer): Layer[Conv2d](in_channels=3, out_channels=10, kernel_size=1, stride=1, padding=0)\n",
      ")\n"
     ]
    }
   ],
   "source": [
    "block.prepend(dl.Layer(torch.nn.MaxPool2d, kernel_size=2), name=\"pool\")\n",
    "print(block)"
   ]
  },
  {
   "cell_type": "markdown",
   "metadata": {},
   "source": [
    "#### Adding Layers with the `.insert()` method"
   ]
  },
  {
   "cell_type": "code",
   "execution_count": 26,
   "metadata": {},
   "outputs": [
    {
     "name": "stdout",
     "output_type": "stream",
     "text": [
      "Conv2dBlock(\n",
      "  (layer): Layer[Conv2d](in_channels=3, out_channels=10, kernel_size=1, stride=1, padding=0)\n",
      "  (activation): Layer[ReLU]()\n",
      ")\n"
     ]
    }
   ],
   "source": [
    "block = dl.Conv2dBlock(3, 10, kernel_size=1).activated(torch.nn.ReLU)\n",
    "print(block)"
   ]
  },
  {
   "cell_type": "code",
   "execution_count": 27,
   "metadata": {},
   "outputs": [
    {
     "name": "stdout",
     "output_type": "stream",
     "text": [
      "Conv2dBlock(\n",
      "  (layer): Layer[Conv2d](in_channels=3, out_channels=10, kernel_size=1, stride=1, padding=0)\n",
      "  (normalization): Layer[LayerNorm]()\n",
      "  (activation): Layer[ReLU]()\n",
      ")\n"
     ]
    }
   ],
   "source": [
    "block.insert(dl.Layer(torch.nn.LayerNorm), after=\"layer\", name=\"normalization\")\n",
    "print(block)"
   ]
  },
  {
   "cell_type": "markdown",
   "metadata": {},
   "source": [
    "#### Adding Layers with the `.set()` method\n",
    "\n",
    "Unlike previous methods, the `.set()` method replaces the layer with the given name ..."
   ]
  },
  {
   "cell_type": "code",
   "execution_count": 28,
   "metadata": {},
   "outputs": [
    {
     "name": "stdout",
     "output_type": "stream",
     "text": [
      "Conv2dBlock(\n",
      "  (layer): Layer[Conv2d](in_channels=3, out_channels=10, kernel_size=1, stride=1, padding=0)\n",
      "  (activation): Layer[ReLU]()\n",
      ")\n"
     ]
    }
   ],
   "source": [
    "block_with_activation = dl.Conv2dBlock(3, 10, kernel_size=1) \\\n",
    "    .activated(torch.nn.ReLU) \n",
    "print(block_with_activation)"
   ]
  },
  {
   "cell_type": "code",
   "execution_count": 29,
   "metadata": {},
   "outputs": [
    {
     "name": "stdout",
     "output_type": "stream",
     "text": [
      "Conv2dBlock(\n",
      "  (layer): Layer[Conv2d](in_channels=3, out_channels=10, kernel_size=1, stride=1, padding=0)\n",
      "  (activation): Layer[ReLU]()\n",
      ")\n"
     ]
    }
   ],
   "source": [
    "block_with_activation.set(\"activation\", torch.nn.ReLU)\n",
    "print(block_with_activation)"
   ]
  },
  {
   "cell_type": "markdown",
   "metadata": {},
   "source": [
    "... if the layer wih the given name already exists."
   ]
  },
  {
   "cell_type": "code",
   "execution_count": 30,
   "metadata": {},
   "outputs": [
    {
     "name": "stdout",
     "output_type": "stream",
     "text": [
      "Conv2dBlock(\n",
      "  (layer): Layer[Conv2d](in_channels=3, out_channels=10, kernel_size=1, stride=1, padding=0)\n",
      ")\n"
     ]
    }
   ],
   "source": [
    "block_without_activation = dl.Conv2dBlock(3, 10, kernel_size=1)\n",
    "print(block_without_activation)"
   ]
  },
  {
   "cell_type": "code",
   "execution_count": 31,
   "metadata": {},
   "outputs": [
    {
     "name": "stdout",
     "output_type": "stream",
     "text": [
      "Conv2dBlock(\n",
      "  (layer): Layer[Conv2d](in_channels=3, out_channels=10, kernel_size=1, stride=1, padding=0)\n",
      "  (activation): Layer[ReLU]()\n",
      ")\n"
     ]
    }
   ],
   "source": [
    "block_without_activation.set(\"activation\", torch.nn.ReLU)\n",
    "print(block_without_activation)"
   ]
  },
  {
   "cell_type": "markdown",
   "metadata": {},
   "source": [
    "### Removing Layers with the `.remove()` Method\n",
    "\n",
    "Layers can be removed using the `.remove()` method, which removes based on the layer name."
   ]
  },
  {
   "cell_type": "code",
   "execution_count": 32,
   "metadata": {},
   "outputs": [
    {
     "name": "stdout",
     "output_type": "stream",
     "text": [
      "Conv2dBlock(\n",
      "  (layer): Layer[Conv2d](in_channels=3, out_channels=10, kernel_size=1, stride=1, padding=0)\n",
      "  (activation): Layer[ReLU]()\n",
      ")\n"
     ]
    }
   ],
   "source": [
    "block = dl.Conv2dBlock(3, 10, kernel_size=1).activated(torch.nn.ReLU)\n",
    "print(block)"
   ]
  },
  {
   "cell_type": "code",
   "execution_count": 33,
   "metadata": {},
   "outputs": [
    {
     "name": "stdout",
     "output_type": "stream",
     "text": [
      "Conv2dBlock(\n",
      "  (layer): Layer[Conv2d](in_channels=3, out_channels=10, kernel_size=1, stride=1, padding=0)\n",
      ")\n"
     ]
    }
   ],
   "source": [
    "block.remove(\"activation\", allow_missing=True)\n",
    "print(block)"
   ]
  },
  {
   "cell_type": "markdown",
   "metadata": {},
   "source": [
    "## Using Operations\n",
    "\n",
    "Operations are special layers that are implemented in Deeplay directly. They are not blocks, but can be used as layers in blocks. They are used to perform operations that are not implemented in PyTorch, such as `Flatten` or `Reshape`."
   ]
  },
  {
   "cell_type": "markdown",
   "metadata": {},
   "source": [
    "### Merge Operations"
   ]
  },
  {
   "cell_type": "code",
   "execution_count": 36,
   "metadata": {},
   "outputs": [
    {
     "name": "stdout",
     "output_type": "stream",
     "text": [
      "torch.Size([2, 3, 4, 5])\n"
     ]
    }
   ],
   "source": [
    "x = torch.randn(2, 3, 4, 5)\n",
    "y = torch.randn(2, 3, 4, 5)\n",
    "\n",
    "merge_add = dl.ops.Add().build()\n",
    "\n",
    "print(merge_add(x, y).shape)"
   ]
  },
  {
   "cell_type": "code",
   "execution_count": 37,
   "metadata": {},
   "outputs": [
    {
     "name": "stdout",
     "output_type": "stream",
     "text": [
      "torch.Size([2, 6, 4, 5])\n"
     ]
    }
   ],
   "source": [
    "merge_cat = dl.ops.Cat(dim=1).build()\n",
    "\n",
    "print(merge_cat(x, y).shape)"
   ]
  },
  {
   "cell_type": "code",
   "execution_count": 39,
   "metadata": {},
   "outputs": [
    {
     "name": "stdout",
     "output_type": "stream",
     "text": [
      "torch.Size([2, 3, 4, 5])\n"
     ]
    }
   ],
   "source": [
    "merge_lambda = dl.ops.Lambda(lambda x: x[0] + x[1]).build()\n",
    "\n",
    "print(merge_lambda(x, y).shape)"
   ]
  },
  {
   "cell_type": "code",
   "execution_count": 41,
   "metadata": {},
   "outputs": [
    {
     "name": "stdout",
     "output_type": "stream",
     "text": [
      "Conv2dBlock(\n",
      "  (shortcut_start): Conv2dBlock(\n",
      "    (layer): Layer[Conv2d](in_channels=3, out_channels=10, kernel_size=1, stride=1, padding=0)\n",
      "    (activation): Layer[Identity]()\n",
      "  )\n",
      "  (layer): Layer[Conv2d](in_channels=3, out_channels=10, kernel_size=1, stride=1, padding=0)\n",
      "  (activation): Layer[ReLU]()\n",
      "  (shortcut_end): Cat()\n",
      ")\n"
     ]
    }
   ],
   "source": [
    "block = dl.Conv2dBlock(3, 10, kernel_size=1).activated(torch.nn.ReLU)\n",
    "block.shortcut(merge=merge_cat)\n",
    "\n",
    "print(block)"
   ]
  },
  {
   "cell_type": "markdown",
   "metadata": {},
   "source": [
    "### Reshaping Operations"
   ]
  },
  {
   "cell_type": "code",
   "execution_count": 42,
   "metadata": {},
   "outputs": [
    {
     "name": "stdout",
     "output_type": "stream",
     "text": [
      "torch.Size([12, 10])\n"
     ]
    }
   ],
   "source": [
    "x = torch.randn(2, 3, 4, 5)\n",
    "\n",
    "reshape = dl.ops.Reshape(-1, 10)\n",
    "\n",
    "print(reshape(x).shape)"
   ]
  },
  {
   "cell_type": "code",
   "execution_count": 45,
   "metadata": {},
   "outputs": [
    {
     "name": "stdout",
     "output_type": "stream",
     "text": [
      "torch.Size([2, 60])\n"
     ]
    }
   ],
   "source": [
    "x = torch.randn(2, 3, 4, 5)\n",
    "\n",
    "reshape_func = dl.ops.Reshape(lambda shape: (shape[0], -1))\n",
    "\n",
    "print(reshape_func(x).shape)"
   ]
  },
  {
   "cell_type": "code",
   "execution_count": null,
   "metadata": {},
   "outputs": [],
   "source": [
    "x = torch.randn(2, 1, 3, 1)\n",
    "\n",
    "squeeze = dl.ops.Squeeze(dim=1)\n",
    "\n",
    "print(squeeze(x).shape)"
   ]
  },
  {
   "cell_type": "code",
   "execution_count": 44,
   "metadata": {},
   "outputs": [
    {
     "name": "stdout",
     "output_type": "stream",
     "text": [
      "torch.Size([2, 3])\n"
     ]
    }
   ],
   "source": [
    "x = torch.randn(2, 1, 3, 1)\n",
    "\n",
    "squeeze_all = dl.ops.Squeeze()\n",
    "\n",
    "print(squeeze_all(x).shape)"
   ]
  },
  {
   "cell_type": "code",
   "execution_count": 46,
   "metadata": {},
   "outputs": [
    {
     "name": "stdout",
     "output_type": "stream",
     "text": [
      "torch.Size([2, 1, 3, 4, 5])\n"
     ]
    }
   ],
   "source": [
    "x = torch.randn(2, 3, 4, 5)\n",
    "\n",
    "unsqueeze = dl.ops.Unsqueeze(dim=1)\n",
    "\n",
    "print(unsqueeze(x).shape)"
   ]
  },
  {
   "cell_type": "code",
   "execution_count": 48,
   "metadata": {},
   "outputs": [
    {
     "name": "stdout",
     "output_type": "stream",
     "text": [
      "torch.Size([2, 12, 5])\n"
     ]
    }
   ],
   "source": [
    "x = torch.randn(2, 3, 4, 5)\n",
    "\n",
    "flatten = dl.ops.Flatten(start_dim=1, end_dim=2)\n",
    "\n",
    "print(flatten(x).shape)"
   ]
  },
  {
   "cell_type": "code",
   "execution_count": 49,
   "metadata": {},
   "outputs": [
    {
     "name": "stdout",
     "output_type": "stream",
     "text": [
      "torch.Size([2, 4, 3, 5])\n"
     ]
    }
   ],
   "source": [
    "x = torch.randn(2, 3, 4, 5)\n",
    "\n",
    "permute = dl.ops.Permute(0, 2, 1, 3)\n",
    "\n",
    "print(permute(x).shape)"
   ]
  },
  {
   "cell_type": "code",
   "execution_count": null,
   "metadata": {},
   "outputs": [],
   "source": []
  }
 ],
 "metadata": {
  "kernelspec": {
   "display_name": "py_env_dlcc",
   "language": "python",
   "name": "python3"
  },
  "language_info": {
   "codemirror_mode": {
    "name": "ipython",
    "version": 3
   },
   "file_extension": ".py",
   "mimetype": "text/x-python",
   "name": "python",
   "nbconvert_exporter": "python",
   "pygments_lexer": "ipython3",
   "version": "3.12.2"
  }
 },
 "nbformat": 4,
 "nbformat_minor": 2
}
