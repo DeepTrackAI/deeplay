{
 "cells": [
  {
   "cell_type": "markdown",
   "metadata": {},
   "source": [
    "# deeplay.vision\n",
    "\n",
    "Does not exist yet."
   ]
  },
  {
   "cell_type": "markdown",
   "metadata": {},
   "source": [
    "# deeplay.language\n",
    "\n",
    "Does not exist yet."
   ]
  },
  {
   "cell_type": "markdown",
   "metadata": {},
   "source": [
    "# deeplay.geometric\n",
    "\n",
    "Does not exist yet."
   ]
  },
  {
   "cell_type": "markdown",
   "metadata": {},
   "source": [
    "# deeplay.activelearning\n",
    "\n",
    "Contains tools for active learning."
   ]
  },
  {
   "cell_type": "code",
   "execution_count": null,
   "metadata": {},
   "outputs": [],
   "source": [
    "import numpy as np\n",
    "import matplotlib.pyplot as plt\n",
    "\n",
    "cluster1 = np.random.normal(0, 1, (1000, 2)) - (2, 0)\n",
    "cluster2 = np.random.normal(0, 1, (1000, 2)) + (2, 0)\n",
    "\n",
    "test_cluster1 = np.random.normal(0, 1, (100, 2)) - (2, 0)\n",
    "test_cluster2 = np.random.normal(0, 1, (100, 2)) + (2, 0)\n",
    "\n",
    "plt.scatter(cluster1[:, 0], cluster1[:, 1], s=2)\n",
    "plt.scatter(cluster2[:, 0], cluster2[:, 1], s=2)\n",
    "\n"
   ]
  },
  {
   "cell_type": "code",
   "execution_count": null,
   "metadata": {},
   "outputs": [],
   "source": [
    "net = dl.MultiLayerPerceptron(2, [10], 2)\n",
    "classifier = dl.BinaryClassifier(net)"
   ]
  },
  {
   "cell_type": "code",
   "execution_count": null,
   "metadata": {},
   "outputs": [],
   "source": [
    "import deeplay.activelearning as al\n",
    "import torch\n",
    "# Creating an active learning dataset\n",
    "\n",
    "torch_dataset = torch.utils.data.TensorDataset(\n",
    "    torch.tensor(np.vstack([cluster1, cluster2]), dtype=torch.float32),\n",
    "    torch.tensor([0] * 1000 + [1] * 1000, dtype=torch.long)\n",
    ")\n",
    "\n",
    "test_torch_dataset = torch.utils.data.TensorDataset(\n",
    "    torch.tensor(np.vstack([test_cluster1, test_cluster2]), dtype=torch.float32),\n",
    "    torch.tensor([0] * 100 + [1] * 100, dtype=torch.long)\n",
    ")\n",
    "\n",
    "train_dataset = al.ActiveLearningDataset(torch_dataset)\n",
    "# Initialize the dataset\n",
    "train_dataset.annotate_random(4)\n",
    "\n",
    "# Creating an active learning model\n",
    "al_model = al.UncertaintyStrategy(classifier, criterion=al.Margin(), train_pool=train_dataset, batch_size=8).build()\n",
    "print(al_model)"
   ]
  },
  {
   "cell_type": "code",
   "execution_count": null,
   "metadata": {},
   "outputs": [],
   "source": [
    "import torchmetrics as tm\n",
    "accuracy_score = []\n",
    "num_labeled = []\n",
    "\n",
    "for iter in range(10):\n",
    "    trainer = dl.Trainer(max_epochs=20)\n",
    "    trainer.fit(al_model)\n",
    "    \n",
    "    res = al_model.test(test_torch_dataset, {\"accuracy\": tm.Accuracy(\"multiclass\", num_classes=2)})\n",
    "\n",
    "    X, y = train_dataset.get_annotated_samples(), train_dataset.get_annotated_labels()\n",
    "\n",
    "    plt.scatter(cluster1[:, 0], cluster1[:, 1], s=1, c=\"gray\")\n",
    "    plt.scatter(cluster2[:, 0], cluster2[:, 1], s=1, c=\"gray\")\n",
    "    plt.scatter(X[y == 0, 0], X[y == 0, 1], c=\"C0\")\n",
    "    plt.scatter(X[y == 1, 0], X[y == 1, 1], c=\"C1\")\n",
    "    plt.show()\n",
    "\n",
    "    accuracy_score.append(res[\"accuracy\"].cpu())\n",
    "    num_labeled.append(train_dataset.get_num_annotated())\n",
    "\n",
    "    # Update the dataset\n",
    "    al_model.query_and_update(4)\n",
    "    al_model.reset_model()\n",
    "\n",
    "plt.plot(num_labeled, accuracy_score)"
   ]
  },
  {
   "cell_type": "markdown",
   "metadata": {},
   "source": []
  },
  {
   "cell_type": "code",
   "execution_count": null,
   "metadata": {},
   "outputs": [],
   "source": []
  }
 ],
 "metadata": {
  "kernelspec": {
   "display_name": "Python 3",
   "language": "python",
   "name": "python3"
  },
  "language_info": {
   "codemirror_mode": {
    "name": "ipython",
    "version": 3
   },
   "file_extension": ".py",
   "mimetype": "text/x-python",
   "name": "python",
   "nbconvert_exporter": "python",
   "pygments_lexer": "ipython3",
   "version": "3.10.10"
  }
 },
 "nbformat": 4,
 "nbformat_minor": 2
}
