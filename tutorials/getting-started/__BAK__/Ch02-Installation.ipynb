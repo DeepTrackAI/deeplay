{
 "cells": [
  {
   "cell_type": "markdown",
   "metadata": {},
   "source": [
    "# Installation Guide\n",
    "\n",
    "**Getting Started with Deeplay**\n",
    "\n",
    "Before diving into Deeplay's powerful features, you'll need to install the package. Fortunately, we've made the installation process as simple as possib"
   ]
  },
  {
   "cell_type": "markdown",
   "metadata": {},
   "source": [
    "#### Dependencies\n",
    "\n",
    "Deeplay requires the following libraries:\n",
    "\n",
    "- [PyTorch](https://pytorch.org/)\n",
    "- [PyTorch Lightning](https://www.pytorchlightning.ai/)\n",
    "\n",
    "`deeplay` will try to install these automatically, but to make sure that the version is compatible with your system, we recommend installing the manually first. \n"
   ]
  },
  {
   "cell_type": "markdown",
   "metadata": {},
   "source": [
    "**Option 1: Install via pip**\n",
    "\n",
    "The simplest way to install Deeplay is via pip. Open a terminal and run the following command:\n",
    "\n",
    "```bash \n",
    "pip install deeplay\n",
    "```\n",
    "\n",
    "This will install the latest stable version of Deeplay along with all its dependencies."
   ]
  },
  {
   "cell_type": "markdown",
   "metadata": {},
   "source": [
    "**Option 2: Install from Source**\n",
    "\n",
    "For those interested in the development version, you can clone the Deeplay repository and install it from source:\n",
    "```bash\n",
    "Copy code\n",
    "git clone https://github.com/yourusername/deeplay.git\n",
    "cd deeplay\n",
    "pip install -e .\n",
    "```\n"
   ]
  },
  {
   "cell_type": "markdown",
   "metadata": {},
   "source": [
    "**Note**: Installing from source allows you to test the latest features but may be less stable than the pip version."
   ]
  },
  {
   "cell_type": "markdown",
   "metadata": {},
   "source": [
    "### Testing the Installation\n",
    "\n",
    "To confirm that Deeplay has been successfully installed, try importing it in Python:"
   ]
  },
  {
   "cell_type": "code",
   "execution_count": 2,
   "metadata": {},
   "outputs": [],
   "source": [
    "import deeplay as dl"
   ]
  },
  {
   "cell_type": "markdown",
   "metadata": {},
   "source": [
    "If you don't encounter any errors, congratulations! You've successfully installed Deeplay and are ready to start creating powerful neural network architectures."
   ]
  }
 ],
 "metadata": {
  "kernelspec": {
   "display_name": "Python 3",
   "language": "python",
   "name": "python3"
  },
  "language_info": {
   "codemirror_mode": {
    "name": "ipython",
    "version": 3
   },
   "file_extension": ".py",
   "mimetype": "text/x-python",
   "name": "python",
   "nbconvert_exporter": "python",
   "pygments_lexer": "ipython3",
   "version": "3.10.5"
  },
  "orig_nbformat": 4
 },
 "nbformat": 4,
 "nbformat_minor": 2
}
