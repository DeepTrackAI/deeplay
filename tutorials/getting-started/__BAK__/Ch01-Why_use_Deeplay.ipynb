{
  "cells": [
    {
      "cell_type": "markdown",
      "metadata": {},
      "source": [
        "# Why Use Deeplay?"
      ]
    },
    {
      "cell_type": "markdown",
      "metadata": {},
      "source": [
        "Deeplay offers an elegant approach to designing and iterating deep neural network architectures. Whether you are a novice in deep learning or an experienced researcher, Deeplay helps you reduce the friction typically associated with this process. Here are some of its standout features:\n"
      ]
    },
    {
      "cell_type": "markdown",
      "metadata": {},
      "source": [
        "- **Configurations** (Config): Precise control over model architectures.\n",
        "- **Templates**: Quickly assemble common layer sequences.\n",
        "- **Components**: Reusable PyTorch modules that adapt to your needs.\n",
        "- **Applications**: End-to-end models with built-in training and validation logic."
      ]
    },
    {
      "cell_type": "markdown",
      "metadata": {},
      "source": [
        "## Create Ready-to-Use Lightning Models in a Single Line"
      ]
    },
    {
      "cell_type": "markdown",
      "metadata": {},
      "source": [
        "One of `deeplay`'s standout features is its library of task-specific models that are ready to use out-of-the-box with zero boilerplate code. Whether you're working on image classification, natural language processing, or any other machine learning task, `deeplay` provides you with a simplified interface to get your models up and running in no time."
      ]
    },
    {
      "cell_type": "markdown",
      "metadata": {},
      "source": [
        "### Example: Create an Image Classifier\n",
        "\n",
        "To illustrate, let's create an image classifier for a 10-class problem:"
      ]
    },
    {
      "cell_type": "code",
      "execution_count": 1,
      "metadata": {},
      "outputs": [
        {
          "name": "stdout",
          "output_type": "stream",
          "text": [
            "ImageClassifier(\n",
            "  (backbone): ConvolutionalEncoder(\n",
            "    (blocks): ModuleList(\n",
            "      (0): Template(\n",
            "        (layer): LazyConv2d(0, 8, kernel_size=(3, 3), stride=(1, 1), padding=(1, 1))\n",
            "        (activation): ReLU()\n",
            "        (pool): MaxPool2d(kernel_size=2, stride=2, padding=0, dilation=1, ceil_mode=False)\n",
            "      )\n",
            "      (1): Template(\n",
            "        (layer): LazyConv2d(0, 16, kernel_size=(3, 3), stride=(1, 1), padding=(1, 1))\n",
            "        (activation): ReLU()\n",
            "        (pool): MaxPool2d(kernel_size=2, stride=2, padding=0, dilation=1, ceil_mode=False)\n",
            "      )\n",
            "      (2): Template(\n",
            "        (layer): LazyConv2d(0, 32, kernel_size=(3, 3), stride=(1, 1), padding=(1, 1))\n",
            "        (activation): ReLU()\n",
            "        (pool): MaxPool2d(kernel_size=2, stride=2, padding=0, dilation=1, ceil_mode=False)\n",
            "      )\n",
            "      (3): Template(\n",
            "        (layer): LazyConv2d(0, 64, kernel_size=(3, 3), stride=(1, 1), padding=(1, 1))\n",
            "        (activation): ReLU()\n",
            "        (pool): MaxPool2d(kernel_size=2, stride=2, padding=0, dilation=1, ceil_mode=False)\n",
            "      )\n",
            "    )\n",
            "  )\n",
            "  (connector): Flatten(start_dim=1, end_dim=-1)\n",
            "  (head): CategoricalClassificationHead(\n",
            "    (output): Template(\n",
            "      (layer): LazyLinear(in_features=0, out_features=10, bias=True)\n",
            "      (activation): Softmax(dim=-1)\n",
            "    )\n",
            "  )\n",
            "  (val_accuracy): Accuracy()\n",
            ")\n"
          ]
        }
      ],
      "source": [
        "from deeplay import ImageClassifier\n",
        "\n",
        "classifier = ImageClassifier(num_classes=10)\n",
        "\n",
        "print(classifier)"
      ]
    },
    {
      "cell_type": "markdown",
      "metadata": {},
      "source": [
        "**Note**: Creating specialized models is as simple as that! Behind the scenes, Deeplay takes care of all the complexities involved in setting up a PyTorch Lightning model, freeing you to focus on your data and tasks."
      ]
    },
    {
      "cell_type": "markdown",
      "metadata": {},
      "source": [
        "## Maintain Full Control Over Model Architecture"
      ]
    },
    {
      "cell_type": "markdown",
      "metadata": {},
      "source": [
        "`deeplay` offers a convenient yet flexible approach to building neural network architectures. Whether you're looking to make minor adjustments or create custom setups, our framework is designed to meet a broad range of needs."
      ]
    },
    {
      "cell_type": "markdown",
      "metadata": {},
      "source": [
        "### Example: Specifying the learning rate\n",
        "\n",
        "With `deeplay`, you can easily modify existing models to suit your specific needs. One example is adjusting the learning rate in a pre-configured application:"
      ]
    },
    {
      "cell_type": "code",
      "execution_count": 12,
      "metadata": {},
      "outputs": [
        {
          "name": "stdout",
          "output_type": "stream",
          "text": [
            "ImageClassifier(\n",
            "  (backbone): ConvolutionalEncoder(\n",
            "    (blocks): ModuleList(\n",
            "      (0): Template(\n",
            "        (layer): LazyConv2d(0, 8, kernel_size=(3, 3), stride=(1, 1), padding=(1, 1))\n",
            "        (activation): ReLU()\n",
            "        (pool): MaxPool2d(kernel_size=2, stride=2, padding=0, dilation=1, ceil_mode=False)\n",
            "      )\n",
            "      (1): Template(\n",
            "        (layer): LazyConv2d(0, 16, kernel_size=(3, 3), stride=(1, 1), padding=(1, 1))\n",
            "        (activation): ReLU()\n",
            "        (pool): MaxPool2d(kernel_size=2, stride=2, padding=0, dilation=1, ceil_mode=False)\n",
            "      )\n",
            "      (2): Template(\n",
            "        (layer): LazyConv2d(0, 32, kernel_size=(3, 3), stride=(1, 1), padding=(1, 1))\n",
            "        (activation): ReLU()\n",
            "        (pool): MaxPool2d(kernel_size=2, stride=2, padding=0, dilation=1, ceil_mode=False)\n",
            "      )\n",
            "      (3): Template(\n",
            "        (layer): LazyConv2d(0, 64, kernel_size=(3, 3), stride=(1, 1), padding=(1, 1))\n",
            "        (activation): ReLU()\n",
            "        (pool): MaxPool2d(kernel_size=2, stride=2, padding=0, dilation=1, ceil_mode=False)\n",
            "      )\n",
            "    )\n",
            "  )\n",
            "  (connector): Flatten(start_dim=1, end_dim=-1)\n",
            "  (head): CategoricalClassificationHead(\n",
            "    (output): Template(\n",
            "      (layer): LazyLinear(in_features=0, out_features=10, bias=True)\n",
            "      (activation): Softmax(dim=-1)\n",
            "    )\n",
            "  )\n",
            "  (val_accuracy): Accuracy()\n",
            ")\n"
          ]
        }
      ],
      "source": [
        "from deeplay import ImageClassifier, Config\n",
        "\n",
        "config = (\n",
        "    Config()\n",
        "    .num_classes(10)\n",
        "    .optimizer.lr(0.005)\n",
        ")\n",
        "\n",
        "classifier = ImageClassifier.from_config(config)\n",
        "\n",
        "print(classifier)"
      ]
    },
    {
      "cell_type": "markdown",
      "metadata": {},
      "source": [
        "**Note**: The Config object allows you to adjust numerous parameters in a chainable manner, streamlining the process of refining pre-built models."
      ]
    },
    {
      "cell_type": "markdown",
      "metadata": {},
      "source": [
        "### Example: Changing the activation function of the backbone"
      ]
    },
    {
      "cell_type": "markdown",
      "metadata": {},
      "source": [
        "For those who wish to go further in customization, you can even change core aspects like the activation function in the backbone:"
      ]
    },
    {
      "cell_type": "code",
      "execution_count": 15,
      "metadata": {},
      "outputs": [
        {
          "name": "stdout",
          "output_type": "stream",
          "text": [
            "ImageClassifier(\n",
            "  (backbone): ConvolutionalEncoder(\n",
            "    (blocks): ModuleList(\n",
            "      (0): Template(\n",
            "        (layer): LazyConv2d(0, 8, kernel_size=(3, 3), stride=(1, 1), padding=(1, 1))\n",
            "        (activation): LeakyReLU(negative_slope=0.1)\n",
            "        (pool): MaxPool2d(kernel_size=2, stride=2, padding=0, dilation=1, ceil_mode=False)\n",
            "      )\n",
            "      (1): Template(\n",
            "        (layer): LazyConv2d(0, 16, kernel_size=(3, 3), stride=(1, 1), padding=(1, 1))\n",
            "        (activation): LeakyReLU(negative_slope=0.1)\n",
            "        (pool): MaxPool2d(kernel_size=2, stride=2, padding=0, dilation=1, ceil_mode=False)\n",
            "      )\n",
            "      (2): Template(\n",
            "        (layer): LazyConv2d(0, 32, kernel_size=(3, 3), stride=(1, 1), padding=(1, 1))\n",
            "        (activation): LeakyReLU(negative_slope=0.1)\n",
            "        (pool): MaxPool2d(kernel_size=2, stride=2, padding=0, dilation=1, ceil_mode=False)\n",
            "      )\n",
            "      (3): Template(\n",
            "        (layer): LazyConv2d(0, 64, kernel_size=(3, 3), stride=(1, 1), padding=(1, 1))\n",
            "        (activation): LeakyReLU(negative_slope=0.1)\n",
            "        (pool): MaxPool2d(kernel_size=2, stride=2, padding=0, dilation=1, ceil_mode=False)\n",
            "      )\n",
            "    )\n",
            "  )\n",
            "  (connector): Flatten(start_dim=1, end_dim=-1)\n",
            "  (head): CategoricalClassificationHead(\n",
            "    (output): Template(\n",
            "      (layer): LazyLinear(in_features=0, out_features=10, bias=True)\n",
            "      (activation): Softmax(dim=-1)\n",
            "    )\n",
            "  )\n",
            "  (val_accuracy): Accuracy()\n",
            ")\n"
          ]
        }
      ],
      "source": [
        "import torch.nn as nn\n",
        "from deeplay import ImageClassifier, Config\n",
        "\n",
        "config = (\n",
        "    Config()\n",
        "    .num_classes(10)\n",
        "    .optimizer.lr(0.005)\n",
        "    .backbone.blocks.activation(nn.LeakyReLU, negative_slope=0.1)\n",
        ")\n",
        "\n",
        "classifier = ImageClassifier.from_config(config)\n",
        "\n",
        "print(classifier)"
      ]
    },
    {
      "cell_type": "markdown",
      "metadata": {},
      "source": [
        "### Example: Build From Components Using Templates"
      ]
    },
    {
      "cell_type": "markdown",
      "metadata": {},
      "source": [
        "If you need to construct entirely custom models, Deeplay offers a way to combine different components using templates."
      ]
    },
    {
      "cell_type": "code",
      "execution_count": 16,
      "metadata": {},
      "outputs": [
        {
          "name": "stdout",
          "output_type": "stream",
          "text": [
            "Template(\n",
            "  (encoder): ConvolutionalEncoder(\n",
            "    (blocks): ModuleList(\n",
            "      (0): Template(\n",
            "        (layer): LazyConv2d(0, 8, kernel_size=(3, 3), stride=(1, 1), padding=(1, 1))\n",
            "        (activation): ReLU()\n",
            "        (pool): MaxPool2d(kernel_size=2, stride=2, padding=0, dilation=1, ceil_mode=False)\n",
            "      )\n",
            "      (1): Template(\n",
            "        (layer): LazyConv2d(0, 16, kernel_size=(3, 3), stride=(1, 1), padding=(1, 1))\n",
            "        (activation): ReLU()\n",
            "        (pool): MaxPool2d(kernel_size=2, stride=2, padding=0, dilation=1, ceil_mode=False)\n",
            "      )\n",
            "      (2): Template(\n",
            "        (layer): LazyConv2d(0, 32, kernel_size=(3, 3), stride=(1, 1), padding=(1, 1))\n",
            "        (activation): ReLU()\n",
            "        (pool): MaxPool2d(kernel_size=2, stride=2, padding=0, dilation=1, ceil_mode=False)\n",
            "      )\n",
            "    )\n",
            "  )\n",
            "  (connector): Flatten(start_dim=1, end_dim=-1)\n",
            "  (head): CategoricalClassificationHead(\n",
            "    (output): Template(\n",
            "      (layer): LazyLinear(in_features=0, out_features=10, bias=True)\n",
            "      (activation): Softmax(dim=-1)\n",
            "    )\n",
            "  )\n",
            ")\n"
          ]
        }
      ],
      "source": [
        "from deeplay import ConvolutionalEncoder, CategoricalClassificationHead, Config, Layer\n",
        "\n",
        "template = Layer(\"encoder\") >> Layer(\"connector\") >> Layer(\"head\")\n",
        "\n",
        "config = (\n",
        "    Config()\n",
        "    .encoder(ConvolutionalEncoder, depth=3)\n",
        "    .connector(nn.Flatten)\n",
        "    .head(CategoricalClassificationHead, num_classes=10)\n",
        ")\n",
        "\n",
        "classifier = template.from_config(config)\n",
        "\n",
        "print(classifier)"
      ]
    },
    {
      "cell_type": "markdown",
      "metadata": {},
      "source": [
        "**Note**: This modular approach lets you create specialized architectures without writing boilerplate code, offering a balance between simplicity and customization."
      ]
    },
    {
      "cell_type": "markdown",
      "metadata": {},
      "source": [
        "With `deeplay`, you have the flexibility to design models that are well-suited for your specific tasks and challenges."
      ]
    }
  ],
  "metadata": {
    "kernelspec": {
      "display_name": "Python 3",
      "language": "python",
      "name": "python3"
    },
    "language_info": {
      "codemirror_mode": {
        "name": "ipython",
        "version": 3
      },
      "file_extension": ".py",
      "mimetype": "text/x-python",
      "name": "python",
      "nbconvert_exporter": "python",
      "pygments_lexer": "ipython3",
      "version": "3.10.5"
    },
    "orig_nbformat": 4
  },
  "nbformat": 4,
  "nbformat_minor": 2
}
