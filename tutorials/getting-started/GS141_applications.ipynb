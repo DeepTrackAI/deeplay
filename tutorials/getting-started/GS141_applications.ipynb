{
 "cells": [
  {
   "cell_type": "markdown",
   "metadata": {},
   "source": [
    "# Using Deeplay Applications\n",
    "\n",
    "Deeplay provides you many ready applications. Applications are the main Deeplay objects that define the neural network architecture as well as the training process, including the loss, the optimizer, and the training logic."
   ]
  },
  {
   "cell_type": "code",
   "execution_count": 1,
   "metadata": {},
   "outputs": [],
   "source": [
    "import deeplay as dl"
   ]
  },
  {
   "cell_type": "markdown",
   "metadata": {},
   "source": [
    "## Regression"
   ]
  },
  {
   "cell_type": "markdown",
   "metadata": {},
   "source": [
    "### `Regressor`\n",
    "\n",
    "The `Regressor` application is used to perform regression tasks. Its default loss is MAE."
   ]
  },
  {
   "cell_type": "code",
   "execution_count": 2,
   "metadata": {},
   "outputs": [
    {
     "name": "stdout",
     "output_type": "stream",
     "text": [
      "Regressor(\n",
      "  (loss): L1Loss()\n",
      "  (optimizer): Adam[Adam](lr=0.001)\n",
      "  (train_metrics): MetricCollection,\n",
      "    prefix=train\n",
      "  )\n",
      "  (val_metrics): MetricCollection,\n",
      "    prefix=val\n",
      "  )\n",
      "  (test_metrics): MetricCollection,\n",
      "    prefix=test\n",
      "  )\n",
      "  (model): SmallMLP(\n",
      "    (blocks): LayerList(\n",
      "      (0): LinearBlock(\n",
      "        (layer): Layer[Linear](in_features=10, out_features=32, bias=True)\n",
      "        (activation): Layer[LeakyReLU](negative_slope=0.05)\n",
      "        (normalization): Layer[BatchNorm1d]()\n",
      "      )\n",
      "      (1): LinearBlock(\n",
      "        (layer): Layer[Linear](in_features=32, out_features=32, bias=True)\n",
      "        (activation): Layer[LeakyReLU](negative_slope=0.05)\n",
      "        (normalization): Layer[BatchNorm1d]()\n",
      "      )\n",
      "      (2): LinearBlock(\n",
      "        (layer): Layer[Linear](in_features=32, out_features=1, bias=True)\n",
      "        (activation): Layer[Identity]()\n",
      "      )\n",
      "    )\n",
      "  )\n",
      ")\n"
     ]
    }
   ],
   "source": [
    "net = dl.models.SmallMLP(in_features=10, out_features=1)\n",
    "\n",
    "regressor = dl.Regressor(net)\n",
    "\n",
    "print(regressor)"
   ]
  },
  {
   "cell_type": "markdown",
   "metadata": {},
   "source": [
    "## Classification\n",
    "\n",
    "There are multiple types of classification tasks. The `Classifier` application is a general one, but there are also specific applications for binary, multiclass and multilabel classification tasks."
   ]
  },
  {
   "cell_type": "markdown",
   "metadata": {},
   "source": [
    "### `BinaryClassifier`"
   ]
  },
  {
   "cell_type": "code",
   "execution_count": 3,
   "metadata": {},
   "outputs": [
    {
     "name": "stdout",
     "output_type": "stream",
     "text": [
      "BinaryClassifier(\n",
      "  (loss): BCELoss()\n",
      "  (train_metrics): MetricCollection(\n",
      "    (BinaryAccuracy): BinaryAccuracy(),\n",
      "    prefix=train\n",
      "  )\n",
      "  (val_metrics): MetricCollection(\n",
      "    (BinaryAccuracy): BinaryAccuracy(),\n",
      "    prefix=val\n",
      "  )\n",
      "  (test_metrics): MetricCollection(\n",
      "    (BinaryAccuracy): BinaryAccuracy(),\n",
      "    prefix=test\n",
      "  )\n",
      "  (model): SmallMLP(\n",
      "    (blocks): LayerList(\n",
      "      (0): LinearBlock(\n",
      "        (layer): Layer[Linear](in_features=10, out_features=32, bias=True)\n",
      "        (activation): Layer[LeakyReLU](negative_slope=0.05)\n",
      "        (normalization): Layer[BatchNorm1d]()\n",
      "      )\n",
      "      (1): LinearBlock(\n",
      "        (layer): Layer[Linear](in_features=32, out_features=32, bias=True)\n",
      "        (activation): Layer[LeakyReLU](negative_slope=0.05)\n",
      "        (normalization): Layer[BatchNorm1d]()\n",
      "      )\n",
      "      (2): LinearBlock(\n",
      "        (layer): Layer[Linear](in_features=32, out_features=1, bias=True)\n",
      "        (activation): Layer[Identity]()\n",
      "      )\n",
      "    )\n",
      "  )\n",
      "  (optimizer): Adam[Adam](lr=0.001)\n",
      ")\n"
     ]
    }
   ],
   "source": [
    "net = dl.models.SmallMLP(in_features=10, out_features=1)  # 0 or 1 as output.\n",
    "\n",
    "classifier = dl.BinaryClassifier(net)\n",
    "\n",
    "print(classifier)"
   ]
  },
  {
   "cell_type": "markdown",
   "metadata": {},
   "source": [
    "### `CategoricalClassifier`"
   ]
  },
  {
   "cell_type": "code",
   "execution_count": 4,
   "metadata": {},
   "outputs": [
    {
     "name": "stdout",
     "output_type": "stream",
     "text": [
      "CategoricalClassifier(\n",
      "  (loss): CrossEntropyLoss()\n",
      "  (train_metrics): MetricCollection(\n",
      "    (MulticlassAccuracy): MulticlassAccuracy(),\n",
      "    prefix=train\n",
      "  )\n",
      "  (val_metrics): MetricCollection(\n",
      "    (MulticlassAccuracy): MulticlassAccuracy(),\n",
      "    prefix=val\n",
      "  )\n",
      "  (test_metrics): MetricCollection(\n",
      "    (MulticlassAccuracy): MulticlassAccuracy(),\n",
      "    prefix=test\n",
      "  )\n",
      "  (model): SmallMLP(\n",
      "    (blocks): LayerList(\n",
      "      (0): LinearBlock(\n",
      "        (layer): Layer[Linear](in_features=10, out_features=32, bias=True)\n",
      "        (activation): Layer[LeakyReLU](negative_slope=0.05)\n",
      "        (normalization): Layer[BatchNorm1d]()\n",
      "      )\n",
      "      (1): LinearBlock(\n",
      "        (layer): Layer[Linear](in_features=32, out_features=32, bias=True)\n",
      "        (activation): Layer[LeakyReLU](negative_slope=0.05)\n",
      "        (normalization): Layer[BatchNorm1d]()\n",
      "      )\n",
      "      (2): LinearBlock(\n",
      "        (layer): Layer[Linear](in_features=32, out_features=3, bias=True)\n",
      "        (activation): Layer[Identity]()\n",
      "      )\n",
      "    )\n",
      "  )\n",
      "  (optimizer): Adam[Adam](lr=0.001)\n",
      ")\n"
     ]
    }
   ],
   "source": [
    "net = dl.models.SmallMLP(in_features=10, out_features=3)\n",
    "\n",
    "classifier = dl.CategoricalClassifier(net, num_classes=3)  # Number of classes \n",
    "                                                           # matching the \n",
    "                                                           # number of output \n",
    "                                                           # features.\n",
    "\n",
    "print(classifier)"
   ]
  },
  {
   "cell_type": "markdown",
   "metadata": {},
   "source": [
    "### `MultiLabelClassifier`"
   ]
  },
  {
   "cell_type": "code",
   "execution_count": 5,
   "metadata": {},
   "outputs": [
    {
     "name": "stdout",
     "output_type": "stream",
     "text": [
      "MultiLabelClassifier(\n",
      "  (loss): BCELoss()\n",
      "  (train_metrics): MetricCollection(\n",
      "    (BinaryAccuracy): BinaryAccuracy(),\n",
      "    prefix=train\n",
      "  )\n",
      "  (val_metrics): MetricCollection(\n",
      "    (BinaryAccuracy): BinaryAccuracy(),\n",
      "    prefix=val\n",
      "  )\n",
      "  (test_metrics): MetricCollection(\n",
      "    (BinaryAccuracy): BinaryAccuracy(),\n",
      "    prefix=test\n",
      "  )\n",
      "  (model): SmallMLP(\n",
      "    (blocks): LayerList(\n",
      "      (0): LinearBlock(\n",
      "        (layer): Layer[Linear](in_features=10, out_features=32, bias=True)\n",
      "        (activation): Layer[LeakyReLU](negative_slope=0.05)\n",
      "        (normalization): Layer[BatchNorm1d]()\n",
      "      )\n",
      "      (1): LinearBlock(\n",
      "        (layer): Layer[Linear](in_features=32, out_features=32, bias=True)\n",
      "        (activation): Layer[LeakyReLU](negative_slope=0.05)\n",
      "        (normalization): Layer[BatchNorm1d]()\n",
      "      )\n",
      "      (2): LinearBlock(\n",
      "        (layer): Layer[Linear](in_features=32, out_features=3, bias=True)\n",
      "        (activation): Layer[Identity]()\n",
      "      )\n",
      "    )\n",
      "  )\n",
      "  (optimizer): Adam[Adam](lr=0.001)\n",
      ")\n"
     ]
    }
   ],
   "source": [
    "net = dl.models.SmallMLP(in_features=10, out_features=3)\n",
    "\n",
    "classifier = dl.MultiLabelClassifier(net)\n",
    "\n",
    "print(classifier)"
   ]
  },
  {
   "cell_type": "markdown",
   "metadata": {},
   "source": [
    "## Controlling the Loss Function\n",
    "\n",
    "One of the primary functions of specific applications is providing a good default loss function ..."
   ]
  },
  {
   "cell_type": "code",
   "execution_count": 6,
   "metadata": {},
   "outputs": [
    {
     "name": "stdout",
     "output_type": "stream",
     "text": [
      "Default loss: L1Loss()\n"
     ]
    }
   ],
   "source": [
    "regressor_with_default_loss = dl.Regressor(net).create()\n",
    "\n",
    "print(\"Default loss:\", regressor_with_default_loss.loss)"
   ]
  },
  {
   "cell_type": "markdown",
   "metadata": {},
   "source": [
    "... still you might want to customize the loss."
   ]
  },
  {
   "cell_type": "code",
   "execution_count": 7,
   "metadata": {},
   "outputs": [
    {
     "name": "stdout",
     "output_type": "stream",
     "text": [
      "Custom loss: MSELoss()\n"
     ]
    }
   ],
   "source": [
    "import torch\n",
    "\n",
    "regressor_with_custom_loss = dl.Regressor(\n",
    "    net, \n",
    "    loss=torch.nn.MSELoss(),\n",
    ").create()\n",
    "\n",
    "print(\"Custom loss:\", regressor_with_custom_loss.loss)"
   ]
  },
  {
   "cell_type": "markdown",
   "metadata": {},
   "source": [
    "### Customizing the Loss Function\n",
    "\n",
    "The loss function doesn't have to be a torch loss function. You can also define your own loss. The best way is subclassing `torch.nn.Module` and implementing the `forward()` method ..."
   ]
  },
  {
   "cell_type": "code",
   "execution_count": 8,
   "metadata": {},
   "outputs": [
    {
     "name": "stdout",
     "output_type": "stream",
     "text": [
      "Custom loss class: MyLossClass()\n"
     ]
    }
   ],
   "source": [
    "class MyLossClass(torch.nn.Module):\n",
    "    \"\"\"My custom loss class.\"\"\"\n",
    "    \n",
    "    def forward(self, y_pred, y_true):\n",
    "        \"\"\"Perform forward pass.\"\"\"\n",
    "        return torch.nn.functional.mse_loss(y_pred, y_true) + 1\n",
    "    \n",
    "regressor_with_custom_loss_class = dl.Regressor(\n",
    "    net, \n",
    "    loss=MyLossClass(),\n",
    ").create()\n",
    "\n",
    "print(\"Custom loss class:\", regressor_with_custom_loss_class.loss)"
   ]
  },
  {
   "cell_type": "markdown",
   "metadata": {},
   "source": [
    "... but you can also use a function."
   ]
  },
  {
   "cell_type": "code",
   "execution_count": 9,
   "metadata": {},
   "outputs": [
    {
     "name": "stdout",
     "output_type": "stream",
     "text": [
      "Custom loss function: <function my_loss_fn at 0x2bc9d6020>\n"
     ]
    }
   ],
   "source": [
    "def my_loss_fn(y_pred, y_true):\n",
    "    \"\"\"Calculate my custom loss.\"\"\"\n",
    "    return torch.nn.functional.mse_loss(y_pred, y_true) + 1\n",
    "\n",
    "regressor_with_custom_loss_fn = dl.Regressor(\n",
    "    net, \n",
    "    loss=my_loss_fn,\n",
    ").create()\n",
    "\n",
    "print(\"Custom loss function:\", regressor_with_custom_loss_fn.loss)"
   ]
  },
  {
   "cell_type": "markdown",
   "metadata": {},
   "source": [
    "### Overriding the Class Implementation of the Loss Function\n",
    "\n",
    "In some cases, the application might not provide the desired flexibility. In this case, you can subclass the application and override the `.compute_loss()` method."
   ]
  },
  {
   "cell_type": "code",
   "execution_count": 10,
   "metadata": {},
   "outputs": [
    {
     "name": "stdout",
     "output_type": "stream",
     "text": [
      "Custom loss regressor: L1Loss()\n"
     ]
    }
   ],
   "source": [
    "class MyRegressor(dl.Regressor):\n",
    "    \"\"\"My regressor application with custom loss function.\"\"\"\n",
    "    \n",
    "    def compute_loss(self, y_hat, y):\n",
    "        \"\"\"Compute my custom loss.\"\"\"\n",
    "        return torch.nn.functional.mse_loss(y_hat, y) + 1\n",
    "\n",
    "my_regressor_with_custom_loss = MyRegressor(net).create()\n",
    "\n",
    "print(\"Custom loss regressor:\", my_regressor_with_custom_loss.loss)"
   ]
  },
  {
   "cell_type": "markdown",
   "metadata": {},
   "source": [
    "**NOTE:** In this case, however, the `.loss` atttribute will still be set to the default loss, so you won't see the correct loss when you print it."
   ]
  },
  {
   "cell_type": "markdown",
   "metadata": {},
   "source": [
    "## Copntrolling the Optimizer\n",
    "\n",
    "Deeplay provides some wrappers around the PyTorch optimizers. Their main use is to be able to create the optimizer before the model is built and the parameters are known. Examples of optimizers available in Deeplay are:"
   ]
  },
  {
   "cell_type": "code",
   "execution_count": 11,
   "metadata": {},
   "outputs": [
    {
     "name": "stdout",
     "output_type": "stream",
     "text": [
      "Adam[Adam](lr=0.01)\n"
     ]
    }
   ],
   "source": [
    "adam = dl.Adam(lr=0.01)\n",
    "\n",
    "print(adam)"
   ]
  },
  {
   "cell_type": "code",
   "execution_count": 12,
   "metadata": {},
   "outputs": [
    {
     "name": "stdout",
     "output_type": "stream",
     "text": [
      "SGD[SGD](lr=0.01, momentum=0.9)\n"
     ]
    }
   ],
   "source": [
    "sgd = dl.SGD(lr=0.01, momentum=0.9)\n",
    "\n",
    "print(sgd)"
   ]
  },
  {
   "cell_type": "code",
   "execution_count": 13,
   "metadata": {},
   "outputs": [
    {
     "name": "stdout",
     "output_type": "stream",
     "text": [
      "RMSprop[RMSprop](lr=0.01)\n"
     ]
    }
   ],
   "source": [
    "rmsprop = dl.RMSprop(lr=0.01)\n",
    "\n",
    "print(rmsprop)"
   ]
  },
  {
   "cell_type": "markdown",
   "metadata": {},
   "source": [
    "Furthermore, Deeplay also supports arbitrary optimizers through the `Optimizer` class."
   ]
  },
  {
   "cell_type": "code",
   "execution_count": 14,
   "metadata": {},
   "outputs": [
    {
     "name": "stdout",
     "output_type": "stream",
     "text": [
      "Optimizer[Adagrad](lr=0.01)\n"
     ]
    }
   ],
   "source": [
    "adagrad = dl.Optimizer(torch.optim.Adagrad, lr=0.01)\n",
    "\n",
    "print(adagrad)"
   ]
  },
  {
   "cell_type": "markdown",
   "metadata": {},
   "source": [
    "You can assign an optimizer to an application using the `optimizer` parameter."
   ]
  },
  {
   "cell_type": "code",
   "execution_count": 15,
   "metadata": {},
   "outputs": [
    {
     "name": "stdout",
     "output_type": "stream",
     "text": [
      "Regressor(\n",
      "  (loss): L1Loss()\n",
      "  (optimizer): Adam[Adam](lr=0.01)\n",
      "  (train_metrics): MetricCollection,\n",
      "    prefix=train\n",
      "  )\n",
      "  (val_metrics): MetricCollection,\n",
      "    prefix=val\n",
      "  )\n",
      "  (test_metrics): MetricCollection,\n",
      "    prefix=test\n",
      "  )\n",
      "  (model): SmallMLP(\n",
      "    (blocks): LayerList(\n",
      "      (0): LinearBlock(\n",
      "        (layer): Linear(in_features=10, out_features=32, bias=True)\n",
      "        (activation): LeakyReLU(negative_slope=0.05)\n",
      "        (normalization): BatchNorm1d(32, eps=1e-05, momentum=0.1, affine=True, track_running_stats=True)\n",
      "      )\n",
      "      (1): LinearBlock(\n",
      "        (layer): Linear(in_features=32, out_features=32, bias=True)\n",
      "        (activation): LeakyReLU(negative_slope=0.05)\n",
      "        (normalization): BatchNorm1d(32, eps=1e-05, momentum=0.1, affine=True, track_running_stats=True)\n",
      "      )\n",
      "      (2): LinearBlock(\n",
      "        (layer): Linear(in_features=32, out_features=3, bias=True)\n",
      "        (activation): Identity()\n",
      "      )\n",
      "    )\n",
      "  )\n",
      ")\n"
     ]
    }
   ],
   "source": [
    "model = dl.Regressor(net, optimizer=adam).create()\n",
    "\n",
    "print(model)"
   ]
  },
  {
   "cell_type": "markdown",
   "metadata": {},
   "source": [
    "### Setting the Optimizer Through Subclassing\n",
    "\n",
    "For complete control, you can subclass the application and implement the `.configure_optimizers()` method.  In this case, you should in general use the PyTorch optimizers directly, since the parameters are known at this point in the lifecycle of the application."
   ]
  },
  {
   "cell_type": "code",
   "execution_count": 16,
   "metadata": {},
   "outputs": [
    {
     "name": "stdout",
     "output_type": "stream",
     "text": [
      "MyRegressor(\n",
      "  (loss): L1Loss()\n",
      "  (optimizer): Adam[Adam](lr=0.001)\n",
      "  (train_metrics): MetricCollection,\n",
      "    prefix=train\n",
      "  )\n",
      "  (val_metrics): MetricCollection,\n",
      "    prefix=val\n",
      "  )\n",
      "  (test_metrics): MetricCollection,\n",
      "    prefix=test\n",
      "  )\n",
      "  (model): SmallMLP(\n",
      "    (blocks): LayerList(\n",
      "      (0): LinearBlock(\n",
      "        (layer): Linear(in_features=10, out_features=32, bias=True)\n",
      "        (activation): LeakyReLU(negative_slope=0.05)\n",
      "        (normalization): BatchNorm1d(32, eps=1e-05, momentum=0.1, affine=True, track_running_stats=True)\n",
      "      )\n",
      "      (1): LinearBlock(\n",
      "        (layer): Linear(in_features=32, out_features=32, bias=True)\n",
      "        (activation): LeakyReLU(negative_slope=0.05)\n",
      "        (normalization): BatchNorm1d(32, eps=1e-05, momentum=0.1, affine=True, track_running_stats=True)\n",
      "      )\n",
      "      (2): LinearBlock(\n",
      "        (layer): Linear(in_features=32, out_features=1, bias=True)\n",
      "        (activation): Identity()\n",
      "      )\n",
      "    )\n",
      "  )\n",
      ")\n"
     ]
    }
   ],
   "source": [
    "class MyRegressor(dl.Regressor):\n",
    "    \"\"\"My regressor with custom optimizer.\"\"\"\n",
    "    \n",
    "    def configure_optimizers(self):\n",
    "        \"\"\"Configure my custom optimizer.\"\"\"\n",
    "        return torch.optim.Adam(self.parameters(), lr=0.01)\n",
    "\n",
    "net = dl.models.SmallMLP(in_features=10, out_features=1)\n",
    "\n",
    "model = MyRegressor(net).create()\n",
    "\n",
    "print(model)"
   ]
  },
  {
   "cell_type": "markdown",
   "metadata": {},
   "source": [
    "## Controlling the Metrics\n",
    "\n",
    "Most applications support metrics. These can be calculated for a specific dataset (like the training or validation set) or for all datasets. All metrics should be instances of `torchmetrics.Metric`.\n",
    "\n",
    "You can define the metrics as part of the application ..."
   ]
  },
  {
   "cell_type": "code",
   "execution_count": 17,
   "metadata": {},
   "outputs": [],
   "source": [
    "import torchmetrics\n",
    "\n",
    "mse_metric = torchmetrics.regression.MeanSquaredError()\n",
    "mape_metric = torchmetrics.regression.MeanAbsolutePercentageError()\n",
    "r2_metric = torchmetrics.regression.R2Score()\n",
    "var_metric = torchmetrics.regression.ExplainedVariance()\n",
    "\n",
    "net = dl.models.SmallMLP(in_features=10, out_features=1)\n",
    "\n",
    "model = dl.Regressor(\n",
    "    net,\n",
    "    metrics=[mse_metric],  # On train, val and test.\n",
    "    train_metrics=[mape_metric],  # On train only.\n",
    "    val_metrics=[r2_metric],  # On val only.\n",
    "    test_metrics=[var_metric],  # On test only.\n",
    ").create()"
   ]
  },
  {
   "cell_type": "markdown",
   "metadata": {},
   "source": [
    "... and see how they are used during training using the `Application.fit()` method ..."
   ]
  },
  {
   "cell_type": "code",
   "execution_count": 18,
   "metadata": {},
   "outputs": [
    {
     "name": "stderr",
     "output_type": "stream",
     "text": [
      "/Users/giovannivolpe/Documents/GitHub/deeplay/py_env_dlcc/lib/python3.12/site-packages/lightning/pytorch/trainer/connectors/logger_connector/logger_connector.py:75: Starting from v1.9.0, `tensorboardX` has been removed as a dependency of the `lightning.pytorch` package, due to potential conflicts with other packages in the ML ecosystem. For this reason, `logger=True` will use `CSVLogger` as the default logger, unless the `tensorboard` or `tensorboardX` packages are found. Please `pip install lightning[extra]` or one of them to enable TensorBoard support by default\n"
     ]
    },
    {
     "data": {
      "text/html": [
       "<pre style=\"white-space:pre;overflow-x:auto;line-height:normal;font-family:Menlo,'DejaVu Sans Mono',consolas,'Courier New',monospace\">┏━━━┳━━━━━━━━━━━━━━━┳━━━━━━━━━━━━━━━━━━┳━━━━━━━━┓\n",
       "┃<span style=\"color: #800080; text-decoration-color: #800080; font-weight: bold\">   </span>┃<span style=\"color: #800080; text-decoration-color: #800080; font-weight: bold\"> Name          </span>┃<span style=\"color: #800080; text-decoration-color: #800080; font-weight: bold\"> Type             </span>┃<span style=\"color: #800080; text-decoration-color: #800080; font-weight: bold\"> Params </span>┃\n",
       "┡━━━╇━━━━━━━━━━━━━━━╇━━━━━━━━━━━━━━━━━━╇━━━━━━━━┩\n",
       "│<span style=\"color: #7f7f7f; text-decoration-color: #7f7f7f\"> 0 </span>│ loss          │ L1Loss           │      0 │\n",
       "│<span style=\"color: #7f7f7f; text-decoration-color: #7f7f7f\"> 1 </span>│ train_metrics │ MetricCollection │      0 │\n",
       "│<span style=\"color: #7f7f7f; text-decoration-color: #7f7f7f\"> 2 </span>│ val_metrics   │ MetricCollection │      0 │\n",
       "│<span style=\"color: #7f7f7f; text-decoration-color: #7f7f7f\"> 3 </span>│ test_metrics  │ MetricCollection │      0 │\n",
       "│<span style=\"color: #7f7f7f; text-decoration-color: #7f7f7f\"> 4 </span>│ model         │ SmallMLP         │  1.6 K │\n",
       "│<span style=\"color: #7f7f7f; text-decoration-color: #7f7f7f\"> 5 </span>│ optimizer     │ Adam             │      0 │\n",
       "└───┴───────────────┴──────────────────┴────────┘\n",
       "</pre>\n"
      ],
      "text/plain": [
       "┏━━━┳━━━━━━━━━━━━━━━┳━━━━━━━━━━━━━━━━━━┳━━━━━━━━┓\n",
       "┃\u001b[1;35m \u001b[0m\u001b[1;35m \u001b[0m\u001b[1;35m \u001b[0m┃\u001b[1;35m \u001b[0m\u001b[1;35mName         \u001b[0m\u001b[1;35m \u001b[0m┃\u001b[1;35m \u001b[0m\u001b[1;35mType            \u001b[0m\u001b[1;35m \u001b[0m┃\u001b[1;35m \u001b[0m\u001b[1;35mParams\u001b[0m\u001b[1;35m \u001b[0m┃\n",
       "┡━━━╇━━━━━━━━━━━━━━━╇━━━━━━━━━━━━━━━━━━╇━━━━━━━━┩\n",
       "│\u001b[2m \u001b[0m\u001b[2m0\u001b[0m\u001b[2m \u001b[0m│ loss          │ L1Loss           │      0 │\n",
       "│\u001b[2m \u001b[0m\u001b[2m1\u001b[0m\u001b[2m \u001b[0m│ train_metrics │ MetricCollection │      0 │\n",
       "│\u001b[2m \u001b[0m\u001b[2m2\u001b[0m\u001b[2m \u001b[0m│ val_metrics   │ MetricCollection │      0 │\n",
       "│\u001b[2m \u001b[0m\u001b[2m3\u001b[0m\u001b[2m \u001b[0m│ test_metrics  │ MetricCollection │      0 │\n",
       "│\u001b[2m \u001b[0m\u001b[2m4\u001b[0m\u001b[2m \u001b[0m│ model         │ SmallMLP         │  1.6 K │\n",
       "│\u001b[2m \u001b[0m\u001b[2m5\u001b[0m\u001b[2m \u001b[0m│ optimizer     │ Adam             │      0 │\n",
       "└───┴───────────────┴──────────────────┴────────┘\n"
      ]
     },
     "metadata": {},
     "output_type": "display_data"
    },
    {
     "data": {
      "text/html": [
       "<pre style=\"white-space:pre;overflow-x:auto;line-height:normal;font-family:Menlo,'DejaVu Sans Mono',consolas,'Courier New',monospace\"><span style=\"font-weight: bold\">Trainable params</span>: 1.6 K                                                                                            \n",
       "<span style=\"font-weight: bold\">Non-trainable params</span>: 0                                                                                            \n",
       "<span style=\"font-weight: bold\">Total params</span>: 1.6 K                                                                                                \n",
       "<span style=\"font-weight: bold\">Total estimated model params size (MB)</span>: 0                                                                          \n",
       "</pre>\n"
      ],
      "text/plain": [
       "\u001b[1mTrainable params\u001b[0m: 1.6 K                                                                                            \n",
       "\u001b[1mNon-trainable params\u001b[0m: 0                                                                                            \n",
       "\u001b[1mTotal params\u001b[0m: 1.6 K                                                                                                \n",
       "\u001b[1mTotal estimated model params size (MB)\u001b[0m: 0                                                                          \n"
      ]
     },
     "metadata": {},
     "output_type": "display_data"
    },
    {
     "data": {
      "application/vnd.jupyter.widget-view+json": {
       "model_id": "f28aed6743e24456afec52e212fb20b3",
       "version_major": 2,
       "version_minor": 0
      },
      "text/plain": [
       "Output()"
      ]
     },
     "metadata": {},
     "output_type": "display_data"
    },
    {
     "data": {
      "text/html": [
       "<pre style=\"white-space:pre;overflow-x:auto;line-height:normal;font-family:Menlo,'DejaVu Sans Mono',consolas,'Courier New',monospace\">/Users/giovannivolpe/Documents/GitHub/deeplay/py_env_dlcc/lib/python3.12/site-packages/lightning/pytorch/trainer/co\n",
       "nnectors/data_connector.py:441: The 'val_dataloader' does not have many workers which may be a bottleneck. Consider\n",
       "increasing the value of the `num_workers` argument` to `num_workers=10` in the `DataLoader` to improve performance.\n",
       "</pre>\n"
      ],
      "text/plain": [
       "/Users/giovannivolpe/Documents/GitHub/deeplay/py_env_dlcc/lib/python3.12/site-packages/lightning/pytorch/trainer/co\n",
       "nnectors/data_connector.py:441: The 'val_dataloader' does not have many workers which may be a bottleneck. Consider\n",
       "increasing the value of the `num_workers` argument` to `num_workers=10` in the `DataLoader` to improve performance.\n"
      ]
     },
     "metadata": {},
     "output_type": "display_data"
    },
    {
     "data": {
      "text/html": [
       "<pre style=\"white-space:pre;overflow-x:auto;line-height:normal;font-family:Menlo,'DejaVu Sans Mono',consolas,'Courier New',monospace\">/Users/giovannivolpe/Documents/GitHub/deeplay/py_env_dlcc/lib/python3.12/site-packages/lightning/pytorch/trainer/co\n",
       "nnectors/data_connector.py:441: The 'train_dataloader' does not have many workers which may be a bottleneck. \n",
       "Consider increasing the value of the `num_workers` argument` to `num_workers=10` in the `DataLoader` to improve \n",
       "performance.\n",
       "</pre>\n"
      ],
      "text/plain": [
       "/Users/giovannivolpe/Documents/GitHub/deeplay/py_env_dlcc/lib/python3.12/site-packages/lightning/pytorch/trainer/co\n",
       "nnectors/data_connector.py:441: The 'train_dataloader' does not have many workers which may be a bottleneck. \n",
       "Consider increasing the value of the `num_workers` argument` to `num_workers=10` in the `DataLoader` to improve \n",
       "performance.\n"
      ]
     },
     "metadata": {},
     "output_type": "display_data"
    },
    {
     "data": {
      "text/html": [
       "<pre style=\"white-space:pre;overflow-x:auto;line-height:normal;font-family:Menlo,'DejaVu Sans Mono',consolas,'Courier New',monospace\"></pre>\n"
      ],
      "text/plain": []
     },
     "metadata": {},
     "output_type": "display_data"
    },
    {
     "data": {
      "text/html": [
       "<pre style=\"white-space:pre;overflow-x:auto;line-height:normal;font-family:Menlo,'DejaVu Sans Mono',consolas,'Courier New',monospace\">\n",
       "</pre>\n"
      ],
      "text/plain": [
       "\n"
      ]
     },
     "metadata": {},
     "output_type": "display_data"
    },
    {
     "data": {
      "text/plain": [
       "(<Figure size 1500x1000 with 4 Axes>,\n",
       " array([[<Axes: title={'center': 'Loss'}, xlabel='Step'>,\n",
       "         <Axes: title={'center': 'Meansquarederror'}, xlabel='Step'>],\n",
       "        [<Axes: title={'center': 'R2score'}, xlabel='Step'>,\n",
       "         <Axes: title={'center': 'Meanabsolutepercentageerror'}, xlabel='Step'>]],\n",
       "       dtype=object))"
      ]
     },
     "execution_count": 18,
     "metadata": {},
     "output_type": "execute_result"
    },
    {
     "data": {
      "image/png": "[encoded data removed]",
      "text/plain": [
       "<Figure size 1500x1000 with 4 Axes>"
      ]
     },
     "metadata": {},
     "output_type": "display_data"
    }
   ],
   "source": [
    "import numpy\n",
    "\n",
    "x_numpy = numpy.random.randn(1000, 10)  # Input train data.\n",
    "y_numpy = x_numpy.max(axis=1, keepdims=True)  # Target train data.\n",
    "\n",
    "x_numpy_val = numpy.random.randn(100, 10)  # Input val data.\n",
    "y_numpy_val = x_numpy_val.max(axis=1, keepdims=True)  # Target val data.\n",
    "\n",
    "model.fit(\n",
    "    (x_numpy, y_numpy), \n",
    "    max_epochs=20, \n",
    "    batch_size=10, \n",
    "    val_data=(x_numpy_val, y_numpy_val), \n",
    "    val_batch_size=50,\n",
    ")\n",
    "model.trainer.history.plot()"
   ]
  },
  {
   "cell_type": "markdown",
   "metadata": {},
   "source": [
    "... and during testing using the `Application.test()` method ..."
   ]
  },
  {
   "cell_type": "code",
   "execution_count": 19,
   "metadata": {},
   "outputs": [
    {
     "data": {
      "application/vnd.jupyter.widget-view+json": {
       "model_id": "5c7d2f0e610d4067bd4027bb08713c97",
       "version_major": 2,
       "version_minor": 0
      },
      "text/plain": [
       "Output()"
      ]
     },
     "metadata": {},
     "output_type": "display_data"
    },
    {
     "name": "stderr",
     "output_type": "stream",
     "text": [
      "/Users/giovannivolpe/Documents/GitHub/deeplay/py_env_dlcc/lib/python3.12/site-packages/lightning/pytorch/trainer/connectors/data_connector.py:492: Your `test_dataloader`'s sampler has shuffling enabled, it is strongly recommended that you turn shuffling off for val/test dataloaders.\n",
      "/Users/giovannivolpe/Documents/GitHub/deeplay/py_env_dlcc/lib/python3.12/site-packages/lightning/pytorch/trainer/connectors/data_connector.py:441: The 'test_dataloader' does not have many workers which may be a bottleneck. Consider increasing the value of the `num_workers` argument` to `num_workers=10` in the `DataLoader` to improve performance.\n"
     ]
    },
    {
     "data": {
      "text/html": [
       "<pre style=\"white-space:pre;overflow-x:auto;line-height:normal;font-family:Menlo,'DejaVu Sans Mono',consolas,'Courier New',monospace\">┏━━━━━━━━━━━━━━━━━━━━━━━━━━━━━┳━━━━━━━━━━━━━━━━━━━━━━━━━━━━━┓\n",
       "┃<span style=\"font-weight: bold\">         Test metric         </span>┃<span style=\"font-weight: bold\">        DataLoader 0         </span>┃\n",
       "┡━━━━━━━━━━━━━━━━━━━━━━━━━━━━━╇━━━━━━━━━━━━━━━━━━━━━━━━━━━━━┩\n",
       "│<span style=\"color: #008080; text-decoration-color: #008080\"> testExplainedVariance_epoch </span>│<span style=\"color: #800080; text-decoration-color: #800080\">     -0.6924451589584351     </span>│\n",
       "│<span style=\"color: #008080; text-decoration-color: #008080\"> testMeanSquaredError_epoch  </span>│<span style=\"color: #800080; text-decoration-color: #800080\">     0.5416191816329956      </span>│\n",
       "│<span style=\"color: #008080; text-decoration-color: #008080\">       test_loss_epoch       </span>│<span style=\"color: #800080; text-decoration-color: #800080\">     0.5780741572380066      </span>│\n",
       "└─────────────────────────────┴─────────────────────────────┘\n",
       "</pre>\n"
      ],
      "text/plain": [
       "┏━━━━━━━━━━━━━━━━━━━━━━━━━━━━━┳━━━━━━━━━━━━━━━━━━━━━━━━━━━━━┓\n",
       "┃\u001b[1m \u001b[0m\u001b[1m        Test metric        \u001b[0m\u001b[1m \u001b[0m┃\u001b[1m \u001b[0m\u001b[1m       DataLoader 0        \u001b[0m\u001b[1m \u001b[0m┃\n",
       "┡━━━━━━━━━━━━━━━━━━━━━━━━━━━━━╇━━━━━━━━━━━━━━━━━━━━━━━━━━━━━┩\n",
       "│\u001b[36m \u001b[0m\u001b[36mtestExplainedVariance_epoch\u001b[0m\u001b[36m \u001b[0m│\u001b[35m \u001b[0m\u001b[35m    -0.6924451589584351    \u001b[0m\u001b[35m \u001b[0m│\n",
       "│\u001b[36m \u001b[0m\u001b[36mtestMeanSquaredError_epoch \u001b[0m\u001b[36m \u001b[0m│\u001b[35m \u001b[0m\u001b[35m    0.5416191816329956     \u001b[0m\u001b[35m \u001b[0m│\n",
       "│\u001b[36m \u001b[0m\u001b[36m      test_loss_epoch      \u001b[0m\u001b[36m \u001b[0m│\u001b[35m \u001b[0m\u001b[35m    0.5780741572380066     \u001b[0m\u001b[35m \u001b[0m│\n",
       "└─────────────────────────────┴─────────────────────────────┘\n"
      ]
     },
     "metadata": {},
     "output_type": "display_data"
    },
    {
     "data": {
      "text/html": [
       "<pre style=\"white-space:pre;overflow-x:auto;line-height:normal;font-family:Menlo,'DejaVu Sans Mono',consolas,'Courier New',monospace\"></pre>\n"
      ],
      "text/plain": []
     },
     "metadata": {},
     "output_type": "display_data"
    },
    {
     "data": {
      "text/html": [
       "<pre style=\"white-space:pre;overflow-x:auto;line-height:normal;font-family:Menlo,'DejaVu Sans Mono',consolas,'Courier New',monospace\">\n",
       "</pre>\n"
      ],
      "text/plain": [
       "\n"
      ]
     },
     "metadata": {},
     "output_type": "display_data"
    },
    {
     "name": "stdout",
     "output_type": "stream",
     "text": [
      "Test results: {'test_loss_epoch': 0.5780741572380066, 'testMeanSquaredError_epoch': 0.5416191816329956, 'testExplainedVariance_epoch': -0.6924451589584351}\n",
      "\n"
     ]
    }
   ],
   "source": [
    "x_numpy_test = numpy.random.randn(100, 10)  # Input test data.\n",
    "y_numpy_test = x_numpy_val.max(axis=1, keepdims=True)  # Target test data.\n",
    "\n",
    "test_results = model.test((x_numpy_test, y_numpy_test))\n",
    "print(f\"Test results: {test_results}\\n\")                                        # Benjamin: Should this also work? If not, why not?"
   ]
  },
  {
   "cell_type": "markdown",
   "metadata": {},
   "source": [
    "... or the data loaders."
   ]
  },
  {
   "cell_type": "code",
   "execution_count": 20,
   "metadata": {},
   "outputs": [
    {
     "data": {
      "application/vnd.jupyter.widget-view+json": {
       "model_id": "7fe148a7c7a047f78cc0aff2a2850b07",
       "version_major": 2,
       "version_minor": 0
      },
      "text/plain": [
       "Output()"
      ]
     },
     "metadata": {},
     "output_type": "display_data"
    },
    {
     "data": {
      "text/html": [
       "<pre style=\"white-space:pre;overflow-x:auto;line-height:normal;font-family:Menlo,'DejaVu Sans Mono',consolas,'Courier New',monospace\">┏━━━━━━━━━━━━━━━━━━━━━━━━━━━━━┳━━━━━━━━━━━━━━━━━━━━━━━━━━━━━┓\n",
       "┃<span style=\"font-weight: bold\">         Test metric         </span>┃<span style=\"font-weight: bold\">        DataLoader 0         </span>┃\n",
       "┡━━━━━━━━━━━━━━━━━━━━━━━━━━━━━╇━━━━━━━━━━━━━━━━━━━━━━━━━━━━━┩\n",
       "│<span style=\"color: #008080; text-decoration-color: #008080\"> testExplainedVariance_epoch </span>│<span style=\"color: #800080; text-decoration-color: #800080\">     -0.6012520790100098     </span>│\n",
       "│<span style=\"color: #008080; text-decoration-color: #008080\"> testMeanSquaredError_epoch  </span>│<span style=\"color: #800080; text-decoration-color: #800080\">     0.5141118764877319      </span>│\n",
       "│<span style=\"color: #008080; text-decoration-color: #008080\">       test_loss_epoch       </span>│<span style=\"color: #800080; text-decoration-color: #800080\">     0.5338619947433472      </span>│\n",
       "└─────────────────────────────┴─────────────────────────────┘\n",
       "</pre>\n"
      ],
      "text/plain": [
       "┏━━━━━━━━━━━━━━━━━━━━━━━━━━━━━┳━━━━━━━━━━━━━━━━━━━━━━━━━━━━━┓\n",
       "┃\u001b[1m \u001b[0m\u001b[1m        Test metric        \u001b[0m\u001b[1m \u001b[0m┃\u001b[1m \u001b[0m\u001b[1m       DataLoader 0        \u001b[0m\u001b[1m \u001b[0m┃\n",
       "┡━━━━━━━━━━━━━━━━━━━━━━━━━━━━━╇━━━━━━━━━━━━━━━━━━━━━━━━━━━━━┩\n",
       "│\u001b[36m \u001b[0m\u001b[36mtestExplainedVariance_epoch\u001b[0m\u001b[36m \u001b[0m│\u001b[35m \u001b[0m\u001b[35m    -0.6012520790100098    \u001b[0m\u001b[35m \u001b[0m│\n",
       "│\u001b[36m \u001b[0m\u001b[36mtestMeanSquaredError_epoch \u001b[0m\u001b[36m \u001b[0m│\u001b[35m \u001b[0m\u001b[35m    0.5141118764877319     \u001b[0m\u001b[35m \u001b[0m│\n",
       "│\u001b[36m \u001b[0m\u001b[36m      test_loss_epoch      \u001b[0m\u001b[36m \u001b[0m│\u001b[35m \u001b[0m\u001b[35m    0.5338619947433472     \u001b[0m\u001b[35m \u001b[0m│\n",
       "└─────────────────────────────┴─────────────────────────────┘\n"
      ]
     },
     "metadata": {},
     "output_type": "display_data"
    },
    {
     "name": "stderr",
     "output_type": "stream",
     "text": [
      "/Users/giovannivolpe/Documents/GitHub/deeplay/py_env_dlcc/lib/python3.12/site-packages/lightning/pytorch/trainer/connectors/checkpoint_connector.py:145: `.test(ckpt_path=None)` was called without a model. The best model of the previous `fit` call will be used. You can pass `.test(ckpt_path='best')` to use the best model or `.test(ckpt_path='last')` to use the last model. If you pass a value, this warning will be silenced.\n"
     ]
    },
    {
     "data": {
      "text/html": [
       "<pre style=\"white-space:pre;overflow-x:auto;line-height:normal;font-family:Menlo,'DejaVu Sans Mono',consolas,'Courier New',monospace\"></pre>\n"
      ],
      "text/plain": []
     },
     "metadata": {},
     "output_type": "display_data"
    },
    {
     "data": {
      "text/html": [
       "<pre style=\"white-space:pre;overflow-x:auto;line-height:normal;font-family:Menlo,'DejaVu Sans Mono',consolas,'Courier New',monospace\">\n",
       "</pre>\n"
      ],
      "text/plain": [
       "\n"
      ]
     },
     "metadata": {},
     "output_type": "display_data"
    },
    {
     "data": {
      "text/plain": [
       "[{'test_loss_epoch': 0.5338619947433472,\n",
       "  'testMeanSquaredError_epoch': 0.5141118764877319,\n",
       "  'testExplainedVariance_epoch': -0.6012520790100098}]"
      ]
     },
     "execution_count": 20,
     "metadata": {},
     "output_type": "execute_result"
    }
   ],
   "source": [
    "x_numpy_test = numpy.random.randn(100, 10)  # Input test data.\n",
    "y_numpy_test = x_numpy_val.max(axis=1, keepdims=True)  # Target test data.\n",
    "\n",
    "x_torch_test = torch.from_numpy(x_numpy_test).float()\n",
    "y_torch_test = torch.from_numpy(y_numpy_test).float()\n",
    "\n",
    "test_dataset = torch.utils.data.TensorDataset(x_torch_test, y_torch_test)\n",
    "\n",
    "test_dataloader = dl.DataLoader(test_dataset, batch_size=10)\n",
    "\n",
    "model.trainer.test(dataloaders=test_dataloader)"
   ]
  },
  {
   "cell_type": "markdown",
   "metadata": {},
   "source": [
    "## Understanding the Training History Object\n",
    "\n",
    "The training history is stored in the `trainer.history` object. This is a dictionary containing the training and validation metrics for each epoch, and the training metrics for each step."
   ]
  },
  {
   "cell_type": "code",
   "execution_count": 21,
   "metadata": {},
   "outputs": [
    {
     "name": "stdout",
     "output_type": "stream",
     "text": [
      "dict_keys(['val_loss_epoch', 'valMeanSquaredError_epoch', 'valR2Score_epoch', 'train_loss_epoch', 'trainMeanSquaredError_epoch', 'trainMeanAbsolutePercentageError_epoch'])\n",
      "dict_keys(['train_loss_step', 'trainMeanSquaredError_step', 'trainMeanAbsolutePercentageError_step'])\n"
     ]
    }
   ],
   "source": [
    "h = model.trainer.history\n",
    "\n",
    "print(h.history.keys())  # Training and validation metrics at each epoch.\n",
    "\n",
    "print(h.step_history.keys())  # Training (no validation!) metrics at each step."
   ]
  },
  {
   "cell_type": "markdown",
   "metadata": {},
   "source": [
    "You can easily access the values of these metrics ..."
   ]
  },
  {
   "cell_type": "code",
   "execution_count": 22,
   "metadata": {},
   "outputs": [
    {
     "name": "stdout",
     "output_type": "stream",
     "text": [
      "[2.727294683456421, 1.003098487854004, 0.395765095949173, 0.2772870361804962, 0.27496641874313354, 0.2268044799566269, 0.2236320674419403, 0.22159263491630554, 0.21299046277999878, 0.20519115030765533, 0.19672636687755585, 0.18594683706760406, 0.19220465421676636, 0.1924923062324524, 0.17121249437332153, 0.17339256405830383, 0.17077839374542236, 0.1809399127960205, 0.16097208857536316, 0.1628504991531372]\n",
      "[100, 200, 300, 400, 500, 600, 700, 800, 900, 1000, 1100, 1200, 1300, 1400, 1500, 1600, 1700, 1800, 1900, 2000]\n",
      "[0, 1, 2, 3, 4, 5, 6, 7, 8, 9, 10, 11, 12, 13, 14, 15, 16, 17, 18, 19]\n"
     ]
    }
   ],
   "source": [
    "print(h.history[\"trainMeanSquaredError_epoch\"][\"value\"])\n",
    "print(h.history[\"trainMeanSquaredError_epoch\"][\"step\"])\n",
    "print(h.history[\"trainMeanSquaredError_epoch\"][\"epoch\"])"
   ]
  },
  {
   "cell_type": "markdown",
   "metadata": {},
   "source": [
    "## Saving and loading models\n",
    "\n",
    "Currently, the best way to save a model is to save the state dict.\n",
    "\n",
    "**NOTE:** In the future, Deeplay might have a way to save the entire architecture through the config file, but that is not yet implemented."
   ]
  },
  {
   "cell_type": "code",
   "execution_count": 23,
   "metadata": {},
   "outputs": [
    {
     "data": {
      "text/plain": [
       "<All keys matched successfully>"
      ]
     },
     "execution_count": 23,
     "metadata": {},
     "output_type": "execute_result"
    }
   ],
   "source": [
    "torch.save(model.state_dict(), \"model.pth\")  # Saving.\n",
    "model.load_state_dict(torch.load(\"model.pth\"))  # Loading."
   ]
  },
  {
   "cell_type": "markdown",
   "metadata": {},
   "source": [
    "## Using Callbacks\n",
    "\n",
    "Deeplay supports PyTorch Lightning callbacks. These can be used to implement custom behavior during training. As an example, you can use a `EarlyStopping` callback and a `ModelCheckpoint` callback as shown below.\n",
    "\n",
    "**NOTE:** Refer to the Lightning documentation for more information on the available callbacks and how to implement your own."
   ]
  },
  {
   "cell_type": "code",
   "execution_count": 24,
   "metadata": {},
   "outputs": [
    {
     "data": {
      "text/html": [
       "<pre style=\"white-space:pre;overflow-x:auto;line-height:normal;font-family:Menlo,'DejaVu Sans Mono',consolas,'Courier New',monospace\">┏━━━┳━━━━━━━━━━━━━━━┳━━━━━━━━━━━━━━━━━━┳━━━━━━━━┓\n",
       "┃<span style=\"color: #800080; text-decoration-color: #800080; font-weight: bold\">   </span>┃<span style=\"color: #800080; text-decoration-color: #800080; font-weight: bold\"> Name          </span>┃<span style=\"color: #800080; text-decoration-color: #800080; font-weight: bold\"> Type             </span>┃<span style=\"color: #800080; text-decoration-color: #800080; font-weight: bold\"> Params </span>┃\n",
       "┡━━━╇━━━━━━━━━━━━━━━╇━━━━━━━━━━━━━━━━━━╇━━━━━━━━┩\n",
       "│<span style=\"color: #7f7f7f; text-decoration-color: #7f7f7f\"> 0 </span>│ loss          │ L1Loss           │      0 │\n",
       "│<span style=\"color: #7f7f7f; text-decoration-color: #7f7f7f\"> 1 </span>│ train_metrics │ MetricCollection │      0 │\n",
       "│<span style=\"color: #7f7f7f; text-decoration-color: #7f7f7f\"> 2 </span>│ val_metrics   │ MetricCollection │      0 │\n",
       "│<span style=\"color: #7f7f7f; text-decoration-color: #7f7f7f\"> 3 </span>│ test_metrics  │ MetricCollection │      0 │\n",
       "│<span style=\"color: #7f7f7f; text-decoration-color: #7f7f7f\"> 4 </span>│ model         │ SmallMLP         │  1.6 K │\n",
       "│<span style=\"color: #7f7f7f; text-decoration-color: #7f7f7f\"> 5 </span>│ optimizer     │ Adam             │      0 │\n",
       "└───┴───────────────┴──────────────────┴────────┘\n",
       "</pre>\n"
      ],
      "text/plain": [
       "┏━━━┳━━━━━━━━━━━━━━━┳━━━━━━━━━━━━━━━━━━┳━━━━━━━━┓\n",
       "┃\u001b[1;35m \u001b[0m\u001b[1;35m \u001b[0m\u001b[1;35m \u001b[0m┃\u001b[1;35m \u001b[0m\u001b[1;35mName         \u001b[0m\u001b[1;35m \u001b[0m┃\u001b[1;35m \u001b[0m\u001b[1;35mType            \u001b[0m\u001b[1;35m \u001b[0m┃\u001b[1;35m \u001b[0m\u001b[1;35mParams\u001b[0m\u001b[1;35m \u001b[0m┃\n",
       "┡━━━╇━━━━━━━━━━━━━━━╇━━━━━━━━━━━━━━━━━━╇━━━━━━━━┩\n",
       "│\u001b[2m \u001b[0m\u001b[2m0\u001b[0m\u001b[2m \u001b[0m│ loss          │ L1Loss           │      0 │\n",
       "│\u001b[2m \u001b[0m\u001b[2m1\u001b[0m\u001b[2m \u001b[0m│ train_metrics │ MetricCollection │      0 │\n",
       "│\u001b[2m \u001b[0m\u001b[2m2\u001b[0m\u001b[2m \u001b[0m│ val_metrics   │ MetricCollection │      0 │\n",
       "│\u001b[2m \u001b[0m\u001b[2m3\u001b[0m\u001b[2m \u001b[0m│ test_metrics  │ MetricCollection │      0 │\n",
       "│\u001b[2m \u001b[0m\u001b[2m4\u001b[0m\u001b[2m \u001b[0m│ model         │ SmallMLP         │  1.6 K │\n",
       "│\u001b[2m \u001b[0m\u001b[2m5\u001b[0m\u001b[2m \u001b[0m│ optimizer     │ Adam             │      0 │\n",
       "└───┴───────────────┴──────────────────┴────────┘\n"
      ]
     },
     "metadata": {},
     "output_type": "display_data"
    },
    {
     "data": {
      "text/html": [
       "<pre style=\"white-space:pre;overflow-x:auto;line-height:normal;font-family:Menlo,'DejaVu Sans Mono',consolas,'Courier New',monospace\"><span style=\"font-weight: bold\">Trainable params</span>: 1.6 K                                                                                            \n",
       "<span style=\"font-weight: bold\">Non-trainable params</span>: 0                                                                                            \n",
       "<span style=\"font-weight: bold\">Total params</span>: 1.6 K                                                                                                \n",
       "<span style=\"font-weight: bold\">Total estimated model params size (MB)</span>: 0                                                                          \n",
       "</pre>\n"
      ],
      "text/plain": [
       "\u001b[1mTrainable params\u001b[0m: 1.6 K                                                                                            \n",
       "\u001b[1mNon-trainable params\u001b[0m: 0                                                                                            \n",
       "\u001b[1mTotal params\u001b[0m: 1.6 K                                                                                                \n",
       "\u001b[1mTotal estimated model params size (MB)\u001b[0m: 0                                                                          \n"
      ]
     },
     "metadata": {},
     "output_type": "display_data"
    },
    {
     "data": {
      "application/vnd.jupyter.widget-view+json": {
       "model_id": "73286bc6c4a64087bd9a541205e4c810",
       "version_major": 2,
       "version_minor": 0
      },
      "text/plain": [
       "Output()"
      ]
     },
     "metadata": {},
     "output_type": "display_data"
    },
    {
     "data": {
      "text/html": [
       "<pre style=\"white-space:pre;overflow-x:auto;line-height:normal;font-family:Menlo,'DejaVu Sans Mono',consolas,'Courier New',monospace\">/Users/giovannivolpe/Documents/GitHub/deeplay/py_env_dlcc/lib/python3.12/site-packages/lightning/pytorch/trainer/co\n",
       "nnectors/data_connector.py:441: The 'val_dataloader' does not have many workers which may be a bottleneck. Consider\n",
       "increasing the value of the `num_workers` argument` to `num_workers=10` in the `DataLoader` to improve performance.\n",
       "</pre>\n"
      ],
      "text/plain": [
       "/Users/giovannivolpe/Documents/GitHub/deeplay/py_env_dlcc/lib/python3.12/site-packages/lightning/pytorch/trainer/co\n",
       "nnectors/data_connector.py:441: The 'val_dataloader' does not have many workers which may be a bottleneck. Consider\n",
       "increasing the value of the `num_workers` argument` to `num_workers=10` in the `DataLoader` to improve performance.\n"
      ]
     },
     "metadata": {},
     "output_type": "display_data"
    },
    {
     "data": {
      "text/html": [
       "<pre style=\"white-space:pre;overflow-x:auto;line-height:normal;font-family:Menlo,'DejaVu Sans Mono',consolas,'Courier New',monospace\">/Users/giovannivolpe/Documents/GitHub/deeplay/py_env_dlcc/lib/python3.12/site-packages/lightning/pytorch/trainer/co\n",
       "nnectors/data_connector.py:441: The 'train_dataloader' does not have many workers which may be a bottleneck. \n",
       "Consider increasing the value of the `num_workers` argument` to `num_workers=10` in the `DataLoader` to improve \n",
       "performance.\n",
       "</pre>\n"
      ],
      "text/plain": [
       "/Users/giovannivolpe/Documents/GitHub/deeplay/py_env_dlcc/lib/python3.12/site-packages/lightning/pytorch/trainer/co\n",
       "nnectors/data_connector.py:441: The 'train_dataloader' does not have many workers which may be a bottleneck. \n",
       "Consider increasing the value of the `num_workers` argument` to `num_workers=10` in the `DataLoader` to improve \n",
       "performance.\n"
      ]
     },
     "metadata": {},
     "output_type": "display_data"
    },
    {
     "data": {
      "text/html": [
       "<pre style=\"white-space:pre;overflow-x:auto;line-height:normal;font-family:Menlo,'DejaVu Sans Mono',consolas,'Courier New',monospace\"></pre>\n"
      ],
      "text/plain": []
     },
     "metadata": {},
     "output_type": "display_data"
    },
    {
     "data": {
      "text/html": [
       "<pre style=\"white-space:pre;overflow-x:auto;line-height:normal;font-family:Menlo,'DejaVu Sans Mono',consolas,'Courier New',monospace\">\n",
       "</pre>\n"
      ],
      "text/plain": [
       "\n"
      ]
     },
     "metadata": {},
     "output_type": "display_data"
    },
    {
     "data": {
      "text/plain": [
       "<deeplay.callbacks.history.LogHistory at 0x2d3b05a60>"
      ]
     },
     "execution_count": 24,
     "metadata": {},
     "output_type": "execute_result"
    }
   ],
   "source": [
    "import lightning.pytorch.callbacks as callbacks\n",
    "\n",
    "early_stopping = callbacks.EarlyStopping(monitor=\"val_loss\", patience=1)\n",
    "checkpoint = callbacks.ModelCheckpoint(monitor=\"val_loss\", save_top_k=1)\n",
    "\n",
    "net = dl.models.SmallMLP(in_features=10, out_features=1)\n",
    "\n",
    "model = dl.Regressor(net).create()\n",
    "\n",
    "model.fit(\n",
    "    (x_numpy, y_numpy), \n",
    "    max_epochs=20, \n",
    "    batch_size=10, \n",
    "    val_data=(x_numpy_val, y_numpy_val), \n",
    "    val_batch_size=50, \n",
    "    callbacks=[early_stopping, checkpoint],\n",
    ")"
   ]
  }
 ],
 "metadata": {
  "kernelspec": {
   "display_name": "Python 3",
   "language": "python",
   "name": "python3"
  },
  "language_info": {
   "codemirror_mode": {
    "name": "ipython",
    "version": 3
   },
   "file_extension": ".py",
   "mimetype": "text/x-python",
   "name": "python",
   "nbconvert_exporter": "python",
   "pygments_lexer": "ipython3",
   "version": "3.12.2"
  }
 },
 "nbformat": 4,
 "nbformat_minor": 2
}
