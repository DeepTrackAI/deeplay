{
 "cells": [
  {
   "cell_type": "markdown",
   "metadata": {},
   "source": [
    "# Using the Main Deeplay Applications\n",
    "\n",
    "Deeplay provides you many ready applications. A application os the main Deeplay  object that defines the neural network architecture and training process. This includes the loss, the optimizer, and the training logic."
   ]
  },
  {
   "cell_type": "code",
   "execution_count": 1,
   "metadata": {},
   "outputs": [],
   "source": [
    "import deeplay as dl"
   ]
  },
  {
   "cell_type": "markdown",
   "metadata": {},
   "source": [
    "## Regression"
   ]
  },
  {
   "cell_type": "markdown",
   "metadata": {},
   "source": [
    "### `Regressor`\n",
    "\n",
    "The `Regressor` application is used to perform regression tasks. Its default loss is MAE."
   ]
  },
  {
   "cell_type": "code",
   "execution_count": 2,
   "metadata": {},
   "outputs": [
    {
     "name": "stdout",
     "output_type": "stream",
     "text": [
      "Regressor(\n",
      "  (loss): L1Loss()\n",
      "  (train_metrics): MetricCollection,\n",
      "    prefix=train\n",
      "  )\n",
      "  (val_metrics): MetricCollection,\n",
      "    prefix=val\n",
      "  )\n",
      "  (test_metrics): MetricCollection,\n",
      "    prefix=test\n",
      "  )\n",
      "  (model): SmallMLP(\n",
      "    (blocks): LayerList(\n",
      "      (0): LinearBlock(\n",
      "        (layer): Layer[Linear](in_features=10, out_features=32, bias=True)\n",
      "        (activation): Layer[LeakyReLU](negative_slope=0.05)\n",
      "        (normalization): Layer[BatchNorm1d](num_features=32)\n",
      "      )\n",
      "      (1): LinearBlock(\n",
      "        (layer): Layer[Linear](in_features=32, out_features=32, bias=True)\n",
      "        (activation): Layer[LeakyReLU](negative_slope=0.05)\n",
      "        (normalization): Layer[BatchNorm1d](num_features=32)\n",
      "      )\n",
      "      (2): LinearBlock(\n",
      "        (layer): Layer[Linear](in_features=32, out_features=1, bias=True)\n",
      "        (activation): Layer[Identity]()\n",
      "      )\n",
      "    )\n",
      "  )\n",
      "  (optimizer): Adam[Adam](lr=0.001)\n",
      ")\n"
     ]
    }
   ],
   "source": [
    "net = dl.models.SmallMLP(in_features=10, out_features=1)\n",
    "\n",
    "model = dl.Regressor(net)\n",
    "\n",
    "print(model)"
   ]
  },
  {
   "cell_type": "markdown",
   "metadata": {},
   "source": [
    "## Classification\n",
    "\n",
    "There are multiple types of classification tasks. The `Classifier` application is a general one, but there are also specific applications for binary, multiclass and multilabel classification tasks."
   ]
  },
  {
   "cell_type": "markdown",
   "metadata": {},
   "source": [
    "### `BinaryClassifier`"
   ]
  },
  {
   "cell_type": "code",
   "execution_count": 3,
   "metadata": {},
   "outputs": [
    {
     "name": "stdout",
     "output_type": "stream",
     "text": [
      "BinaryClassifier(\n",
      "  (loss): BCELoss()\n",
      "  (train_metrics): MetricCollection(\n",
      "    (BinaryAccuracy): BinaryAccuracy(),\n",
      "    prefix=train\n",
      "  )\n",
      "  (val_metrics): MetricCollection(\n",
      "    (BinaryAccuracy): BinaryAccuracy(),\n",
      "    prefix=val\n",
      "  )\n",
      "  (test_metrics): MetricCollection(\n",
      "    (BinaryAccuracy): BinaryAccuracy(),\n",
      "    prefix=test\n",
      "  )\n",
      "  (model): SmallMLP(\n",
      "    (blocks): LayerList(\n",
      "      (0): LinearBlock(\n",
      "        (layer): Layer[Linear](in_features=10, out_features=32, bias=True)\n",
      "        (activation): Layer[LeakyReLU](negative_slope=0.05)\n",
      "        (normalization): Layer[BatchNorm1d](num_features=32)\n",
      "      )\n",
      "      (1): LinearBlock(\n",
      "        (layer): Layer[Linear](in_features=32, out_features=32, bias=True)\n",
      "        (activation): Layer[LeakyReLU](negative_slope=0.05)\n",
      "        (normalization): Layer[BatchNorm1d](num_features=32)\n",
      "      )\n",
      "      (2): LinearBlock(\n",
      "        (layer): Layer[Linear](in_features=32, out_features=1, bias=True)\n",
      "        (activation): Layer[Identity]()\n",
      "      )\n",
      "    )\n",
      "  )\n",
      "  (optimizer): Adam[Adam](lr=0.001)\n",
      ")\n"
     ]
    }
   ],
   "source": [
    "net = dl.models.SmallMLP(in_features=10, out_features=1)  # 0 or 1 as output.\n",
    "\n",
    "model = dl.BinaryClassifier(net)\n",
    "\n",
    "print(model)"
   ]
  },
  {
   "cell_type": "markdown",
   "metadata": {},
   "source": [
    "### `CategoricalClassifier`"
   ]
  },
  {
   "cell_type": "code",
   "execution_count": 4,
   "metadata": {},
   "outputs": [
    {
     "name": "stdout",
     "output_type": "stream",
     "text": [
      "CategoricalClassifier(\n",
      "  (loss): CrossEntropyLoss()\n",
      "  (train_metrics): MetricCollection(\n",
      "    (MulticlassAccuracy): MulticlassAccuracy(),\n",
      "    prefix=train\n",
      "  )\n",
      "  (val_metrics): MetricCollection(\n",
      "    (MulticlassAccuracy): MulticlassAccuracy(),\n",
      "    prefix=val\n",
      "  )\n",
      "  (test_metrics): MetricCollection(\n",
      "    (MulticlassAccuracy): MulticlassAccuracy(),\n",
      "    prefix=test\n",
      "  )\n",
      "  (model): SmallMLP(\n",
      "    (blocks): LayerList(\n",
      "      (0): LinearBlock(\n",
      "        (layer): Layer[Linear](in_features=10, out_features=32, bias=True)\n",
      "        (activation): Layer[LeakyReLU](negative_slope=0.05)\n",
      "        (normalization): Layer[BatchNorm1d](num_features=32)\n",
      "      )\n",
      "      (1): LinearBlock(\n",
      "        (layer): Layer[Linear](in_features=32, out_features=32, bias=True)\n",
      "        (activation): Layer[LeakyReLU](negative_slope=0.05)\n",
      "        (normalization): Layer[BatchNorm1d](num_features=32)\n",
      "      )\n",
      "      (2): LinearBlock(\n",
      "        (layer): Layer[Linear](in_features=32, out_features=3, bias=True)\n",
      "        (activation): Layer[Identity]()\n",
      "      )\n",
      "    )\n",
      "  )\n",
      "  (optimizer): Adam[Adam](lr=0.001)\n",
      ")\n"
     ]
    }
   ],
   "source": [
    "net = dl.models.SmallMLP(in_features=10, out_features=3)\n",
    "\n",
    "model = dl.CategoricalClassifier(net, num_classes=3)  # Number of classes \n",
    "                                                      # matching the number of \n",
    "                                                      # output features.\n",
    "\n",
    "print(model)"
   ]
  },
  {
   "cell_type": "markdown",
   "metadata": {},
   "source": [
    "### `MultiLabelClassifier`"
   ]
  },
  {
   "cell_type": "code",
   "execution_count": 5,
   "metadata": {},
   "outputs": [
    {
     "name": "stdout",
     "output_type": "stream",
     "text": [
      "MultiLabelClassifier(\n",
      "  (loss): BCELoss()\n",
      "  (train_metrics): MetricCollection(\n",
      "    (BinaryAccuracy): BinaryAccuracy(),\n",
      "    prefix=train\n",
      "  )\n",
      "  (val_metrics): MetricCollection(\n",
      "    (BinaryAccuracy): BinaryAccuracy(),\n",
      "    prefix=val\n",
      "  )\n",
      "  (test_metrics): MetricCollection(\n",
      "    (BinaryAccuracy): BinaryAccuracy(),\n",
      "    prefix=test\n",
      "  )\n",
      "  (model): SmallMLP(\n",
      "    (blocks): LayerList(\n",
      "      (0): LinearBlock(\n",
      "        (layer): Layer[Linear](in_features=10, out_features=32, bias=True)\n",
      "        (activation): Layer[LeakyReLU](negative_slope=0.05)\n",
      "        (normalization): Layer[BatchNorm1d](num_features=32)\n",
      "      )\n",
      "      (1): LinearBlock(\n",
      "        (layer): Layer[Linear](in_features=32, out_features=32, bias=True)\n",
      "        (activation): Layer[LeakyReLU](negative_slope=0.05)\n",
      "        (normalization): Layer[BatchNorm1d](num_features=32)\n",
      "      )\n",
      "      (2): LinearBlock(\n",
      "        (layer): Layer[Linear](in_features=32, out_features=3, bias=True)\n",
      "        (activation): Layer[Identity]()\n",
      "      )\n",
      "    )\n",
      "  )\n",
      "  (optimizer): Adam[Adam](lr=0.001)\n",
      ")\n"
     ]
    }
   ],
   "source": [
    "net = dl.models.SmallMLP(in_features=10, out_features=3)\n",
    "\n",
    "model = dl.MultiLabelClassifier(net)\n",
    "\n",
    "print(model)"
   ]
  },
  {
   "cell_type": "markdown",
   "metadata": {},
   "source": [
    "## Controlling the Loss Function\n",
    "\n",
    "One of the primary functions of specific applications is providing a good default loss function ..."
   ]
  },
  {
   "cell_type": "code",
   "execution_count": 6,
   "metadata": {},
   "outputs": [
    {
     "name": "stdout",
     "output_type": "stream",
     "text": [
      "Default loss: L1Loss()\n"
     ]
    }
   ],
   "source": [
    "regressor_with_default_loss = dl.Regressor(net).create()\n",
    "\n",
    "print(\"Default loss:\", regressor_with_default_loss.loss)"
   ]
  },
  {
   "cell_type": "markdown",
   "metadata": {},
   "source": [
    "... still you might still want to customize the loss."
   ]
  },
  {
   "cell_type": "code",
   "execution_count": 7,
   "metadata": {},
   "outputs": [
    {
     "name": "stdout",
     "output_type": "stream",
     "text": [
      "Custom loss: MSELoss()\n"
     ]
    }
   ],
   "source": [
    "import torch\n",
    "\n",
    "regressor_with_custom_loss = dl.Regressor(net, \n",
    "                                          loss=torch.nn.MSELoss()\n",
    "                                          ).create()\n",
    "\n",
    "print(\"Custom loss:\", regressor_with_custom_loss.loss)"
   ]
  },
  {
   "cell_type": "markdown",
   "metadata": {},
   "source": [
    "### Customizing the Loss Function\n",
    "\n",
    "The loss function does not have to be a torch loss function. You can also define your own loss. The best way is subclassing `torch.nn.Module` and implementing the `forward()` method ..."
   ]
  },
  {
   "cell_type": "code",
   "execution_count": 8,
   "metadata": {},
   "outputs": [
    {
     "name": "stdout",
     "output_type": "stream",
     "text": [
      "Custom loss class: MyLossClass()\n"
     ]
    }
   ],
   "source": [
    "class MyLossClass(torch.nn.Module):\n",
    "    \"\"\"My custom loss class.\"\"\"\n",
    "    \n",
    "    def forward(self, y_pred, y_true):\n",
    "        \"\"\"Perform forward pass.\"\"\"\n",
    "        return torch.nn.functional.mse_loss(y_pred, y_true) + 1\n",
    "    \n",
    "regressor_with_custom_loss_class = dl.Regressor(net, \n",
    "                                                loss=MyLossClass()\n",
    "                                                ).create()\n",
    "\n",
    "print(\"Custom loss class:\", regressor_with_custom_loss_class.loss)"
   ]
  },
  {
   "cell_type": "markdown",
   "metadata": {},
   "source": [
    "... but you can also use a function."
   ]
  },
  {
   "cell_type": "code",
   "execution_count": 9,
   "metadata": {},
   "outputs": [
    {
     "name": "stdout",
     "output_type": "stream",
     "text": [
      "Custom loss function: <function my_loss_fn at 0x2b3097b00>\n"
     ]
    }
   ],
   "source": [
    "def my_loss_fn(y_pred, y_true):\n",
    "    \"\"\"Calculate my custom loss.\"\"\"\n",
    "    return torch.nn.functional.mse_loss(y_pred, y_true) + 1\n",
    "\n",
    "regressor_with_custom_loss_fn = dl.Regressor(net, loss=my_loss_fn).create()\n",
    "\n",
    "print(\"Custom loss function:\", regressor_with_custom_loss_fn.loss)"
   ]
  },
  {
   "cell_type": "markdown",
   "metadata": {},
   "source": [
    "### Overriding the Class Implementation of the Loss Function\n",
    "\n",
    "In some cases, the application might not provide the desired flexibility. In this case, you can subclass the application and override the `compute_loss()` method."
   ]
  },
  {
   "cell_type": "code",
   "execution_count": 10,
   "metadata": {},
   "outputs": [
    {
     "ename": "SyntaxError",
     "evalue": "expected '(' (372976487.py, line 4)",
     "output_type": "error",
     "traceback": [
      "\u001b[0;36m  Cell \u001b[0;32mIn[10], line 4\u001b[0;36m\u001b[0m\n\u001b[0;31m    def __init\u001b[0m\n\u001b[0m              ^\u001b[0m\n\u001b[0;31mSyntaxError\u001b[0m\u001b[0;31m:\u001b[0m expected '('\n"
     ]
    }
   ],
   "source": [
    "class MyRegressor(dl.Regressor):\n",
    "    \"\"\"My regressor with custom loss function.\"\"\"\n",
    "    \n",
    "    def compute_loss(self, y_hat, y):\n",
    "        \"\"\"Compute my custom loss.\"\"\"\n",
    "        return torch.nn.functional.mse_loss(y_hat, y) + 1\n",
    "\n",
    "my_regressor_with_custom_loss = MyRegressor(net).create()\n",
    "\n",
    "print(\"Custom loss regressor:\", my_regressor_with_custom_loss.loss)             # Benjamin: Should this reflect the change in the loss function?"
   ]
  },
  {
   "cell_type": "markdown",
   "metadata": {},
   "source": [
    "## Copntrolling the Optimizer\n",
    "\n",
    "Deeplay provides some wrappers around the PyTorch optimizers. Their main use is to be able to create the optimizer before the model is built and the parameters are known. Examples of optimizers available in Deeplay are:"
   ]
  },
  {
   "cell_type": "code",
   "execution_count": null,
   "metadata": {},
   "outputs": [
    {
     "name": "stdout",
     "output_type": "stream",
     "text": [
      "Adam[Adam](lr=0.01)\n"
     ]
    }
   ],
   "source": [
    "adam = dl.Adam(lr=0.01)\n",
    "\n",
    "print(adam)"
   ]
  },
  {
   "cell_type": "code",
   "execution_count": null,
   "metadata": {},
   "outputs": [
    {
     "name": "stdout",
     "output_type": "stream",
     "text": [
      "SGD[SGD](lr=0.01, momentum=0.9)\n"
     ]
    }
   ],
   "source": [
    "sgd = dl.SGD(lr=0.01, momentum=0.9)\n",
    "\n",
    "print(sgd)"
   ]
  },
  {
   "cell_type": "code",
   "execution_count": null,
   "metadata": {},
   "outputs": [
    {
     "name": "stdout",
     "output_type": "stream",
     "text": [
      "RMSprop[RMSprop](lr=0.01)\n"
     ]
    }
   ],
   "source": [
    "rmsprop = dl.RMSprop(lr=0.01)\n",
    "\n",
    "print(rmsprop)"
   ]
  },
  {
   "cell_type": "markdown",
   "metadata": {},
   "source": [
    "Furthermore, Deeplay also supports arbitrary optimizers through the `Optimizer` class."
   ]
  },
  {
   "cell_type": "code",
   "execution_count": null,
   "metadata": {},
   "outputs": [
    {
     "name": "stdout",
     "output_type": "stream",
     "text": [
      "Optimizer[Adagrad](lr=0.01)\n"
     ]
    }
   ],
   "source": [
    "adagrad = dl.Optimizer(torch.optim.Adagrad, lr=0.01)\n",
    "\n",
    "print(adagrad)"
   ]
  },
  {
   "cell_type": "markdown",
   "metadata": {},
   "source": [
    "You can assign an optimizer to an application using the `optimizer` parameter."
   ]
  },
  {
   "cell_type": "code",
   "execution_count": null,
   "metadata": {},
   "outputs": [
    {
     "name": "stdout",
     "output_type": "stream",
     "text": [
      "Regressor(\n",
      "  (loss): L1Loss()\n",
      "  (train_metrics): MetricCollection,\n",
      "    prefix=train\n",
      "  )\n",
      "  (val_metrics): MetricCollection,\n",
      "    prefix=val\n",
      "  )\n",
      "  (test_metrics): MetricCollection,\n",
      "    prefix=test\n",
      "  )\n",
      "  (model): SmallMLP(\n",
      "    (blocks): LayerList(\n",
      "      (0): LinearBlock(\n",
      "        (layer): Linear(in_features=10, out_features=32, bias=True)\n",
      "        (activation): LeakyReLU(negative_slope=0.05)\n",
      "        (normalization): BatchNorm1d(32, eps=1e-05, momentum=0.1, affine=True, track_running_stats=True)\n",
      "      )\n",
      "      (1): LinearBlock(\n",
      "        (layer): Linear(in_features=32, out_features=32, bias=True)\n",
      "        (activation): LeakyReLU(negative_slope=0.05)\n",
      "        (normalization): BatchNorm1d(32, eps=1e-05, momentum=0.1, affine=True, track_running_stats=True)\n",
      "      )\n",
      "      (2): LinearBlock(\n",
      "        (layer): Linear(in_features=32, out_features=1, bias=True)\n",
      "        (activation): Identity()\n",
      "      )\n",
      "    )\n",
      "  )\n",
      "  (optimizer): Adam[Adam](lr=0.01)\n",
      ")\n"
     ]
    }
   ],
   "source": [
    "model = dl.Regressor(net, optimizer=adam).create()\n",
    "\n",
    "print(model)"
   ]
  },
  {
   "cell_type": "markdown",
   "metadata": {},
   "source": [
    "### Setting the Optimizer Through Subclassing\n",
    "\n",
    "For complete control, you can subclass the application and implement the `configure_optimizers` method.  In this case, you should in general use the torch optimizers directly, since the parameters are known at this point in the lifecycle of the application."
   ]
  },
  {
   "cell_type": "code",
   "execution_count": null,
   "metadata": {},
   "outputs": [
    {
     "name": "stdout",
     "output_type": "stream",
     "text": [
      "MyRegressor(\n",
      "  (loss): L1Loss()\n",
      "  (train_metrics): MetricCollection,\n",
      "    prefix=train\n",
      "  )\n",
      "  (val_metrics): MetricCollection,\n",
      "    prefix=val\n",
      "  )\n",
      "  (test_metrics): MetricCollection,\n",
      "    prefix=test\n",
      "  )\n",
      "  (model): SmallMLP(\n",
      "    (blocks): LayerList(\n",
      "      (0): LinearBlock(\n",
      "        (layer): Linear(in_features=10, out_features=32, bias=True)\n",
      "        (activation): LeakyReLU(negative_slope=0.05)\n",
      "        (normalization): BatchNorm1d(32, eps=1e-05, momentum=0.1, affine=True, track_running_stats=True)\n",
      "      )\n",
      "      (1): LinearBlock(\n",
      "        (layer): Linear(in_features=32, out_features=32, bias=True)\n",
      "        (activation): LeakyReLU(negative_slope=0.05)\n",
      "        (normalization): BatchNorm1d(32, eps=1e-05, momentum=0.1, affine=True, track_running_stats=True)\n",
      "      )\n",
      "      (2): LinearBlock(\n",
      "        (layer): Linear(in_features=32, out_features=1, bias=True)\n",
      "        (activation): Identity()\n",
      "      )\n",
      "    )\n",
      "  )\n",
      "  (optimizer): Adam[Adam](lr=0.001)\n",
      ")\n"
     ]
    }
   ],
   "source": [
    "class MyRegressor(dl.Regressor):\n",
    "    \"\"\"My regressor with custom optimizer.\"\"\"\n",
    "    \n",
    "    def configure_optimizers(self):\n",
    "        \"\"\"Configure my custom optimizer.\"\"\"\n",
    "        return torch.optim.Adam(self.parameters(), lr=0.01)\n",
    "\n",
    "net = dl.models.SmallMLP(in_features=10, out_features=1)\n",
    "\n",
    "model = MyRegressor(net).create()\n",
    "\n",
    "print(model)"
   ]
  },
  {
   "cell_type": "markdown",
   "metadata": {},
   "source": [
    "## Controlling the Metrics\n",
    "\n",
    "Most applications support metrics. These can be calculated at a specific point dataset (like the training or validation set) or on all of them. All metrics should be instances of `torchmetrics.Metric`.\n",
    "\n",
    "You can define the metrics as part of the application ..."
   ]
  },
  {
   "cell_type": "code",
   "execution_count": null,
   "metadata": {},
   "outputs": [],
   "source": [
    "import torchmetrics\n",
    "\n",
    "mse_metric = torchmetrics.regression.MeanSquaredError()\n",
    "mape_metric = torchmetrics.regression.MeanAbsolutePercentageError()\n",
    "r2_metric = torchmetrics.regression.R2Score()\n",
    "var_metric = torchmetrics.regression.ExplainedVariance()\n",
    "\n",
    "net = dl.models.SmallMLP(in_features=10, out_features=1)\n",
    "\n",
    "model = dl.Regressor(net,\n",
    "                     metrics=[mse_metric],  # On train, val and test.\n",
    "                     train_metrics=[mape_metric],  # On train only.\n",
    "                     val_metrics=[r2_metric],  # On val only.\n",
    "                     test_metrics=[var_metric]  # On test only.\n",
    "                     ).create()"
   ]
  },
  {
   "cell_type": "markdown",
   "metadata": {},
   "source": [
    "... and see how they are used during training ..."
   ]
  },
  {
   "cell_type": "code",
   "execution_count": null,
   "metadata": {},
   "outputs": [
    {
     "data": {
      "text/html": [
       "<pre style=\"white-space:pre;overflow-x:auto;line-height:normal;font-family:Menlo,'DejaVu Sans Mono',consolas,'Courier New',monospace\">┏━━━┳━━━━━━━━━━━━━━━┳━━━━━━━━━━━━━━━━━━┳━━━━━━━━┓\n",
       "┃<span style=\"color: #800080; text-decoration-color: #800080; font-weight: bold\">   </span>┃<span style=\"color: #800080; text-decoration-color: #800080; font-weight: bold\"> Name          </span>┃<span style=\"color: #800080; text-decoration-color: #800080; font-weight: bold\"> Type             </span>┃<span style=\"color: #800080; text-decoration-color: #800080; font-weight: bold\"> Params </span>┃\n",
       "┡━━━╇━━━━━━━━━━━━━━━╇━━━━━━━━━━━━━━━━━━╇━━━━━━━━┩\n",
       "│<span style=\"color: #7f7f7f; text-decoration-color: #7f7f7f\"> 0 </span>│ loss          │ L1Loss           │      0 │\n",
       "│<span style=\"color: #7f7f7f; text-decoration-color: #7f7f7f\"> 1 </span>│ train_metrics │ MetricCollection │      0 │\n",
       "│<span style=\"color: #7f7f7f; text-decoration-color: #7f7f7f\"> 2 </span>│ val_metrics   │ MetricCollection │      0 │\n",
       "│<span style=\"color: #7f7f7f; text-decoration-color: #7f7f7f\"> 3 </span>│ test_metrics  │ MetricCollection │      0 │\n",
       "│<span style=\"color: #7f7f7f; text-decoration-color: #7f7f7f\"> 4 </span>│ model         │ SmallMLP         │  1.6 K │\n",
       "│<span style=\"color: #7f7f7f; text-decoration-color: #7f7f7f\"> 5 </span>│ optimizer     │ Adam             │      0 │\n",
       "└───┴───────────────┴──────────────────┴────────┘\n",
       "</pre>\n"
      ],
      "text/plain": [
       "┏━━━┳━━━━━━━━━━━━━━━┳━━━━━━━━━━━━━━━━━━┳━━━━━━━━┓\n",
       "┃\u001b[1;35m \u001b[0m\u001b[1;35m \u001b[0m\u001b[1;35m \u001b[0m┃\u001b[1;35m \u001b[0m\u001b[1;35mName         \u001b[0m\u001b[1;35m \u001b[0m┃\u001b[1;35m \u001b[0m\u001b[1;35mType            \u001b[0m\u001b[1;35m \u001b[0m┃\u001b[1;35m \u001b[0m\u001b[1;35mParams\u001b[0m\u001b[1;35m \u001b[0m┃\n",
       "┡━━━╇━━━━━━━━━━━━━━━╇━━━━━━━━━━━━━━━━━━╇━━━━━━━━┩\n",
       "│\u001b[2m \u001b[0m\u001b[2m0\u001b[0m\u001b[2m \u001b[0m│ loss          │ L1Loss           │      0 │\n",
       "│\u001b[2m \u001b[0m\u001b[2m1\u001b[0m\u001b[2m \u001b[0m│ train_metrics │ MetricCollection │      0 │\n",
       "│\u001b[2m \u001b[0m\u001b[2m2\u001b[0m\u001b[2m \u001b[0m│ val_metrics   │ MetricCollection │      0 │\n",
       "│\u001b[2m \u001b[0m\u001b[2m3\u001b[0m\u001b[2m \u001b[0m│ test_metrics  │ MetricCollection │      0 │\n",
       "│\u001b[2m \u001b[0m\u001b[2m4\u001b[0m\u001b[2m \u001b[0m│ model         │ SmallMLP         │  1.6 K │\n",
       "│\u001b[2m \u001b[0m\u001b[2m5\u001b[0m\u001b[2m \u001b[0m│ optimizer     │ Adam             │      0 │\n",
       "└───┴───────────────┴──────────────────┴────────┘\n"
      ]
     },
     "metadata": {},
     "output_type": "display_data"
    },
    {
     "data": {
      "text/html": [
       "<pre style=\"white-space:pre;overflow-x:auto;line-height:normal;font-family:Menlo,'DejaVu Sans Mono',consolas,'Courier New',monospace\"><span style=\"font-weight: bold\">Trainable params</span>: 1.6 K                                                                                            \n",
       "<span style=\"font-weight: bold\">Non-trainable params</span>: 0                                                                                            \n",
       "<span style=\"font-weight: bold\">Total params</span>: 1.6 K                                                                                                \n",
       "<span style=\"font-weight: bold\">Total estimated model params size (MB)</span>: 0                                                                          \n",
       "</pre>\n"
      ],
      "text/plain": [
       "\u001b[1mTrainable params\u001b[0m: 1.6 K                                                                                            \n",
       "\u001b[1mNon-trainable params\u001b[0m: 0                                                                                            \n",
       "\u001b[1mTotal params\u001b[0m: 1.6 K                                                                                                \n",
       "\u001b[1mTotal estimated model params size (MB)\u001b[0m: 0                                                                          \n"
      ]
     },
     "metadata": {},
     "output_type": "display_data"
    },
    {
     "data": {
      "text/html": [
       "<pre style=\"white-space:pre;overflow-x:auto;line-height:normal;font-family:Menlo,'DejaVu Sans Mono',consolas,'Courier New',monospace\"></pre>\n"
      ],
      "text/plain": []
     },
     "metadata": {},
     "output_type": "display_data"
    },
    {
     "data": {
      "text/html": [
       "<pre style=\"white-space:pre;overflow-x:auto;line-height:normal;font-family:Menlo,'DejaVu Sans Mono',consolas,'Courier New',monospace\">\n",
       "</pre>\n"
      ],
      "text/plain": [
       "\n"
      ]
     },
     "metadata": {},
     "output_type": "display_data"
    },
    {
     "data": {
      "text/plain": [
       "(<Figure size 1500x1000 with 4 Axes>,\n",
       " array([[<Axes: title={'center': 'Loss'}, xlabel='Step'>,\n",
       "         <Axes: title={'center': 'Meansquarederror'}, xlabel='Step'>],\n",
       "        [<Axes: title={'center': 'R2score'}, xlabel='Step'>,\n",
       "         <Axes: title={'center': 'Meanabsolutepercentageerror'}, xlabel='Step'>]],\n",
       "       dtype=object))"
      ]
     },
     "execution_count": 27,
     "metadata": {},
     "output_type": "execute_result"
    },
    {
     "data": {
      "image/png": "[encoded data removed]",
      "text/plain": [
       "<Figure size 1500x1000 with 4 Axes>"
      ]
     },
     "metadata": {},
     "output_type": "display_data"
    }
   ],
   "source": [
    "import numpy\n",
    "\n",
    "x_numpy = numpy.random.randn(1000, 10)  # Input train data.\n",
    "y_numpy = x_numpy.max(axis=1, keepdims=True)  # Target train data.\n",
    "\n",
    "x_numpy_val = numpy.random.randn(100, 10)  # Input val data.\n",
    "y_numpy_val = x_numpy_val.max(axis=1, keepdims=True)  # Target val data.\n",
    "\n",
    "model.fit(\n",
    "    (x_numpy, y_numpy), \n",
    "    max_epochs=20, \n",
    "    batch_size=10, \n",
    "    val_data=(x_numpy_val, y_numpy_val), \n",
    "    val_batch_size=50,\n",
    ")\n",
    "model.trainer.history.plot()"
   ]
  },
  {
   "cell_type": "markdown",
   "metadata": {},
   "source": [
    "... and during testing using the `Application.text()` method ..."
   ]
  },
  {
   "cell_type": "code",
   "execution_count": null,
   "metadata": {},
   "outputs": [
    {
     "ename": "TypeError",
     "evalue": "Application.test() missing 1 required positional argument: 'metrics'",
     "output_type": "error",
     "traceback": [
      "\u001b[0;31m---------------------------------------------------------------------------\u001b[0m",
      "\u001b[0;31mTypeError\u001b[0m                                 Traceback (most recent call last)",
      "Cell \u001b[0;32mIn[32], line 4\u001b[0m\n\u001b[1;32m      1\u001b[0m x_numpy_test \u001b[38;5;241m=\u001b[39m numpy\u001b[38;5;241m.\u001b[39mrandom\u001b[38;5;241m.\u001b[39mrandn(\u001b[38;5;241m100\u001b[39m, \u001b[38;5;241m10\u001b[39m)  \u001b[38;5;66;03m# Input test data.\u001b[39;00m\n\u001b[1;32m      2\u001b[0m y_numpy_test \u001b[38;5;241m=\u001b[39m x_numpy_val\u001b[38;5;241m.\u001b[39mmax(axis\u001b[38;5;241m=\u001b[39m\u001b[38;5;241m1\u001b[39m, keepdims\u001b[38;5;241m=\u001b[39m\u001b[38;5;28;01mTrue\u001b[39;00m)  \u001b[38;5;66;03m# Target test data.\u001b[39;00m\n\u001b[0;32m----> 4\u001b[0m test_results \u001b[38;5;241m=\u001b[39m \u001b[43mmodel\u001b[49m\u001b[38;5;241;43m.\u001b[39;49m\u001b[43mtest\u001b[49m\u001b[43m(\u001b[49m\u001b[43m(\u001b[49m\u001b[43mx_numpy_test\u001b[49m\u001b[43m,\u001b[49m\u001b[43m \u001b[49m\u001b[43my_numpy_test\u001b[49m\u001b[43m)\u001b[49m\u001b[43m)\u001b[49m\n\u001b[1;32m      5\u001b[0m \u001b[38;5;28mprint\u001b[39m(\u001b[38;5;124mf\u001b[39m\u001b[38;5;124m\"\u001b[39m\u001b[38;5;124mTest results: \u001b[39m\u001b[38;5;132;01m{\u001b[39;00mtest_results\u001b[38;5;132;01m}\u001b[39;00m\u001b[38;5;130;01m\\n\u001b[39;00m\u001b[38;5;124m\"\u001b[39m)                                        \u001b[38;5;66;03m# Benjamin: Should this work?\u001b[39;00m\n\u001b[1;32m      7\u001b[0m \u001b[38;5;66;03m#test_dataset = torch.utils.data.TensorDataset(X_tensor, y_tensor)\u001b[39;00m\n\u001b[1;32m      8\u001b[0m \u001b[38;5;66;03m#test_dataloader = dl.DataLoader(test_dataset, batch_size=10)\u001b[39;00m\n\u001b[1;32m      9\u001b[0m \u001b[38;5;66;03m#model.trainer.test(dataloaders=test_dataloader)\u001b[39;00m\n",
      "\u001b[0;31mTypeError\u001b[0m: Application.test() missing 1 required positional argument: 'metrics'"
     ]
    }
   ],
   "source": [
    "x_numpy_test = numpy.random.randn(100, 10)  # Input test data.\n",
    "y_numpy_test = x_numpy_val.max(axis=1, keepdims=True)  # Target test data.\n",
    "\n",
    "test_results = model.test((x_numpy_test, y_numpy_test))\n",
    "print(f\"Test results: {test_results}\\n\")                                        # Benjamin: Should this also work? If not, why not?"
   ]
  },
  {
   "cell_type": "markdown",
   "metadata": {},
   "source": [
    "... or the data loaders."
   ]
  },
  {
   "cell_type": "code",
   "execution_count": null,
   "metadata": {},
   "outputs": [
    {
     "data": {
      "text/html": [
       "<pre style=\"white-space:pre;overflow-x:auto;line-height:normal;font-family:Menlo,'DejaVu Sans Mono',consolas,'Courier New',monospace\">/Users/giovannivolpe/miniconda3/envs/dlcc12/lib/python3.12/site-packages/rich/live.py:231: UserWarning: install \n",
       "\"ipywidgets\" for Jupyter support\n",
       "  warnings.warn('install \"ipywidgets\" for Jupyter support')\n",
       "</pre>\n"
      ],
      "text/plain": [
       "/Users/giovannivolpe/miniconda3/envs/dlcc12/lib/python3.12/site-packages/rich/live.py:231: UserWarning: install \n",
       "\"ipywidgets\" for Jupyter support\n",
       "  warnings.warn('install \"ipywidgets\" for Jupyter support')\n"
      ]
     },
     "metadata": {},
     "output_type": "display_data"
    },
    {
     "data": {
      "text/html": [
       "<pre style=\"white-space:pre;overflow-x:auto;line-height:normal;font-family:Menlo,'DejaVu Sans Mono',consolas,'Courier New',monospace\">┏━━━━━━━━━━━━━━━━━━━━━━━━━━━━━┳━━━━━━━━━━━━━━━━━━━━━━━━━━━━━┓\n",
       "┃<span style=\"font-weight: bold\">         Test metric         </span>┃<span style=\"font-weight: bold\">        DataLoader 0         </span>┃\n",
       "┡━━━━━━━━━━━━━━━━━━━━━━━━━━━━━╇━━━━━━━━━━━━━━━━━━━━━━━━━━━━━┩\n",
       "│<span style=\"color: #008080; text-decoration-color: #008080\"> testExplainedVariance_epoch </span>│<span style=\"color: #800080; text-decoration-color: #800080\">     -0.8878394365310669     </span>│\n",
       "│<span style=\"color: #008080; text-decoration-color: #008080\"> testMeanSquaredError_epoch  </span>│<span style=\"color: #800080; text-decoration-color: #800080\">     0.5535938143730164      </span>│\n",
       "│<span style=\"color: #008080; text-decoration-color: #008080\">       test_loss_epoch       </span>│<span style=\"color: #800080; text-decoration-color: #800080\">     0.6114404797554016      </span>│\n",
       "└─────────────────────────────┴─────────────────────────────┘\n",
       "</pre>\n"
      ],
      "text/plain": [
       "┏━━━━━━━━━━━━━━━━━━━━━━━━━━━━━┳━━━━━━━━━━━━━━━━━━━━━━━━━━━━━┓\n",
       "┃\u001b[1m \u001b[0m\u001b[1m        Test metric        \u001b[0m\u001b[1m \u001b[0m┃\u001b[1m \u001b[0m\u001b[1m       DataLoader 0        \u001b[0m\u001b[1m \u001b[0m┃\n",
       "┡━━━━━━━━━━━━━━━━━━━━━━━━━━━━━╇━━━━━━━━━━━━━━━━━━━━━━━━━━━━━┩\n",
       "│\u001b[36m \u001b[0m\u001b[36mtestExplainedVariance_epoch\u001b[0m\u001b[36m \u001b[0m│\u001b[35m \u001b[0m\u001b[35m    -0.8878394365310669    \u001b[0m\u001b[35m \u001b[0m│\n",
       "│\u001b[36m \u001b[0m\u001b[36mtestMeanSquaredError_epoch \u001b[0m\u001b[36m \u001b[0m│\u001b[35m \u001b[0m\u001b[35m    0.5535938143730164     \u001b[0m\u001b[35m \u001b[0m│\n",
       "│\u001b[36m \u001b[0m\u001b[36m      test_loss_epoch      \u001b[0m\u001b[36m \u001b[0m│\u001b[35m \u001b[0m\u001b[35m    0.6114404797554016     \u001b[0m\u001b[35m \u001b[0m│\n",
       "└─────────────────────────────┴─────────────────────────────┘\n"
      ]
     },
     "metadata": {},
     "output_type": "display_data"
    },
    {
     "name": "stderr",
     "output_type": "stream",
     "text": [
      "/Users/giovannivolpe/miniconda3/envs/dlcc12/lib/python3.12/site-packages/lightning/pytorch/trainer/connectors/checkpoint_connector.py:145: `.test(ckpt_path=None)` was called without a model. The best model of the previous `fit` call will be used. You can pass `.test(ckpt_path='best')` to use the best model or `.test(ckpt_path='last')` to use the last model. If you pass a value, this warning will be silenced.\n",
      "/Users/giovannivolpe/miniconda3/envs/dlcc12/lib/python3.12/site-packages/lightning/pytorch/trainer/connectors/data_connector.py:441: The 'test_dataloader' does not have many workers which may be a bottleneck. Consider increasing the value of the `num_workers` argument` to `num_workers=7` in the `DataLoader` to improve performance.\n"
     ]
    },
    {
     "data": {
      "text/html": [
       "<pre style=\"white-space:pre;overflow-x:auto;line-height:normal;font-family:Menlo,'DejaVu Sans Mono',consolas,'Courier New',monospace\"></pre>\n"
      ],
      "text/plain": []
     },
     "metadata": {},
     "output_type": "display_data"
    },
    {
     "data": {
      "text/html": [
       "<pre style=\"white-space:pre;overflow-x:auto;line-height:normal;font-family:Menlo,'DejaVu Sans Mono',consolas,'Courier New',monospace\">\n",
       "</pre>\n"
      ],
      "text/plain": [
       "\n"
      ]
     },
     "metadata": {},
     "output_type": "display_data"
    },
    {
     "data": {
      "text/plain": [
       "[{'test_loss_epoch': 0.6114404797554016,\n",
       "  'testMeanSquaredError_epoch': 0.5535938143730164,\n",
       "  'testExplainedVariance_epoch': -0.8878394365310669}]"
      ]
     },
     "execution_count": 33,
     "metadata": {},
     "output_type": "execute_result"
    }
   ],
   "source": [
    "x_numpy_test = numpy.random.randn(100, 10)  # Input test data.\n",
    "y_numpy_test = x_numpy_val.max(axis=1, keepdims=True)  # Target test data.\n",
    "\n",
    "x_torch_test = torch.from_numpy(x_numpy_test).float()\n",
    "y_torch_test = torch.from_numpy(y_numpy_test).float()\n",
    "\n",
    "test_dataset = torch.utils.data.TensorDataset(x_torch_test, y_torch_test)\n",
    "\n",
    "test_dataloader = dl.DataLoader(test_dataset, batch_size=10)\n",
    "\n",
    "model.trainer.test(dataloaders=test_dataloader)"
   ]
  },
  {
   "cell_type": "markdown",
   "metadata": {},
   "source": [
    "## Understanding the Training History Object\n",
    "\n",
    "The training history is stored in the `trainer.history` object. This is a dictionary containing the training and validation metrics for each epoch, and the training metrics for each step."
   ]
  },
  {
   "cell_type": "code",
   "execution_count": null,
   "metadata": {},
   "outputs": [
    {
     "name": "stdout",
     "output_type": "stream",
     "text": [
      "dict_keys(['val_loss_epoch', 'valMeanSquaredError_epoch', 'valR2Score_epoch', 'train_loss_epoch', 'trainMeanSquaredError_epoch', 'trainMeanAbsolutePercentageError_epoch'])\n",
      "dict_keys(['train_loss_step', 'trainMeanSquaredError_step', 'trainMeanAbsolutePercentageError_step'])\n"
     ]
    }
   ],
   "source": [
    "h = model.trainer.history\n",
    "\n",
    "print(h.history.keys())  # Training and validation metrics at each epoch.\n",
    "\n",
    "print(h.step_history.keys())  # Training (no validation!) metrics at each step."
   ]
  },
  {
   "cell_type": "markdown",
   "metadata": {},
   "source": [
    "You can easily access the values of these metrics ..."
   ]
  },
  {
   "cell_type": "code",
   "execution_count": null,
   "metadata": {},
   "outputs": [
    {
     "name": "stdout",
     "output_type": "stream",
     "text": [
      "[0.19852817058563232, 0.1930086612701416, 0.17442907392978668, 0.169052854180336, 0.16617169976234436, 0.1666741818189621, 0.16491778194904327, 0.14762406051158905, 0.15707507729530334, 0.16292785108089447, 0.16779601573944092, 0.15588907897472382, 0.15452826023101807, 0.15738767385482788, 0.14929623901844025, 0.14812733232975006, 0.15245407819747925, 0.14975674450397491, 0.145471453666687, 0.14896447956562042]\n",
      "[100, 200, 300, 400, 500, 600, 700, 800, 900, 1000, 1100, 1200, 1300, 1400, 1500, 1600, 1700, 1800, 1900, 2000]\n",
      "[0, 1, 2, 3, 4, 5, 6, 7, 8, 9, 10, 11, 12, 13, 14, 15, 16, 17, 18, 19]\n"
     ]
    }
   ],
   "source": [
    "print(h.history[\"trainMeanSquaredError_epoch\"][\"value\"])\n",
    "print(h.history[\"trainMeanSquaredError_epoch\"][\"step\"])\n",
    "print(h.history[\"trainMeanSquaredError_epoch\"][\"epoch\"])"
   ]
  },
  {
   "cell_type": "markdown",
   "metadata": {},
   "source": [
    "## Saving and loading models\n",
    "\n",
    "The best way to save a model is currently to save the state dict.\n",
    "\n",
    "**Note:** In the future, Deeplay might have a way to save the entire architecture through the config file, but that is not yet implemented."
   ]
  },
  {
   "cell_type": "code",
   "execution_count": null,
   "metadata": {},
   "outputs": [
    {
     "data": {
      "text/plain": [
       "<All keys matched successfully>"
      ]
     },
     "execution_count": 25,
     "metadata": {},
     "output_type": "execute_result"
    }
   ],
   "source": [
    "torch.save(model.state_dict(), \"model.pth\")  # Saving.\n",
    "model.load_state_dict(torch.load(\"model.pth\"))  # Loading."
   ]
  },
  {
   "cell_type": "markdown",
   "metadata": {},
   "source": [
    "## Using Callbacks\n",
    "\n",
    "Deeplay supports PyTorch Lightning callbacks. These can be used to implement custom behavior during training. As an example, you can use a `EarlyStopping` callback and a `ModelCheckpoint` callback as examples\n",
    "\n",
    "**Note:** Refer to the Lightning documentation for more information on the available callbacks and how to implement your own."
   ]
  },
  {
   "cell_type": "code",
   "execution_count": null,
   "metadata": {},
   "outputs": [
    {
     "data": {
      "text/html": [
       "<pre style=\"white-space:pre;overflow-x:auto;line-height:normal;font-family:Menlo,'DejaVu Sans Mono',consolas,'Courier New',monospace\">┏━━━┳━━━━━━━━━━━━━━━┳━━━━━━━━━━━━━━━━━━┳━━━━━━━━┓\n",
       "┃<span style=\"color: #800080; text-decoration-color: #800080; font-weight: bold\">   </span>┃<span style=\"color: #800080; text-decoration-color: #800080; font-weight: bold\"> Name          </span>┃<span style=\"color: #800080; text-decoration-color: #800080; font-weight: bold\"> Type             </span>┃<span style=\"color: #800080; text-decoration-color: #800080; font-weight: bold\"> Params </span>┃\n",
       "┡━━━╇━━━━━━━━━━━━━━━╇━━━━━━━━━━━━━━━━━━╇━━━━━━━━┩\n",
       "│<span style=\"color: #7f7f7f; text-decoration-color: #7f7f7f\"> 0 </span>│ loss          │ L1Loss           │      0 │\n",
       "│<span style=\"color: #7f7f7f; text-decoration-color: #7f7f7f\"> 1 </span>│ train_metrics │ MetricCollection │      0 │\n",
       "│<span style=\"color: #7f7f7f; text-decoration-color: #7f7f7f\"> 2 </span>│ val_metrics   │ MetricCollection │      0 │\n",
       "│<span style=\"color: #7f7f7f; text-decoration-color: #7f7f7f\"> 3 </span>│ test_metrics  │ MetricCollection │      0 │\n",
       "│<span style=\"color: #7f7f7f; text-decoration-color: #7f7f7f\"> 4 </span>│ model         │ SmallMLP         │  1.6 K │\n",
       "│<span style=\"color: #7f7f7f; text-decoration-color: #7f7f7f\"> 5 </span>│ optimizer     │ Adam             │      0 │\n",
       "└───┴───────────────┴──────────────────┴────────┘\n",
       "</pre>\n"
      ],
      "text/plain": [
       "┏━━━┳━━━━━━━━━━━━━━━┳━━━━━━━━━━━━━━━━━━┳━━━━━━━━┓\n",
       "┃\u001b[1;35m \u001b[0m\u001b[1;35m \u001b[0m\u001b[1;35m \u001b[0m┃\u001b[1;35m \u001b[0m\u001b[1;35mName         \u001b[0m\u001b[1;35m \u001b[0m┃\u001b[1;35m \u001b[0m\u001b[1;35mType            \u001b[0m\u001b[1;35m \u001b[0m┃\u001b[1;35m \u001b[0m\u001b[1;35mParams\u001b[0m\u001b[1;35m \u001b[0m┃\n",
       "┡━━━╇━━━━━━━━━━━━━━━╇━━━━━━━━━━━━━━━━━━╇━━━━━━━━┩\n",
       "│\u001b[2m \u001b[0m\u001b[2m0\u001b[0m\u001b[2m \u001b[0m│ loss          │ L1Loss           │      0 │\n",
       "│\u001b[2m \u001b[0m\u001b[2m1\u001b[0m\u001b[2m \u001b[0m│ train_metrics │ MetricCollection │      0 │\n",
       "│\u001b[2m \u001b[0m\u001b[2m2\u001b[0m\u001b[2m \u001b[0m│ val_metrics   │ MetricCollection │      0 │\n",
       "│\u001b[2m \u001b[0m\u001b[2m3\u001b[0m\u001b[2m \u001b[0m│ test_metrics  │ MetricCollection │      0 │\n",
       "│\u001b[2m \u001b[0m\u001b[2m4\u001b[0m\u001b[2m \u001b[0m│ model         │ SmallMLP         │  1.6 K │\n",
       "│\u001b[2m \u001b[0m\u001b[2m5\u001b[0m\u001b[2m \u001b[0m│ optimizer     │ Adam             │      0 │\n",
       "└───┴───────────────┴──────────────────┴────────┘\n"
      ]
     },
     "metadata": {},
     "output_type": "display_data"
    },
    {
     "data": {
      "text/html": [
       "<pre style=\"white-space:pre;overflow-x:auto;line-height:normal;font-family:Menlo,'DejaVu Sans Mono',consolas,'Courier New',monospace\"><span style=\"font-weight: bold\">Trainable params</span>: 1.6 K                                                                                            \n",
       "<span style=\"font-weight: bold\">Non-trainable params</span>: 0                                                                                            \n",
       "<span style=\"font-weight: bold\">Total params</span>: 1.6 K                                                                                                \n",
       "<span style=\"font-weight: bold\">Total estimated model params size (MB)</span>: 0                                                                          \n",
       "</pre>\n"
      ],
      "text/plain": [
       "\u001b[1mTrainable params\u001b[0m: 1.6 K                                                                                            \n",
       "\u001b[1mNon-trainable params\u001b[0m: 0                                                                                            \n",
       "\u001b[1mTotal params\u001b[0m: 1.6 K                                                                                                \n",
       "\u001b[1mTotal estimated model params size (MB)\u001b[0m: 0                                                                          \n"
      ]
     },
     "metadata": {},
     "output_type": "display_data"
    },
    {
     "data": {
      "application/vnd.jupyter.widget-view+json": {
       "model_id": "f4bd20a89f74430e8f22cd5bdbe2d884",
       "version_major": 2,
       "version_minor": 0
      },
      "text/plain": [
       "Output()"
      ]
     },
     "metadata": {},
     "output_type": "display_data"
    },
    {
     "data": {
      "text/html": [
       "<pre style=\"white-space:pre;overflow-x:auto;line-height:normal;font-family:Menlo,'DejaVu Sans Mono',consolas,'Courier New',monospace\"></pre>\n"
      ],
      "text/plain": []
     },
     "metadata": {},
     "output_type": "display_data"
    },
    {
     "data": {
      "text/html": [
       "<pre style=\"white-space:pre;overflow-x:auto;line-height:normal;font-family:Menlo,'DejaVu Sans Mono',consolas,'Courier New',monospace\">\n",
       "</pre>\n"
      ],
      "text/plain": [
       "\n"
      ]
     },
     "metadata": {},
     "output_type": "display_data"
    },
    {
     "data": {
      "text/plain": [
       "<deeplay.callbacks.history.LogHistory at 0x1b191187ca0>"
      ]
     },
     "execution_count": 26,
     "metadata": {},
     "output_type": "execute_result"
    }
   ],
   "source": [
    "import lightning.pytorch.callbacks as callbacks\n",
    "\n",
    "early_stopping = callbacks.EarlyStopping(monitor=\"val_loss\", patience=1)\n",
    "checkpoint = callbacks.ModelCheckpoint(monitor=\"val_loss\", save_top_k=1)\n",
    "\n",
    "net = dl.models.SmallMLP(in_features=10, out_features=1)\n",
    "\n",
    "model = dl.Regressor(net).create()\n",
    "\n",
    "model.fit(\n",
    "    (x_numpy, y_numpy), \n",
    "    max_epochs=20, \n",
    "    batch_size=10, \n",
    "    val_data=(x_numpy_val, y_numpy_val), \n",
    "    val_batch_size=50, \n",
    "    callbacks=[early_stopping, checkpoint],\n",
    ")"
   ]
  },
  {
   "cell_type": "markdown",
   "metadata": {},
   "source": [
    "# Models\n",
    "\n",
    "Models are typically complete neural networks that do not need any further customization. They can be used directly in the applications. There are some exceptions. For example, the `backbone` models usually need a head to be useful.\n",
    "\n",
    "Let's look at some of the models available in Deeplay."
   ]
  },
  {
   "cell_type": "markdown",
   "metadata": {},
   "source": [
    "## Available models\n",
    "\n",
    "### ResNet18\n",
    "\n",
    "The ResNet18 is available as a backbone."
   ]
  },
  {
   "cell_type": "code",
   "execution_count": null,
   "metadata": {},
   "outputs": [
    {
     "name": "stdout",
     "output_type": "stream",
     "text": [
      "BackboneResnet18(\n",
      "  (blocks): LayerList(\n",
      "    (0): Conv2dBlock(\n",
      "      (layer): Layer[Conv2d](in_channels=3, out_channels=64, kernel_size=7, stride=2, padding=3, bias=False)\n",
      "      (normalization): Layer[BatchNorm2d](num_features=64)\n",
      "      (activation): Layer[ReLU](inplace=True)\n",
      "      (pool): Layer[MaxPool2d](kernel_size=3, stride=2, padding=1, ceil_mode=False, dilation=1)\n",
      "    )\n",
      "    (1): Conv2dBlock(\n",
      "      (blocks): Sequential(\n",
      "        (0): Conv2dBlock(\n",
      "          (shortcut_start): Conv2dBlock(\n",
      "            (layer): Layer[Identity](in_channels=64, out_channels=64, kernel_size=1, stride=1, padding=0)\n",
      "            (activation): Layer[Identity]()\n",
      "          )\n",
      "          (blocks): Sequential(\n",
      "            (0): Conv2dBlock(\n",
      "              (layer): Layer[Conv2d](in_channels=64, out_channels=64, kernel_size=3, stride=1, padding=1)\n",
      "              (normalization): Layer[BatchNorm2d](num_features=64)\n",
      "              (activation): Layer[ReLU]()\n",
      "            )\n",
      "            (1): Conv2dBlock(\n",
      "              (layer): Layer[Conv2d](in_channels=64, out_channels=64, kernel_size=3, stride=1, padding=1)\n",
      "              (normalization): Layer[BatchNorm2d](num_features=64)\n",
      "            )\n",
      "          )\n",
      "          (shortcut_end): Add()\n",
      "          (activation): Layer[ReLU]()\n",
      "        )\n",
      "        (1): Conv2dBlock(\n",
      "          (shortcut_start): Conv2dBlock(\n",
      "            (layer): Layer[Identity](in_channels=64, out_channels=64, kernel_size=1, stride=1, padding=0)\n",
      "            (activation): Layer[Identity]()\n",
      "          )\n",
      "          (blocks): Sequential(\n",
      "            (0): Conv2dBlock(\n",
      "              (layer): Layer[Conv2d](in_channels=64, out_channels=64, kernel_size=3, stride=1, padding=1)\n",
      "              (normalization): Layer[BatchNorm2d](num_features=64)\n",
      "              (activation): Layer[ReLU]()\n",
      "            )\n",
      "            (1): Conv2dBlock(\n",
      "              (layer): Layer[Conv2d](in_channels=64, out_channels=64, kernel_size=3, stride=1, padding=1)\n",
      "              (normalization): Layer[BatchNorm2d](num_features=64)\n",
      "            )\n",
      "          )\n",
      "          (shortcut_end): Add()\n",
      "          (activation): Layer[ReLU]()\n",
      "        )\n",
      "      )\n",
      "    )\n",
      "    (2): Conv2dBlock(\n",
      "      (blocks): Sequential(\n",
      "        (0): Conv2dBlock(\n",
      "          (shortcut_start): Conv2dBlock(\n",
      "            (layer): Layer[Conv2d](in_channels=64, out_channels=128, kernel_size=1, stride=2, padding=0)\n",
      "            (activation): Layer[Identity]()\n",
      "            (normalization): Layer[BatchNorm2d](num_features=128)\n",
      "          )\n",
      "          (blocks): Sequential(\n",
      "            (0): Conv2dBlock(\n",
      "              (layer): Layer[Conv2d](in_channels=64, out_channels=128, kernel_size=3, stride=2, padding=1)\n",
      "              (normalization): Layer[BatchNorm2d](num_features=128)\n",
      "              (activation): Layer[ReLU]()\n",
      "            )\n",
      "            (1): Conv2dBlock(\n",
      "              (layer): Layer[Conv2d](in_channels=128, out_channels=128, kernel_size=3, stride=1, padding=1)\n",
      "              (normalization): Layer[BatchNorm2d](num_features=128)\n",
      "            )\n",
      "          )\n",
      "          (shortcut_end): Add()\n",
      "          (activation): Layer[ReLU]()\n",
      "        )\n",
      "        (1): Conv2dBlock(\n",
      "          (shortcut_start): Conv2dBlock(\n",
      "            (layer): Layer[Identity](in_channels=128, out_channels=128, kernel_size=1, stride=1, padding=0)\n",
      "            (activation): Layer[Identity]()\n",
      "          )\n",
      "          (blocks): Sequential(\n",
      "            (0): Conv2dBlock(\n",
      "              (layer): Layer[Conv2d](in_channels=128, out_channels=128, kernel_size=3, stride=1, padding=1)\n",
      "              (normalization): Layer[BatchNorm2d](num_features=128)\n",
      "              (activation): Layer[ReLU]()\n",
      "            )\n",
      "            (1): Conv2dBlock(\n",
      "              (layer): Layer[Conv2d](in_channels=128, out_channels=128, kernel_size=3, stride=1, padding=1)\n",
      "              (normalization): Layer[BatchNorm2d](num_features=128)\n",
      "            )\n",
      "          )\n",
      "          (shortcut_end): Add()\n",
      "          (activation): Layer[ReLU]()\n",
      "        )\n",
      "      )\n",
      "    )\n",
      "    (3): Conv2dBlock(\n",
      "      (blocks): Sequential(\n",
      "        (0): Conv2dBlock(\n",
      "          (shortcut_start): Conv2dBlock(\n",
      "            (layer): Layer[Conv2d](in_channels=128, out_channels=256, kernel_size=1, stride=2, padding=0)\n",
      "            (activation): Layer[Identity]()\n",
      "            (normalization): Layer[BatchNorm2d](num_features=256)\n",
      "          )\n",
      "          (blocks): Sequential(\n",
      "            (0): Conv2dBlock(\n",
      "              (layer): Layer[Conv2d](in_channels=128, out_channels=256, kernel_size=3, stride=2, padding=1)\n",
      "              (normalization): Layer[BatchNorm2d](num_features=256)\n",
      "              (activation): Layer[ReLU]()\n",
      "            )\n",
      "            (1): Conv2dBlock(\n",
      "              (layer): Layer[Conv2d](in_channels=256, out_channels=256, kernel_size=3, stride=1, padding=1)\n",
      "              (normalization): Layer[BatchNorm2d](num_features=256)\n",
      "            )\n",
      "          )\n",
      "          (shortcut_end): Add()\n",
      "          (activation): Layer[ReLU]()\n",
      "        )\n",
      "        (1): Conv2dBlock(\n",
      "          (shortcut_start): Conv2dBlock(\n",
      "            (layer): Layer[Identity](in_channels=256, out_channels=256, kernel_size=1, stride=1, padding=0)\n",
      "            (activation): Layer[Identity]()\n",
      "          )\n",
      "          (blocks): Sequential(\n",
      "            (0): Conv2dBlock(\n",
      "              (layer): Layer[Conv2d](in_channels=256, out_channels=256, kernel_size=3, stride=1, padding=1)\n",
      "              (normalization): Layer[BatchNorm2d](num_features=256)\n",
      "              (activation): Layer[ReLU]()\n",
      "            )\n",
      "            (1): Conv2dBlock(\n",
      "              (layer): Layer[Conv2d](in_channels=256, out_channels=256, kernel_size=3, stride=1, padding=1)\n",
      "              (normalization): Layer[BatchNorm2d](num_features=256)\n",
      "            )\n",
      "          )\n",
      "          (shortcut_end): Add()\n",
      "          (activation): Layer[ReLU]()\n",
      "        )\n",
      "      )\n",
      "    )\n",
      "    (4): Conv2dBlock(\n",
      "      (blocks): Sequential(\n",
      "        (0): Conv2dBlock(\n",
      "          (shortcut_start): Conv2dBlock(\n",
      "            (layer): Layer[Conv2d](in_channels=256, out_channels=512, kernel_size=1, stride=2, padding=0)\n",
      "            (activation): Layer[Identity]()\n",
      "            (normalization): Layer[BatchNorm2d](num_features=512)\n",
      "          )\n",
      "          (blocks): Sequential(\n",
      "            (0): Conv2dBlock(\n",
      "              (layer): Layer[Conv2d](in_channels=256, out_channels=512, kernel_size=3, stride=2, padding=1)\n",
      "              (normalization): Layer[BatchNorm2d](num_features=512)\n",
      "              (activation): Layer[ReLU]()\n",
      "            )\n",
      "            (1): Conv2dBlock(\n",
      "              (layer): Layer[Conv2d](in_channels=512, out_channels=512, kernel_size=3, stride=1, padding=1)\n",
      "              (normalization): Layer[BatchNorm2d](num_features=512)\n",
      "            )\n",
      "          )\n",
      "          (shortcut_end): Add()\n",
      "          (activation): Layer[ReLU]()\n",
      "        )\n",
      "        (1): Conv2dBlock(\n",
      "          (shortcut_start): Conv2dBlock(\n",
      "            (layer): Layer[Identity](in_channels=512, out_channels=512, kernel_size=1, stride=1, padding=0)\n",
      "            (activation): Layer[Identity]()\n",
      "          )\n",
      "          (blocks): Sequential(\n",
      "            (0): Conv2dBlock(\n",
      "              (layer): Layer[Conv2d](in_channels=512, out_channels=512, kernel_size=3, stride=1, padding=1)\n",
      "              (normalization): Layer[BatchNorm2d](num_features=512)\n",
      "              (activation): Layer[ReLU]()\n",
      "            )\n",
      "            (1): Conv2dBlock(\n",
      "              (layer): Layer[Conv2d](in_channels=512, out_channels=512, kernel_size=3, stride=1, padding=1)\n",
      "              (normalization): Layer[BatchNorm2d](num_features=512)\n",
      "            )\n",
      "          )\n",
      "          (shortcut_end): Add()\n",
      "          (activation): Layer[ReLU]()\n",
      "        )\n",
      "      )\n",
      "    )\n",
      "  )\n",
      "  (postprocess): Layer[Identity]()\n",
      "  (pool): Layer[AdaptiveAvgPool2d](output_size=(1, 1))\n",
      ")\n"
     ]
    }
   ],
   "source": [
    "resnet18 = dl.models.BackboneResnet18(in_channels=3, pool_output=True)\n",
    "print(resnet18)"
   ]
  },
  {
   "cell_type": "markdown",
   "metadata": {},
   "source": [
    "### DCGAN generator and discriminator"
   ]
  },
  {
   "cell_type": "code",
   "execution_count": null,
   "metadata": {},
   "outputs": [
    {
     "name": "stdout",
     "output_type": "stream",
     "text": [
      "DCGANGenerator(\n",
      "  (blocks): LayerList(\n",
      "    (0): Conv2dBlock(\n",
      "      (layer): Layer[ConvTranspose2d](in_channels=100, out_channels=1024, kernel_size=4, stride=1, padding=0)\n",
      "      (activation): Layer[ReLU]()\n",
      "      (normalization): Layer[BatchNorm2d](num_features=1024)\n",
      "    )\n",
      "    (1): Conv2dBlock(\n",
      "      (layer): Layer[ConvTranspose2d](in_channels=1024, out_channels=512, kernel_size=4, stride=2, padding=1)\n",
      "      (activation): Layer[ReLU]()\n",
      "      (normalization): Layer[BatchNorm2d](num_features=512)\n",
      "    )\n",
      "    (2): Conv2dBlock(\n",
      "      (layer): Layer[ConvTranspose2d](in_channels=512, out_channels=256, kernel_size=4, stride=2, padding=1)\n",
      "      (activation): Layer[ReLU]()\n",
      "      (normalization): Layer[BatchNorm2d](num_features=256)\n",
      "    )\n",
      "    (3): Conv2dBlock(\n",
      "      (layer): Layer[ConvTranspose2d](in_channels=256, out_channels=128, kernel_size=4, stride=2, padding=1)\n",
      "      (activation): Layer[ReLU]()\n",
      "      (normalization): Layer[BatchNorm2d](num_features=128)\n",
      "    )\n",
      "    (4): Conv2dBlock(\n",
      "      (layer): Layer[ConvTranspose2d](in_channels=128, out_channels=3, kernel_size=4, stride=2, padding=1)\n",
      "      (activation): Layer[Tanh]()\n",
      "    )\n",
      "  )\n",
      "  (preprocess): Layer[Identity]()\n",
      "  (label_embedding): Layer[Identity]()\n",
      ")\n",
      "DCGANDiscriminator(\n",
      "  (blocks): LayerList(\n",
      "    (0): Conv2dBlock(\n",
      "      (layer): Layer[Conv2d](in_channels=3, out_channels=64, kernel_size=4, stride=2, padding=1)\n",
      "      (activation): Layer[ReLU]()\n",
      "    )\n",
      "    (1): Conv2dBlock(\n",
      "      (layer): Layer[Conv2d](in_channels=64, out_channels=128, kernel_size=4, stride=2, padding=1)\n",
      "      (activation): Layer[ReLU]()\n",
      "      (normalization): Layer[BatchNorm2d](num_features=128)\n",
      "    )\n",
      "    (2): Conv2dBlock(\n",
      "      (layer): Layer[Conv2d](in_channels=128, out_channels=256, kernel_size=4, stride=2, padding=1)\n",
      "      (activation): Layer[ReLU]()\n",
      "      (normalization): Layer[BatchNorm2d](num_features=256)\n",
      "    )\n",
      "    (3): Conv2dBlock(\n",
      "      (layer): Layer[Conv2d](in_channels=256, out_channels=512, kernel_size=4, stride=2, padding=1)\n",
      "      (activation): Layer[ReLU]()\n",
      "      (normalization): Layer[BatchNorm2d](num_features=512)\n",
      "    )\n",
      "    (4): Conv2dBlock(\n",
      "      (layer): Layer[Conv2d](in_channels=512, out_channels=1, kernel_size=4, stride=2, padding=0)\n",
      "      (activation): Layer[Sigmoid]()\n",
      "    )\n",
      "  )\n",
      "  (postprocess): Layer[Identity]()\n",
      "  (label_embedding): Layer[Identity]()\n",
      ")\n"
     ]
    }
   ],
   "source": [
    "generator = dl.models.DCGANGenerator(out_channels=3)\n",
    "discriminator = dl.models.DCGANDiscriminator(in_channels=3)\n",
    "\n",
    "print(generator)\n",
    "print(discriminator)"
   ]
  },
  {
   "cell_type": "markdown",
   "metadata": {},
   "source": [
    "### CycleGAN generator and discriminator"
   ]
  },
  {
   "cell_type": "code",
   "execution_count": null,
   "metadata": {},
   "outputs": [
    {
     "name": "stdout",
     "output_type": "stream",
     "text": [
      "CycleGANResnetGenerator(\n",
      "  (encoder): ConvolutionalEncoder2d(\n",
      "    (blocks): LayerList(\n",
      "      (0): Conv2dBlock(\n",
      "        (reflectionpad2d): Layer[ReflectionPad2d](padding=3)\n",
      "        (layer): Layer[Conv2d](in_channels=3, out_channels=64, kernel_size=7, stride=1, padding=0)\n",
      "        (normalization): Layer[InstanceNorm2d](num_features=64)\n",
      "        (activation): Layer[ReLU]()\n",
      "      )\n",
      "      (1): Conv2dBlock(\n",
      "        (layer): Layer[Conv2d](in_channels=64, out_channels=128, kernel_size=3, stride=2, padding=1)\n",
      "        (normalization): Layer[InstanceNorm2d](num_features=128)\n",
      "        (activation): Layer[ReLU]()\n",
      "      )\n",
      "      (2): Conv2dBlock(\n",
      "        (layer): Layer[Conv2d](in_channels=128, out_channels=256, kernel_size=3, stride=2, padding=1)\n",
      "        (normalization): Layer[InstanceNorm2d](num_features=256)\n",
      "        (activation): Layer[ReLU]()\n",
      "      )\n",
      "    )\n",
      "    (postprocess): Layer[Identity]()\n",
      "  )\n",
      "  (bottleneck): ConvolutionalNeuralNetwork(\n",
      "    (blocks): LayerList(\n",
      "      (0): Conv2dBlock(\n",
      "        (shortcut_start): Conv2dBlock(\n",
      "          (layer): Layer[Identity](in_channels=256, out_channels=256, kernel_size=1, stride=1, padding=0)\n",
      "          (activation): Layer[Identity]()\n",
      "        )\n",
      "        (blocks): Sequential(\n",
      "          (0): Conv2dBlock(\n",
      "            (layer): Layer[Conv2d](in_channels=256, out_channels=256, kernel_size=3, stride=1, padding=1)\n",
      "            (normalization): Layer[InstanceNorm2d](num_features=256)\n",
      "            (activation): Layer[ReLU]()\n",
      "          )\n",
      "          (1): Conv2dBlock(\n",
      "            (layer): Layer[Conv2d](in_channels=256, out_channels=256, kernel_size=3, stride=1, padding=1)\n",
      "            (normalization): Layer[InstanceNorm2d](num_features=256)\n",
      "            (activation): Layer[ReLU]()\n",
      "          )\n",
      "        )\n",
      "        (shortcut_end): Add()\n",
      "      )\n",
      "      (1): Conv2dBlock(\n",
      "        (shortcut_start): Conv2dBlock(\n",
      "          (layer): Layer[Identity](in_channels=256, out_channels=256, kernel_size=1, stride=1, padding=0)\n",
      "          (activation): Layer[Identity]()\n",
      "        )\n",
      "        (blocks): Sequential(\n",
      "          (0): Conv2dBlock(\n",
      "            (layer): Layer[Conv2d](in_channels=256, out_channels=256, kernel_size=3, stride=1, padding=1)\n",
      "            (normalization): Layer[InstanceNorm2d](num_features=256)\n",
      "            (activation): Layer[ReLU]()\n",
      "          )\n",
      "          (1): Conv2dBlock(\n",
      "            (layer): Layer[Conv2d](in_channels=256, out_channels=256, kernel_size=3, stride=1, padding=1)\n",
      "            (normalization): Layer[InstanceNorm2d](num_features=256)\n",
      "            (activation): Layer[ReLU]()\n",
      "          )\n",
      "        )\n",
      "        (shortcut_end): Add()\n",
      "      )\n",
      "      (2): Conv2dBlock(\n",
      "        (shortcut_start): Conv2dBlock(\n",
      "          (layer): Layer[Identity](in_channels=256, out_channels=256, kernel_size=1, stride=1, padding=0)\n",
      "          (activation): Layer[Identity]()\n",
      "        )\n",
      "        (blocks): Sequential(\n",
      "          (0): Conv2dBlock(\n",
      "            (layer): Layer[Conv2d](in_channels=256, out_channels=256, kernel_size=3, stride=1, padding=1)\n",
      "            (normalization): Layer[InstanceNorm2d](num_features=256)\n",
      "            (activation): Layer[ReLU]()\n",
      "          )\n",
      "          (1): Conv2dBlock(\n",
      "            (layer): Layer[Conv2d](in_channels=256, out_channels=256, kernel_size=3, stride=1, padding=1)\n",
      "            (normalization): Layer[InstanceNorm2d](num_features=256)\n",
      "            (activation): Layer[ReLU]()\n",
      "          )\n",
      "        )\n",
      "        (shortcut_end): Add()\n",
      "      )\n",
      "      (3): Conv2dBlock(\n",
      "        (shortcut_start): Conv2dBlock(\n",
      "          (layer): Layer[Identity](in_channels=256, out_channels=256, kernel_size=1, stride=1, padding=0)\n",
      "          (activation): Layer[Identity]()\n",
      "        )\n",
      "        (blocks): Sequential(\n",
      "          (0): Conv2dBlock(\n",
      "            (layer): Layer[Conv2d](in_channels=256, out_channels=256, kernel_size=3, stride=1, padding=1)\n",
      "            (normalization): Layer[InstanceNorm2d](num_features=256)\n",
      "            (activation): Layer[ReLU]()\n",
      "          )\n",
      "          (1): Conv2dBlock(\n",
      "            (layer): Layer[Conv2d](in_channels=256, out_channels=256, kernel_size=3, stride=1, padding=1)\n",
      "            (normalization): Layer[InstanceNorm2d](num_features=256)\n",
      "            (activation): Layer[ReLU]()\n",
      "          )\n",
      "        )\n",
      "        (shortcut_end): Add()\n",
      "      )\n",
      "      (4): Conv2dBlock(\n",
      "        (shortcut_start): Conv2dBlock(\n",
      "          (layer): Layer[Identity](in_channels=256, out_channels=256, kernel_size=1, stride=1, padding=0)\n",
      "          (activation): Layer[Identity]()\n",
      "        )\n",
      "        (blocks): Sequential(\n",
      "          (0): Conv2dBlock(\n",
      "            (layer): Layer[Conv2d](in_channels=256, out_channels=256, kernel_size=3, stride=1, padding=1)\n",
      "            (normalization): Layer[InstanceNorm2d](num_features=256)\n",
      "            (activation): Layer[ReLU]()\n",
      "          )\n",
      "          (1): Conv2dBlock(\n",
      "            (layer): Layer[Conv2d](in_channels=256, out_channels=256, kernel_size=3, stride=1, padding=1)\n",
      "            (normalization): Layer[InstanceNorm2d](num_features=256)\n",
      "            (activation): Layer[ReLU]()\n",
      "          )\n",
      "        )\n",
      "        (shortcut_end): Add()\n",
      "      )\n",
      "      (5): Conv2dBlock(\n",
      "        (shortcut_start): Conv2dBlock(\n",
      "          (layer): Layer[Identity](in_channels=256, out_channels=256, kernel_size=1, stride=1, padding=0)\n",
      "          (activation): Layer[Identity]()\n",
      "        )\n",
      "        (blocks): Sequential(\n",
      "          (0): Conv2dBlock(\n",
      "            (layer): Layer[Conv2d](in_channels=256, out_channels=256, kernel_size=3, stride=1, padding=1)\n",
      "            (normalization): Layer[InstanceNorm2d](num_features=256)\n",
      "            (activation): Layer[ReLU]()\n",
      "          )\n",
      "          (1): Conv2dBlock(\n",
      "            (layer): Layer[Conv2d](in_channels=256, out_channels=256, kernel_size=3, stride=1, padding=1)\n",
      "            (normalization): Layer[InstanceNorm2d](num_features=256)\n",
      "            (activation): Layer[ReLU]()\n",
      "          )\n",
      "        )\n",
      "        (shortcut_end): Add()\n",
      "      )\n",
      "      (6): Conv2dBlock(\n",
      "        (shortcut_start): Conv2dBlock(\n",
      "          (layer): Layer[Identity](in_channels=256, out_channels=256, kernel_size=1, stride=1, padding=0)\n",
      "          (activation): Layer[Identity]()\n",
      "        )\n",
      "        (blocks): Sequential(\n",
      "          (0): Conv2dBlock(\n",
      "            (layer): Layer[Conv2d](in_channels=256, out_channels=256, kernel_size=3, stride=1, padding=1)\n",
      "            (normalization): Layer[InstanceNorm2d](num_features=256)\n",
      "            (activation): Layer[ReLU]()\n",
      "          )\n",
      "          (1): Conv2dBlock(\n",
      "            (layer): Layer[Conv2d](in_channels=256, out_channels=256, kernel_size=3, stride=1, padding=1)\n",
      "            (normalization): Layer[InstanceNorm2d](num_features=256)\n",
      "            (activation): Layer[ReLU]()\n",
      "          )\n",
      "        )\n",
      "        (shortcut_end): Add()\n",
      "      )\n",
      "      (7): Conv2dBlock(\n",
      "        (shortcut_start): Conv2dBlock(\n",
      "          (layer): Layer[Identity](in_channels=256, out_channels=256, kernel_size=1, stride=1, padding=0)\n",
      "          (activation): Layer[Identity]()\n",
      "        )\n",
      "        (blocks): Sequential(\n",
      "          (0): Conv2dBlock(\n",
      "            (layer): Layer[Conv2d](in_channels=256, out_channels=256, kernel_size=3, stride=1, padding=1)\n",
      "            (normalization): Layer[InstanceNorm2d](num_features=256)\n",
      "            (activation): Layer[ReLU]()\n",
      "          )\n",
      "          (1): Conv2dBlock(\n",
      "            (layer): Layer[Conv2d](in_channels=256, out_channels=256, kernel_size=3, stride=1, padding=1)\n",
      "            (normalization): Layer[InstanceNorm2d](num_features=256)\n",
      "            (activation): Layer[ReLU]()\n",
      "          )\n",
      "        )\n",
      "        (shortcut_end): Add()\n",
      "      )\n",
      "      (8): Conv2dBlock(\n",
      "        (shortcut_start): Conv2dBlock(\n",
      "          (layer): Layer[Identity](in_channels=256, out_channels=256, kernel_size=1, stride=1, padding=0)\n",
      "          (activation): Layer[Identity]()\n",
      "        )\n",
      "        (blocks): Sequential(\n",
      "          (0): Conv2dBlock(\n",
      "            (layer): Layer[Conv2d](in_channels=256, out_channels=256, kernel_size=3, stride=1, padding=1)\n",
      "            (normalization): Layer[InstanceNorm2d](num_features=256)\n",
      "            (activation): Layer[ReLU]()\n",
      "          )\n",
      "          (1): Conv2dBlock(\n",
      "            (layer): Layer[Conv2d](in_channels=256, out_channels=256, kernel_size=3, stride=1, padding=1)\n",
      "            (normalization): Layer[InstanceNorm2d](num_features=256)\n",
      "            (activation): Layer[ReLU]()\n",
      "          )\n",
      "        )\n",
      "        (shortcut_end): Add()\n",
      "      )\n",
      "    )\n",
      "  )\n",
      "  (decoder): ConvolutionalDecoder2d(\n",
      "    (blocks): LayerList(\n",
      "      (0): Conv2dBlock(\n",
      "        (layer): Layer[ConvTranspose2d](in_channels=256, out_channels=128, kernel_size=3, stride=2, padding=1, output_padding=1)\n",
      "        (normalization): Layer[InstanceNorm2d](num_features=128)\n",
      "        (activation): Layer[ReLU]()\n",
      "      )\n",
      "      (1): Conv2dBlock(\n",
      "        (layer): Layer[ConvTranspose2d](in_channels=128, out_channels=64, kernel_size=3, stride=2, padding=1, output_padding=1)\n",
      "        (normalization): Layer[InstanceNorm2d](num_features=64)\n",
      "        (activation): Layer[ReLU]()\n",
      "      )\n",
      "      (2): Conv2dBlock(\n",
      "        (reflectionpad2d): Layer[ReflectionPad2d](padding=3)\n",
      "        (layer): Layer[Conv2d](in_channels=64, out_channels=3, kernel_size=7, stride=1, padding=0)\n",
      "        (normalization): Layer[InstanceNorm2d](num_features=3)\n",
      "        (activation): Layer[Tanh]()\n",
      "      )\n",
      "    )\n",
      "    (preprocess): Layer[Identity]()\n",
      "  )\n",
      ")\n",
      "CycleGANDiscriminator(\n",
      "  (blocks): LayerList(\n",
      "    (0): Conv2dBlock(\n",
      "      (layer): Layer[Conv2d](in_channels=3, out_channels=64, kernel_size=4, stride=2, padding=1)\n",
      "      (activation): Layer[LeakyReLU](negative_slope=0.2)\n",
      "    )\n",
      "    (1): Conv2dBlock(\n",
      "      (pool): Layer[MaxPool2d](kernel_size=2, stride=2)\n",
      "      (layer): Layer[Conv2d](in_channels=64, out_channels=128, kernel_size=4, stride=2, padding=1)\n",
      "      (normalization): Layer[InstanceNorm2d](num_features=128)\n",
      "      (activation): Layer[LeakyReLU](negative_slope=0.2)\n",
      "    )\n",
      "    (2): Conv2dBlock(\n",
      "      (pool): Layer[MaxPool2d](kernel_size=2, stride=2)\n",
      "      (layer): Layer[Conv2d](in_channels=128, out_channels=256, kernel_size=4, stride=2, padding=1)\n",
      "      (normalization): Layer[InstanceNorm2d](num_features=256)\n",
      "      (activation): Layer[LeakyReLU](negative_slope=0.2)\n",
      "    )\n",
      "    (3): Conv2dBlock(\n",
      "      (pool): Layer[MaxPool2d](kernel_size=2, stride=2)\n",
      "      (layer): Layer[Conv2d](in_channels=256, out_channels=512, kernel_size=4, stride=1, padding=1)\n",
      "      (normalization): Layer[InstanceNorm2d](num_features=512)\n",
      "      (activation): Layer[LeakyReLU](negative_slope=0.2)\n",
      "    )\n",
      "    (4): Conv2dBlock(\n",
      "      (pool): Layer[MaxPool2d](kernel_size=2, stride=2)\n",
      "      (layer): Layer[Conv2d](in_channels=512, out_channels=1, kernel_size=4, stride=1, padding=1)\n",
      "      (activation): Layer[Sigmoid]()\n",
      "    )\n",
      "  )\n",
      "  (postprocess): Layer[Identity]()\n",
      ")\n"
     ]
    }
   ],
   "source": [
    "generator = dl.models.CycleGANResnetGenerator(in_channels=3, out_channels=3)\n",
    "discriminator = dl.models.CycleGANDiscriminator(in_channels=3)\n",
    "\n",
    "print(generator)\n",
    "print(discriminator)"
   ]
  },
  {
   "cell_type": "markdown",
   "metadata": {},
   "source": [
    "### MultiLayerPerceptrons"
   ]
  },
  {
   "cell_type": "code",
   "execution_count": null,
   "metadata": {},
   "outputs": [
    {
     "name": "stdout",
     "output_type": "stream",
     "text": [
      "SmallMLP(\n",
      "  (blocks): LayerList(\n",
      "    (0): LinearBlock(\n",
      "      (layer): Linear(in_features=10, out_features=32, bias=True)\n",
      "      (activation): LeakyReLU(negative_slope=0.05)\n",
      "      (normalization): BatchNorm1d(32, eps=1e-05, momentum=0.1, affine=True, track_running_stats=True)\n",
      "    )\n",
      "    (1): LinearBlock(\n",
      "      (layer): Linear(in_features=32, out_features=32, bias=True)\n",
      "      (activation): LeakyReLU(negative_slope=0.05)\n",
      "      (normalization): BatchNorm1d(32, eps=1e-05, momentum=0.1, affine=True, track_running_stats=True)\n",
      "    )\n",
      "    (2): LinearBlock(\n",
      "      (layer): Linear(in_features=32, out_features=1, bias=True)\n",
      "      (activation): Identity()\n",
      "    )\n",
      "  )\n",
      ")\n",
      "MediumMLP(\n",
      "  (blocks): LayerList(\n",
      "    (0): LinearBlock(\n",
      "      (layer): Linear(in_features=10, out_features=64, bias=True)\n",
      "      (activation): LeakyReLU(negative_slope=0.05)\n",
      "      (normalization): BatchNorm1d(64, eps=1e-05, momentum=0.1, affine=True, track_running_stats=True)\n",
      "    )\n",
      "    (1): LinearBlock(\n",
      "      (layer): Linear(in_features=64, out_features=128, bias=True)\n",
      "      (activation): LeakyReLU(negative_slope=0.05)\n",
      "      (normalization): BatchNorm1d(128, eps=1e-05, momentum=0.1, affine=True, track_running_stats=True)\n",
      "    )\n",
      "    (2): LinearBlock(\n",
      "      (layer): Linear(in_features=128, out_features=1, bias=True)\n",
      "      (activation): Identity()\n",
      "    )\n",
      "  )\n",
      ")\n",
      "LargeMLP(\n",
      "  (blocks): LayerList(\n",
      "    (0): LinearBlock(\n",
      "      (layer): Linear(in_features=10, out_features=128, bias=True)\n",
      "      (activation): LeakyReLU(negative_slope=0.05)\n",
      "      (normalization): BatchNorm1d(128, eps=1e-05, momentum=0.1, affine=True, track_running_stats=True)\n",
      "    )\n",
      "    (1): LinearBlock(\n",
      "      (layer): Linear(in_features=128, out_features=128, bias=True)\n",
      "      (activation): LeakyReLU(negative_slope=0.05)\n",
      "      (normalization): BatchNorm1d(128, eps=1e-05, momentum=0.1, affine=True, track_running_stats=True)\n",
      "    )\n",
      "    (2): LinearBlock(\n",
      "      (layer): Linear(in_features=128, out_features=128, bias=True)\n",
      "      (activation): LeakyReLU(negative_slope=0.05)\n",
      "      (normalization): BatchNorm1d(128, eps=1e-05, momentum=0.1, affine=True, track_running_stats=True)\n",
      "    )\n",
      "    (3): LinearBlock(\n",
      "      (layer): Linear(in_features=128, out_features=1, bias=True)\n",
      "      (activation): Identity()\n",
      "    )\n",
      "  )\n",
      ")\n",
      "XLargeMLP(\n",
      "  (blocks): LayerList(\n",
      "    (0): LinearBlock(\n",
      "      (layer): Linear(in_features=10, out_features=128, bias=True)\n",
      "      (activation): LeakyReLU(negative_slope=0.05)\n",
      "      (normalization): BatchNorm1d(128, eps=1e-05, momentum=0.1, affine=True, track_running_stats=True)\n",
      "    )\n",
      "    (1): LinearBlock(\n",
      "      (layer): Linear(in_features=128, out_features=256, bias=True)\n",
      "      (activation): LeakyReLU(negative_slope=0.05)\n",
      "      (normalization): BatchNorm1d(256, eps=1e-05, momentum=0.1, affine=True, track_running_stats=True)\n",
      "    )\n",
      "    (2): LinearBlock(\n",
      "      (layer): Linear(in_features=256, out_features=512, bias=True)\n",
      "      (activation): LeakyReLU(negative_slope=0.05)\n",
      "      (normalization): BatchNorm1d(512, eps=1e-05, momentum=0.1, affine=True, track_running_stats=True)\n",
      "    )\n",
      "    (3): LinearBlock(\n",
      "      (layer): Linear(in_features=512, out_features=512, bias=True)\n",
      "      (activation): LeakyReLU(negative_slope=0.05)\n",
      "      (normalization): BatchNorm1d(512, eps=1e-05, momentum=0.1, affine=True, track_running_stats=True)\n",
      "    )\n",
      "    (4): LinearBlock(\n",
      "      (layer): Linear(in_features=512, out_features=1, bias=True)\n",
      "      (activation): Identity()\n",
      "    )\n",
      "  )\n",
      ")\n"
     ]
    }
   ],
   "source": [
    "small = dl.models.SmallMLP(in_features=10, out_features=1).create()\n",
    "medium = dl.models.MediumMLP(in_features=10, out_features=1).create()\n",
    "large = dl.models.LargeMLP(in_features=10, out_features=1).create()\n",
    "xlarge = dl.models.XLargeMLP(in_features=10, out_features=1).create()\n",
    "\n",
    "print(small)\n",
    "print(medium)\n",
    "print(large)\n",
    "print(xlarge)"
   ]
  },
  {
   "cell_type": "markdown",
   "metadata": {},
   "source": [
    "### Recurrent neural network\n",
    "\n",
    "TODO: we should implement specific models. The is more like a base"
   ]
  },
  {
   "cell_type": "code",
   "execution_count": null,
   "metadata": {},
   "outputs": [
    {
     "data": {
      "text/plain": [
       "RecurrentModel(\n",
       "  (embedding): Embedding(10, 10)\n",
       "  (embedding_dropout): Dropout(p=0, inplace=False)\n",
       "  (blocks): LayerList(\n",
       "    (0): Sequence1dBlock(\n",
       "      (layer): LSTM(10, 256, batch_first=True)\n",
       "    )\n",
       "    (1): Sequence1dBlock(\n",
       "      (layer): LSTM(256, 256, batch_first=True)\n",
       "    )\n",
       "  )\n",
       "  (head): MultiLayerPerceptron(\n",
       "    (blocks): LayerList(\n",
       "      (0): LinearBlock(\n",
       "        (layer): Linear(in_features=256, out_features=1, bias=True)\n",
       "        (activation): Sigmoid()\n",
       "      )\n",
       "    )\n",
       "  )\n",
       ")"
      ]
     },
     "execution_count": 31,
     "metadata": {},
     "output_type": "execute_result"
    }
   ],
   "source": [
    "rnn = dl.models.RecurrentModel(in_features=10, \n",
    "                               hidden_features=[256, 256], \n",
    "                               out_features=1,\n",
    "                               return_cell_state=True,\n",
    "                               rnn_type=\"LSTM\",\n",
    "                               out_activation=torch.nn.Sigmoid,\n",
    "                               bidirectional=False,\n",
    "                               batch_first=True,\n",
    "                               embedding=torch.nn.Embedding(num_embeddings=10, embedding_dim=10)).create()\n",
    "rnn"
   ]
  },
  {
   "cell_type": "markdown",
   "metadata": {},
   "source": [
    "### VisionTransformer\n",
    "\n",
    "TODO: we should implement specific models. The is more like a base"
   ]
  },
  {
   "cell_type": "code",
   "execution_count": null,
   "metadata": {},
   "outputs": [
    {
     "data": {
      "text/plain": [
       "ViT(\n",
       "  (patch_embedder): Patchify(\n",
       "    (layer): Conv2d(3, 128, kernel_size=(8, 8), stride=(8, 8))\n",
       "    (dropout): Dropout(p=0, inplace=False)\n",
       "  )\n",
       "  (positional_embedder): PositionalEmbedding(\n",
       "    (dropout): Dropout(p=0, inplace=False)\n",
       "  )\n",
       "  (transformer_encoder): TransformerEncoderLayer(\n",
       "    (blocks): LayerList(\n",
       "      (0): SequentialBlock(\n",
       "        (multihead): LayerDropoutSkipNormalization(\n",
       "          (normalization): LayerNorm((128,), eps=1e-05, elementwise_affine=True)\n",
       "          (layer): MultiheadSelfAttention(\n",
       "            (projection): Identity()\n",
       "            (attention): MultiheadAttention(\n",
       "              (out_proj): NonDynamicallyQuantizableLinear(in_features=128, out_features=128, bias=True)\n",
       "            )\n",
       "          )\n",
       "          (dropout): Dropout(p=0, inplace=False)\n",
       "          (skip): Add()\n",
       "        )\n",
       "        (feed_forward): LayerDropoutSkipNormalization(\n",
       "          (normalization): LayerNorm((128,), eps=1e-05, elementwise_affine=True)\n",
       "          (layer): MultiLayerPerceptron(\n",
       "            (blocks): LayerList(\n",
       "              (0): LinearBlock(\n",
       "                (layer): Linear(in_features=128, out_features=128, bias=True)\n",
       "                (activation): GELU(approximate='none')\n",
       "              )\n",
       "              (1): LinearBlock(\n",
       "                (layer): Linear(in_features=128, out_features=128, bias=True)\n",
       "                (activation): GELU(approximate='none')\n",
       "              )\n",
       "            )\n",
       "          )\n",
       "          (dropout): Dropout(p=0, inplace=False)\n",
       "          (skip): Add()\n",
       "        )\n",
       "      )\n",
       "      (1): SequentialBlock(\n",
       "        (multihead): LayerDropoutSkipNormalization(\n",
       "          (normalization): LayerNorm((128,), eps=1e-05, elementwise_affine=True)\n",
       "          (layer): MultiheadSelfAttention(\n",
       "            (projection): Identity()\n",
       "            (attention): MultiheadAttention(\n",
       "              (out_proj): NonDynamicallyQuantizableLinear(in_features=128, out_features=128, bias=True)\n",
       "            )\n",
       "          )\n",
       "          (dropout): Dropout(p=0, inplace=False)\n",
       "          (skip): Add()\n",
       "        )\n",
       "        (feed_forward): LayerDropoutSkipNormalization(\n",
       "          (normalization): LayerNorm((128,), eps=1e-05, elementwise_affine=True)\n",
       "          (layer): MultiLayerPerceptron(\n",
       "            (blocks): LayerList(\n",
       "              (0): LinearBlock(\n",
       "                (layer): Linear(in_features=128, out_features=128, bias=True)\n",
       "                (activation): GELU(approximate='none')\n",
       "              )\n",
       "              (1): LinearBlock(\n",
       "                (layer): Linear(in_features=128, out_features=128, bias=True)\n",
       "                (activation): GELU(approximate='none')\n",
       "              )\n",
       "            )\n",
       "          )\n",
       "          (dropout): Dropout(p=0, inplace=False)\n",
       "          (skip): Add()\n",
       "        )\n",
       "      )\n",
       "    )\n",
       "  )\n",
       "  (dense_top): MultiLayerPerceptron(\n",
       "    (blocks): LayerList(\n",
       "      (0): LinearBlock(\n",
       "        (layer): Linear(in_features=128, out_features=64, bias=True)\n",
       "        (activation): GELU(approximate='none')\n",
       "      )\n",
       "      (1): LinearBlock(\n",
       "        (layer): Linear(in_features=64, out_features=32, bias=True)\n",
       "        (activation): GELU(approximate='none')\n",
       "      )\n",
       "      (2): LinearBlock(\n",
       "        (layer): Linear(in_features=32, out_features=1, bias=True)\n",
       "        (activation): Identity()\n",
       "      )\n",
       "    )\n",
       "  )\n",
       ")"
      ]
     },
     "execution_count": 32,
     "metadata": {},
     "output_type": "execute_result"
    }
   ],
   "source": [
    "transformer = dl.models.ViT(in_channels=3, image_size=256, patch_size=8, hidden_features=[128, 128], num_heads=8, out_features=1).create()\n",
    "transformer"
   ]
  },
  {
   "cell_type": "markdown",
   "metadata": {},
   "source": [
    "## Making your own model from components\n",
    "\n",
    "Typically, you'll want to make your own model using Sequential:"
   ]
  },
  {
   "cell_type": "code",
   "execution_count": null,
   "metadata": {},
   "outputs": [
    {
     "name": "stdout",
     "output_type": "stream",
     "text": [
      "Sequential(\n",
      "  (0): BackboneResnet18(\n",
      "    (blocks): LayerList(\n",
      "      (0): Conv2dBlock(\n",
      "        (layer): Layer[Conv2d](in_channels=3, out_channels=64, kernel_size=7, stride=2, padding=3, bias=False)\n",
      "        (normalization): Layer[BatchNorm2d](num_features=64)\n",
      "        (activation): Layer[ReLU](inplace=True)\n",
      "        (pool): Layer[MaxPool2d](kernel_size=3, stride=2, padding=1, ceil_mode=False, dilation=1)\n",
      "      )\n",
      "      (1): Conv2dBlock(\n",
      "        (blocks): Sequential(\n",
      "          (0): Conv2dBlock(\n",
      "            (shortcut_start): Conv2dBlock(\n",
      "              (layer): Layer[Identity](in_channels=64, out_channels=64, kernel_size=1, stride=1, padding=0)\n",
      "              (activation): Layer[Identity]()\n",
      "            )\n",
      "            (blocks): Sequential(\n",
      "              (0): Conv2dBlock(\n",
      "                (layer): Layer[Conv2d](in_channels=64, out_channels=64, kernel_size=3, stride=1, padding=1)\n",
      "                (normalization): Layer[BatchNorm2d](num_features=64)\n",
      "                (activation): Layer[ReLU]()\n",
      "              )\n",
      "              (1): Conv2dBlock(\n",
      "                (layer): Layer[Conv2d](in_channels=64, out_channels=64, kernel_size=3, stride=1, padding=1)\n",
      "                (normalization): Layer[BatchNorm2d](num_features=64)\n",
      "              )\n",
      "            )\n",
      "            (shortcut_end): Add()\n",
      "            (activation): Layer[ReLU]()\n",
      "          )\n",
      "          (1): Conv2dBlock(\n",
      "            (shortcut_start): Conv2dBlock(\n",
      "              (layer): Layer[Identity](in_channels=64, out_channels=64, kernel_size=1, stride=1, padding=0)\n",
      "              (activation): Layer[Identity]()\n",
      "            )\n",
      "            (blocks): Sequential(\n",
      "              (0): Conv2dBlock(\n",
      "                (layer): Layer[Conv2d](in_channels=64, out_channels=64, kernel_size=3, stride=1, padding=1)\n",
      "                (normalization): Layer[BatchNorm2d](num_features=64)\n",
      "                (activation): Layer[ReLU]()\n",
      "              )\n",
      "              (1): Conv2dBlock(\n",
      "                (layer): Layer[Conv2d](in_channels=64, out_channels=64, kernel_size=3, stride=1, padding=1)\n",
      "                (normalization): Layer[BatchNorm2d](num_features=64)\n",
      "              )\n",
      "            )\n",
      "            (shortcut_end): Add()\n",
      "            (activation): Layer[ReLU]()\n",
      "          )\n",
      "        )\n",
      "      )\n",
      "      (2): Conv2dBlock(\n",
      "        (blocks): Sequential(\n",
      "          (0): Conv2dBlock(\n",
      "            (shortcut_start): Conv2dBlock(\n",
      "              (layer): Layer[Conv2d](in_channels=64, out_channels=128, kernel_size=1, stride=2, padding=0)\n",
      "              (activation): Layer[Identity]()\n",
      "              (normalization): Layer[BatchNorm2d](num_features=128)\n",
      "            )\n",
      "            (blocks): Sequential(\n",
      "              (0): Conv2dBlock(\n",
      "                (layer): Layer[Conv2d](in_channels=64, out_channels=128, kernel_size=3, stride=2, padding=1)\n",
      "                (normalization): Layer[BatchNorm2d](num_features=128)\n",
      "                (activation): Layer[ReLU]()\n",
      "              )\n",
      "              (1): Conv2dBlock(\n",
      "                (layer): Layer[Conv2d](in_channels=128, out_channels=128, kernel_size=3, stride=1, padding=1)\n",
      "                (normalization): Layer[BatchNorm2d](num_features=128)\n",
      "              )\n",
      "            )\n",
      "            (shortcut_end): Add()\n",
      "            (activation): Layer[ReLU]()\n",
      "          )\n",
      "          (1): Conv2dBlock(\n",
      "            (shortcut_start): Conv2dBlock(\n",
      "              (layer): Layer[Identity](in_channels=128, out_channels=128, kernel_size=1, stride=1, padding=0)\n",
      "              (activation): Layer[Identity]()\n",
      "            )\n",
      "            (blocks): Sequential(\n",
      "              (0): Conv2dBlock(\n",
      "                (layer): Layer[Conv2d](in_channels=128, out_channels=128, kernel_size=3, stride=1, padding=1)\n",
      "                (normalization): Layer[BatchNorm2d](num_features=128)\n",
      "                (activation): Layer[ReLU]()\n",
      "              )\n",
      "              (1): Conv2dBlock(\n",
      "                (layer): Layer[Conv2d](in_channels=128, out_channels=128, kernel_size=3, stride=1, padding=1)\n",
      "                (normalization): Layer[BatchNorm2d](num_features=128)\n",
      "              )\n",
      "            )\n",
      "            (shortcut_end): Add()\n",
      "            (activation): Layer[ReLU]()\n",
      "          )\n",
      "        )\n",
      "      )\n",
      "      (3): Conv2dBlock(\n",
      "        (blocks): Sequential(\n",
      "          (0): Conv2dBlock(\n",
      "            (shortcut_start): Conv2dBlock(\n",
      "              (layer): Layer[Conv2d](in_channels=128, out_channels=256, kernel_size=1, stride=2, padding=0)\n",
      "              (activation): Layer[Identity]()\n",
      "              (normalization): Layer[BatchNorm2d](num_features=256)\n",
      "            )\n",
      "            (blocks): Sequential(\n",
      "              (0): Conv2dBlock(\n",
      "                (layer): Layer[Conv2d](in_channels=128, out_channels=256, kernel_size=3, stride=2, padding=1)\n",
      "                (normalization): Layer[BatchNorm2d](num_features=256)\n",
      "                (activation): Layer[ReLU]()\n",
      "              )\n",
      "              (1): Conv2dBlock(\n",
      "                (layer): Layer[Conv2d](in_channels=256, out_channels=256, kernel_size=3, stride=1, padding=1)\n",
      "                (normalization): Layer[BatchNorm2d](num_features=256)\n",
      "              )\n",
      "            )\n",
      "            (shortcut_end): Add()\n",
      "            (activation): Layer[ReLU]()\n",
      "          )\n",
      "          (1): Conv2dBlock(\n",
      "            (shortcut_start): Conv2dBlock(\n",
      "              (layer): Layer[Identity](in_channels=256, out_channels=256, kernel_size=1, stride=1, padding=0)\n",
      "              (activation): Layer[Identity]()\n",
      "            )\n",
      "            (blocks): Sequential(\n",
      "              (0): Conv2dBlock(\n",
      "                (layer): Layer[Conv2d](in_channels=256, out_channels=256, kernel_size=3, stride=1, padding=1)\n",
      "                (normalization): Layer[BatchNorm2d](num_features=256)\n",
      "                (activation): Layer[ReLU]()\n",
      "              )\n",
      "              (1): Conv2dBlock(\n",
      "                (layer): Layer[Conv2d](in_channels=256, out_channels=256, kernel_size=3, stride=1, padding=1)\n",
      "                (normalization): Layer[BatchNorm2d](num_features=256)\n",
      "              )\n",
      "            )\n",
      "            (shortcut_end): Add()\n",
      "            (activation): Layer[ReLU]()\n",
      "          )\n",
      "        )\n",
      "      )\n",
      "      (4): Conv2dBlock(\n",
      "        (blocks): Sequential(\n",
      "          (0): Conv2dBlock(\n",
      "            (shortcut_start): Conv2dBlock(\n",
      "              (layer): Layer[Conv2d](in_channels=256, out_channels=512, kernel_size=1, stride=2, padding=0)\n",
      "              (activation): Layer[Identity]()\n",
      "              (normalization): Layer[BatchNorm2d](num_features=512)\n",
      "            )\n",
      "            (blocks): Sequential(\n",
      "              (0): Conv2dBlock(\n",
      "                (layer): Layer[Conv2d](in_channels=256, out_channels=512, kernel_size=3, stride=2, padding=1)\n",
      "                (normalization): Layer[BatchNorm2d](num_features=512)\n",
      "                (activation): Layer[ReLU]()\n",
      "              )\n",
      "              (1): Conv2dBlock(\n",
      "                (layer): Layer[Conv2d](in_channels=512, out_channels=512, kernel_size=3, stride=1, padding=1)\n",
      "                (normalization): Layer[BatchNorm2d](num_features=512)\n",
      "              )\n",
      "            )\n",
      "            (shortcut_end): Add()\n",
      "            (activation): Layer[ReLU]()\n",
      "          )\n",
      "          (1): Conv2dBlock(\n",
      "            (shortcut_start): Conv2dBlock(\n",
      "              (layer): Layer[Identity](in_channels=512, out_channels=512, kernel_size=1, stride=1, padding=0)\n",
      "              (activation): Layer[Identity]()\n",
      "            )\n",
      "            (blocks): Sequential(\n",
      "              (0): Conv2dBlock(\n",
      "                (layer): Layer[Conv2d](in_channels=512, out_channels=512, kernel_size=3, stride=1, padding=1)\n",
      "                (normalization): Layer[BatchNorm2d](num_features=512)\n",
      "                (activation): Layer[ReLU]()\n",
      "              )\n",
      "              (1): Conv2dBlock(\n",
      "                (layer): Layer[Conv2d](in_channels=512, out_channels=512, kernel_size=3, stride=1, padding=1)\n",
      "                (normalization): Layer[BatchNorm2d](num_features=512)\n",
      "              )\n",
      "            )\n",
      "            (shortcut_end): Add()\n",
      "            (activation): Layer[ReLU]()\n",
      "          )\n",
      "        )\n",
      "      )\n",
      "    )\n",
      "    (postprocess): Layer[Identity]()\n",
      "    (pool): Layer[AdaptiveAvgPool2d](output_size=(1, 1))\n",
      "  )\n",
      "  (1): SmallMLP(\n",
      "    (blocks): LayerList(\n",
      "      (0): LinearBlock(\n",
      "        (layer): Layer[Linear](in_features=512, out_features=32, bias=True)\n",
      "        (activation): Layer[LeakyReLU](negative_slope=0.05)\n",
      "        (normalization): Layer[BatchNorm1d](num_features=32)\n",
      "      )\n",
      "      (1): LinearBlock(\n",
      "        (layer): Layer[Linear](in_features=32, out_features=32, bias=True)\n",
      "        (activation): Layer[LeakyReLU](negative_slope=0.05)\n",
      "        (normalization): Layer[BatchNorm1d](num_features=32)\n",
      "      )\n",
      "      (2): LinearBlock(\n",
      "        (layer): Layer[Linear](in_features=32, out_features=1, bias=True)\n",
      "        (activation): Layer[Identity]()\n",
      "      )\n",
      "    )\n",
      "  )\n",
      ")\n"
     ]
    }
   ],
   "source": [
    "import deeplay as dl\n",
    "import torch\n",
    "model = dl.Sequential(\n",
    "    dl.models.BackboneResnet18(in_channels=3, pool_output=True),\n",
    "    dl.models.SmallMLP(in_features=512, out_features=1)\n",
    ")\n",
    "print(model)"
   ]
  },
  {
   "cell_type": "code",
   "execution_count": null,
   "metadata": {},
   "outputs": [
    {
     "data": {
      "text/plain": [
       "Sequential(\n",
       "  (0): ConvolutionalEncoder2d(\n",
       "    (blocks): LayerList(\n",
       "      (0): Conv2dBlock(\n",
       "        (layer): Layer[Conv2d](in_channels=3, out_channels=16, kernel_size=3, stride=1, padding=1)\n",
       "        (activation): Layer[LeakyReLU](negative_slope=0.2)\n",
       "      )\n",
       "      (1): Conv2dBlock(\n",
       "        (pool): Layer[MaxPool2d](kernel_size=2, stride=2)\n",
       "        (layer): Layer[Conv2d](in_channels=16, out_channels=32, kernel_size=3, stride=1, padding=1)\n",
       "        (activation): Layer[LeakyReLU](negative_slope=0.2)\n",
       "      )\n",
       "      (2): Conv2dBlock(\n",
       "        (pool): Layer[MaxPool2d](kernel_size=2, stride=2)\n",
       "        (layer): Layer[Conv2d](in_channels=32, out_channels=64, kernel_size=3, stride=1, padding=1)\n",
       "        (activation): Layer[LeakyReLU](negative_slope=0.2)\n",
       "      )\n",
       "      (3): Conv2dBlock(\n",
       "        (pool): Layer[MaxPool2d](kernel_size=2, stride=2)\n",
       "        (layer): Layer[Conv2d](in_channels=64, out_channels=128, kernel_size=3, stride=1, padding=1)\n",
       "        (activation): Layer[Identity]()\n",
       "      )\n",
       "    )\n",
       "    (postprocess): Layer[Identity]()\n",
       "  )\n",
       "  (1): AdaptiveAvgPool2d(output_size=(1, 1))\n",
       "  (2): MultiLayerPerceptron(\n",
       "    (blocks): LayerList(\n",
       "      (0): LinearBlock(\n",
       "        (layer): Layer[Linear](in_features=128, out_features=1, bias=True)\n",
       "        (activation): Layer[Identity]()\n",
       "      )\n",
       "    )\n",
       "  )\n",
       ")"
      ]
     },
     "execution_count": 34,
     "metadata": {},
     "output_type": "execute_result"
    }
   ],
   "source": [
    "model = dl.Sequential(\n",
    "    dl.ConvolutionalEncoder2d(3, [16, 32, 64], 128),\n",
    "    torch.nn.AdaptiveAvgPool2d((1, 1)),\n",
    "    dl.MultiLayerPerceptron(128, [], 1)\n",
    ")\n",
    "model[..., \"activation\"].isinstance(torch.nn.ReLU).configure(torch.nn.LeakyReLU, negative_slope=0.2)\n",
    "model"
   ]
  },
  {
   "cell_type": "markdown",
   "metadata": {},
   "source": [
    "### Making a model by subclassing\n",
    "\n",
    "A model is just a `DeeplayModule` sublass like any other. For some applications, it might be more convenient to subclass the model and implement the forward method."
   ]
  },
  {
   "cell_type": "code",
   "execution_count": null,
   "metadata": {},
   "outputs": [
    {
     "data": {
      "text/plain": [
       "MyModel(\n",
       "  (backbone): ConvolutionalEncoder2d(\n",
       "    (blocks): LayerList(\n",
       "      (0): Conv2dBlock(\n",
       "        (layer): Conv2d(3, 16, kernel_size=(3, 3), stride=(1, 1), padding=(1, 1))\n",
       "        (activation): ReLU()\n",
       "      )\n",
       "      (1): Conv2dBlock(\n",
       "        (pool): MaxPool2d(kernel_size=2, stride=2, padding=0, dilation=1, ceil_mode=False)\n",
       "        (layer): Conv2d(16, 32, kernel_size=(3, 3), stride=(1, 1), padding=(1, 1))\n",
       "        (activation): ReLU()\n",
       "      )\n",
       "      (2): Conv2dBlock(\n",
       "        (pool): MaxPool2d(kernel_size=2, stride=2, padding=0, dilation=1, ceil_mode=False)\n",
       "        (layer): Conv2d(32, 64, kernel_size=(3, 3), stride=(1, 1), padding=(1, 1))\n",
       "        (activation): ReLU()\n",
       "      )\n",
       "      (3): Conv2dBlock(\n",
       "        (pool): MaxPool2d(kernel_size=2, stride=2, padding=0, dilation=1, ceil_mode=False)\n",
       "        (layer): Conv2d(64, 128, kernel_size=(3, 3), stride=(1, 1), padding=(1, 1))\n",
       "        (activation): Identity()\n",
       "      )\n",
       "    )\n",
       "    (postprocess): Identity()\n",
       "  )\n",
       "  (regression_head): SmallMLP(\n",
       "    (blocks): LayerList(\n",
       "      (0): LinearBlock(\n",
       "        (layer): Linear(in_features=128, out_features=32, bias=True)\n",
       "        (activation): LeakyReLU(negative_slope=0.05)\n",
       "        (normalization): BatchNorm1d(32, eps=1e-05, momentum=0.1, affine=True, track_running_stats=True)\n",
       "      )\n",
       "      (1): LinearBlock(\n",
       "        (layer): Linear(in_features=32, out_features=32, bias=True)\n",
       "        (activation): LeakyReLU(negative_slope=0.05)\n",
       "        (normalization): BatchNorm1d(32, eps=1e-05, momentum=0.1, affine=True, track_running_stats=True)\n",
       "      )\n",
       "      (2): LinearBlock(\n",
       "        (layer): Linear(in_features=32, out_features=1, bias=True)\n",
       "        (activation): Identity()\n",
       "      )\n",
       "    )\n",
       "  )\n",
       "  (classification_head): SmallMLP(\n",
       "    (blocks): LayerList(\n",
       "      (0): LinearBlock(\n",
       "        (layer): Linear(in_features=128, out_features=32, bias=True)\n",
       "        (activation): LeakyReLU(negative_slope=0.05)\n",
       "        (normalization): BatchNorm1d(32, eps=1e-05, momentum=0.1, affine=True, track_running_stats=True)\n",
       "      )\n",
       "      (1): LinearBlock(\n",
       "        (layer): Linear(in_features=32, out_features=32, bias=True)\n",
       "        (activation): LeakyReLU(negative_slope=0.05)\n",
       "        (normalization): BatchNorm1d(32, eps=1e-05, momentum=0.1, affine=True, track_running_stats=True)\n",
       "      )\n",
       "      (2): LinearBlock(\n",
       "        (layer): Linear(in_features=32, out_features=10, bias=True)\n",
       "        (activation): Identity()\n",
       "      )\n",
       "    )\n",
       "  )\n",
       ")"
      ]
     },
     "execution_count": 35,
     "metadata": {},
     "output_type": "execute_result"
    }
   ],
   "source": [
    "class MyModel(dl.DeeplayModule):\n",
    "\n",
    "    def __init__(self):\n",
    "        self.backbone = dl.ConvolutionalEncoder2d(3, [16, 32, 64], 128)\n",
    "        self.regression_head = dl.models.SmallMLP(in_features=128, out_features=1)\n",
    "        self.classification_head = dl.models.SmallMLP(in_features=128, out_features=10)\n",
    "\n",
    "    def forward(self, x):\n",
    "        x = self.backbone(x)\n",
    "        reg = self.regression_head(x)\n",
    "        cls = self.classification_head(x)\n",
    "        return reg, cls\n",
    "    \n",
    "model = MyModel().create()\n",
    "model"
   ]
  },
  {
   "cell_type": "markdown",
   "metadata": {},
   "source": [
    "## Weight initialization\n",
    "\n",
    "Deeplay provides some weight initialization methods. These can be used before or after the model is built."
   ]
  },
  {
   "cell_type": "code",
   "execution_count": null,
   "metadata": {},
   "outputs": [
    {
     "data": {
      "text/plain": [
       "(tensor(1.0677, grad_fn=<MeanBackward0>),\n",
       " tensor(0.9439, grad_fn=<StdBackward0>))"
      ]
     },
     "execution_count": 36,
     "metadata": {},
     "output_type": "execute_result"
    }
   ],
   "source": [
    "backbone = dl.ConvolutionalEncoder2d(3, [16, 32, 64], 128)\n",
    "\n",
    "initializer = dl.initializers.Normal(mean=1, std=1.0)\n",
    "backbone.initialize(initializer)\n",
    "backbone.build()\n",
    "\n",
    "backbone.blocks[0].layer.weight.mean(), backbone.blocks[0].layer.weight.std()"
   ]
  },
  {
   "cell_type": "code",
   "execution_count": null,
   "metadata": {},
   "outputs": [
    {
     "data": {
      "text/plain": [
       "(tensor(1.0721, grad_fn=<MeanBackward0>),\n",
       " tensor(0.9920, grad_fn=<StdBackward0>))"
      ]
     },
     "execution_count": 37,
     "metadata": {},
     "output_type": "execute_result"
    }
   ],
   "source": [
    "# After build\n",
    "backbone = dl.ConvolutionalEncoder2d(3, [16, 32, 64], 128)\n",
    "\n",
    "initializer = dl.initializers.Normal(mean=1, std=1.0)\n",
    "backbone.build()\n",
    "backbone.initialize(initializer)\n",
    "\n",
    "\n",
    "backbone.blocks[0].layer.weight.mean(), backbone.blocks[0].layer.weight.std()"
   ]
  },
  {
   "cell_type": "markdown",
   "metadata": {},
   "source": [
    "### Conditional weight initialization\n",
    "\n",
    "It's also possible to conditionally initialize the weights. This can be useful if you want to use different initialization methods for different parts of the model.\n",
    "\n",
    "There are two ways to do this. The first is to set the `targets` parameter of the initializer, which should be a tuple of module types that should be initialized. The second way is to use the selector syntax."
   ]
  },
  {
   "cell_type": "code",
   "execution_count": null,
   "metadata": {},
   "outputs": [
    {
     "name": "stdout",
     "output_type": "stream",
     "text": [
      "Conv2d tensor(0.0707, grad_fn=<MeanBackward0>) tensor(1.0029, grad_fn=<StdBackward0>)\n",
      "BatchNorm2d tensor(1., grad_fn=<MeanBackward0>) tensor(0., grad_fn=<StdBackward0>)\n"
     ]
    }
   ],
   "source": [
    "# Using `target`\n",
    "\n",
    "backbone = dl.ConvolutionalEncoder2d(3, [16, 32, 64], 128)\n",
    "backbone.normalized() # We add normalization, which we want to initialize differently\n",
    "\n",
    "conv_initializer = dl.initializers.Normal(mean=0, std=1.0, targets=(torch.nn.Conv2d,))\n",
    "norm_initializer = dl.initializers.Constant(weight=1, bias=0, targets=(torch.nn.BatchNorm2d,))\n",
    "backbone.initialize(conv_initializer)\n",
    "backbone.initialize(norm_initializer)\n",
    "backbone.build()\n",
    "\n",
    "print(\"Conv2d\", backbone.blocks[0].layer.weight.mean(), backbone.blocks[0].layer.weight.std())\n",
    "print(\"BatchNorm2d\", backbone.blocks[0].normalization.weight.mean(), backbone.blocks[0].normalization.weight.std())\n"
   ]
  },
  {
   "cell_type": "code",
   "execution_count": null,
   "metadata": {},
   "outputs": [
    {
     "name": "stdout",
     "output_type": "stream",
     "text": [
      "Conv2d tensor(0.0111, grad_fn=<MeanBackward0>) tensor(0.9643, grad_fn=<StdBackward0>)\n",
      "BatchNorm2d tensor(1., grad_fn=<MeanBackward0>) tensor(0., grad_fn=<StdBackward0>)\n"
     ]
    }
   ],
   "source": [
    "# Using selectors\n",
    "\n",
    "backbone = dl.ConvolutionalEncoder2d(3, [16, 32, 64], 128)\n",
    "backbone.normalized() # We add normalization, which we want to initialize differently\n",
    "\n",
    "conv_initializer = dl.initializers.Normal(mean=0, std=1)\n",
    "norm_initializer = dl.initializers.Constant(weight=1, bias=0)\n",
    "\n",
    "backbone[..., \"layer\"].all.initialize(conv_initializer)\n",
    "backbone[..., \"normalization\"].all.initialize(norm_initializer)\n",
    "backbone.build()\n",
    "\n",
    "print(\"Conv2d\", backbone.blocks[0].layer.weight.mean(), backbone.blocks[0].layer.weight.std())\n",
    "print(\"BatchNorm2d\", backbone.blocks[0].normalization.weight.mean(), backbone.blocks[0].normalization.weight.std())"
   ]
  },
  {
   "cell_type": "code",
   "execution_count": null,
   "metadata": {},
   "outputs": [],
   "source": []
  }
 ],
 "metadata": {
  "kernelspec": {
   "display_name": "Python 3",
   "language": "python",
   "name": "python3"
  },
  "language_info": {
   "codemirror_mode": {
    "name": "ipython",
    "version": 3
   },
   "file_extension": ".py",
   "mimetype": "text/x-python",
   "name": "python",
   "nbconvert_exporter": "python",
   "pygments_lexer": "ipython3",
   "version": "3.12.2"
  }
 },
 "nbformat": 4,
 "nbformat_minor": 2
}
