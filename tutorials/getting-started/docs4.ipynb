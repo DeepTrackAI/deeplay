{
 "cells": [
  {
   "cell_type": "code",
   "execution_count": 8,
   "metadata": {},
   "outputs": [],
   "source": [
    "import deeplay as dl\n",
    "import torch.nn as nn"
   ]
  },
  {
   "cell_type": "markdown",
   "metadata": {},
   "source": [
    "# Styles\n",
    "\n",
    "Styles are a collection of configurations that can be applied to a deeplay module. Different modules will have different styles available. You can check the available styles using the `available_styles` method. This method can be called either on the class or an instance of the class."
   ]
  },
  {
   "cell_type": "code",
   "execution_count": 3,
   "metadata": {},
   "outputs": [
    {
     "data": {
      "text/plain": [
       "['residual',\n",
       " 'spatial_self_attention',\n",
       " 'spatial_cross_attention',\n",
       " 'spatial_transformer',\n",
       " 'resnet',\n",
       " 'resnet18_input']"
      ]
     },
     "execution_count": 3,
     "metadata": {},
     "output_type": "execute_result"
    }
   ],
   "source": [
    "dl.Conv2dBlock.available_styles()"
   ]
  },
  {
   "cell_type": "markdown",
   "metadata": {},
   "source": [
    "We can apply a style using the `style` method. The `style` method takes the name of the style as an argument. "
   ]
  },
  {
   "cell_type": "code",
   "execution_count": 5,
   "metadata": {},
   "outputs": [],
   "source": [
    "block = dl.Conv2dBlock(3, 64).style(\"residual\")"
   ]
  },
  {
   "cell_type": "markdown",
   "metadata": {},
   "source": [
    "It is fine to chain `style` with other configuration methods. However, it is recommended to apply the style first. Most styles assume that the module is in an unstyled state. Applying a style after other configurations may lead to unexpected results."
   ]
  },
  {
   "cell_type": "code",
   "execution_count": 6,
   "metadata": {},
   "outputs": [
    {
     "data": {
      "text/plain": [
       "Conv2dBlock(\n",
       "  (shortcut_start): Conv2dBlock(\n",
       "    (layer): Layer[Conv2d](in_channels=3, out_channels=64, kernel_size=1, stride=2, padding=0)\n",
       "    (activation): Layer[Identity]()\n",
       "  )\n",
       "  (blocks): Sequential(\n",
       "    (0): Conv2dBlock(\n",
       "      (layer): Layer[Conv2d](in_channels=3, out_channels=64, kernel_size=3, stride=2, padding=0)\n",
       "      (activation): Layer[ReLU]()\n",
       "      (normalization): Layer[BatchNorm2d](num_features=64)\n",
       "    )\n",
       "    (1): Conv2dBlock(\n",
       "      (layer): Layer[Conv2d](in_channels=64, out_channels=64, kernel_size=3, stride=1, padding=0)\n",
       "      (activation): Layer[ReLU]()\n",
       "      (normalization): Layer[BatchNorm2d](num_features=64)\n",
       "    )\n",
       "  )\n",
       "  (shortcut_end): Add()\n",
       ")"
      ]
     },
     "execution_count": 6,
     "metadata": {},
     "output_type": "execute_result"
    }
   ],
   "source": [
    "block = dl.Conv2dBlock(3, 64).style(\"residual\").strided(2)\n",
    "block"
   ]
  },
  {
   "cell_type": "markdown",
   "metadata": {},
   "source": [
    "Some styles may have additional parameters. These parameters can be passed as keyword arguments to the `style` method. Your editor should show you the available parameters as well as a documentation string for the style."
   ]
  },
  {
   "cell_type": "code",
   "execution_count": 7,
   "metadata": {},
   "outputs": [
    {
     "data": {
      "text/plain": [
       "Conv2dBlock(\n",
       "  (shortcut_start): Conv2dBlock(\n",
       "    (layer): Layer[Conv2d](in_channels=3, out_channels=64, kernel_size=1, stride=1, padding=0)\n",
       "    (activation): Layer[Identity]()\n",
       "  )\n",
       "  (blocks): Sequential(\n",
       "    (0): Conv2dBlock(\n",
       "      (layer): Layer[Conv2d](in_channels=3, out_channels=64, kernel_size=3, stride=1, padding=0)\n",
       "      (activation): Layer[ReLU]()\n",
       "    )\n",
       "    (1): Conv2dBlock(\n",
       "      (layer): Layer[Conv2d](in_channels=64, out_channels=64, kernel_size=3, stride=1, padding=0)\n",
       "      (activation): Layer[ReLU]()\n",
       "    )\n",
       "  )\n",
       "  (shortcut_end): Add()\n",
       ")"
      ]
     },
     "execution_count": 7,
     "metadata": {},
     "output_type": "execute_result"
    }
   ],
   "source": [
    "block = dl.Conv2dBlock(3, 64).style(\"residual\", order=\"lala|\")\n",
    "block"
   ]
  },
  {
   "cell_type": "markdown",
   "metadata": {},
   "source": [
    "## Extending Styles\n",
    "\n",
    "You can easily create your own styles. This is useful to apply a set of configurations to multiple modules. To create a style, you simply need to use the `@class.register_style` decorator. The name of the function will be the name of the style. The function should take a module as the first argument, and any additional parameters as keyword arguments."
   ]
  },
  {
   "cell_type": "code",
   "execution_count": 16,
   "metadata": {},
   "outputs": [
    {
     "data": {
      "text/plain": [
       "['my_linear']"
      ]
     },
     "execution_count": 16,
     "metadata": {},
     "output_type": "execute_result"
    }
   ],
   "source": [
    "@dl.LinearBlock.register_style\n",
    "def my_linear(block: dl.LinearBlock, bias_in_shortcut=False):\n",
    "    block.activated(nn.GELU)\n",
    "    block.normalized(nn.BatchNorm1d)\n",
    "    block.shortcut(shortcut=dl.Layer(nn.Linear, block.in_features, block.out_features, bias=bias_in_shortcut))\n",
    "    return block\n",
    "\n",
    "dl.LinearBlock.available_styles()"
   ]
  },
  {
   "cell_type": "code",
   "execution_count": 15,
   "metadata": {},
   "outputs": [
    {
     "data": {
      "text/plain": [
       "(LinearBlock(\n",
       "   (shortcut_start): Layer[Linear](in_features=3, out_features=64, bias=False)\n",
       "   (layer): Layer[Linear](in_features=3, out_features=64, bias=True)\n",
       "   (activation): Layer[GELU]()\n",
       "   (normalization): Layer[BatchNorm1d](num_features=64)\n",
       "   (shortcut_end): Add()\n",
       " ),\n",
       " LinearBlock(\n",
       "   (shortcut_start): Layer[Linear](in_features=3, out_features=64, bias=True)\n",
       "   (layer): Layer[Linear](in_features=3, out_features=64, bias=True)\n",
       "   (activation): Layer[GELU]()\n",
       "   (normalization): Layer[BatchNorm1d](num_features=64)\n",
       "   (shortcut_end): Add()\n",
       " ))"
      ]
     },
     "execution_count": 15,
     "metadata": {},
     "output_type": "execute_result"
    }
   ],
   "source": [
    "block = dl.LinearBlock(3, 64).style(\"my_linear\")\n",
    "block_with_bias = dl.LinearBlock(3, 64).style(\"my_linear\", bias_in_shortcut=True)\n",
    "block, block_with_bias"
   ]
  }
 ],
 "metadata": {
  "kernelspec": {
   "display_name": "Python 3",
   "language": "python",
   "name": "python3"
  },
  "language_info": {
   "codemirror_mode": {
    "name": "ipython",
    "version": 3
   },
   "file_extension": ".py",
   "mimetype": "text/x-python",
   "name": "python",
   "nbconvert_exporter": "python",
   "pygments_lexer": "ipython3",
   "version": "3.10.10"
  }
 },
 "nbformat": 4,
 "nbformat_minor": 2
}
