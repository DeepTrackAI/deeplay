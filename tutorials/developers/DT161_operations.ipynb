{
 "cells": [
  {
   "cell_type": "markdown",
   "metadata": {},
   "source": [
    "# Implementing an Operation"
   ]
  },
  {
   "cell_type": "markdown",
   "metadata": {},
   "source": [
    "## What Should Be Implemented as an Operation?\n",
    "\n",
    "The first step is to ensure that what you want to implement is actually an operation.\n",
    "Most operations are non-trainable, but this is not a strict requirement.\n",
    "\n",
    "Examples of operations are `Reshape`, `Concatenate`, `Dropout`.\n",
    "\n",
    "**NOTE:** Some operations are trainable. This is useful if the standard constructor of a trainable layer is not well suited for Deeplay, or if a layer needs a custom forward pass. This is the case for attention layers, for example. In this case it's important to ensure that the operation is not actually a operation. If the module contains several layers, it should instead be implemented as a operation."
   ]
  },
  {
   "cell_type": "markdown",
   "metadata": {},
   "source": [
    "## Implementing an Operation\n",
    "\n",
    "Here you'll see the steps you should follow to implement an operation in Deeplay. You'll do this by implementing the `Reshape` operation."
   ]
  },
  {
   "cell_type": "markdown",
   "metadata": {},
   "source": [
    "### 1. Create a New File\n",
    "\n",
    "The first step is to create a new file in the `deeplay/ops` directory. It\n",
    "can be in a deeper subdirectory if it makes sense.\n",
    "\n",
    "**The base class.**\n",
    "Some operations have a common base class. These include `ShapeOp` and `MergeOp`.\n",
    "If your operation fits into one of these categories, you should inherit from the\n",
    "base class. If not, you should inherit from `DeeplayModule`.\n"
   ]
  },
  {
   "cell_type": "markdown",
   "metadata": {},
   "source": [
    "This example implements the `Reshape` operation."
   ]
  },
  {
   "cell_type": "code",
   "execution_count": null,
   "metadata": {},
   "outputs": [],
   "source": [
    "from deeplay.ops.shape import ShapeOp\n",
    "\n",
    "class Reshape(ShapeOp):\n",
    "    def __init__(self, *shape, copy=False):\n",
    "        self.shape = shape\n",
    "        self.copy = copy\n",
    "\n",
    "    def forward(self, x):\n",
    "        x = x.view(*self.shape)\n",
    "        if self.copy:\n",
    "            x = x.clone()\n",
    "        return x"
   ]
  },
  {
   "cell_type": "markdown",
   "metadata": {},
   "source": [
    "### 2. Add Annotations\n",
    "\n",
    "It is important to add annotations to the class and methods to ensure that the\n",
    "user knows what to expect. This is also useful for the IDE to provide \n",
    "autocomplete."
   ]
  },
  {
   "cell_type": "code",
   "execution_count": null,
   "metadata": {},
   "outputs": [],
   "source": [
    "from deeplay.ops.shape import ShapeOp\n",
    "import torch\n",
    "\n",
    "class Reshape(ShapeOp):\n",
    "    \n",
    "    shape: Tuple[int, ...]\n",
    "    copy: bool\n",
    "    \n",
    "    def __init__(\n",
    "        self, \n",
    "        *shape: int, \n",
    "        copy: bool = False,\n",
    "    ) -> None: \n",
    "        self.shape = shape\n",
    "        self.copy = copy\n",
    "\n",
    "    def forward(\n",
    "        self, \n",
    "        x: torch.Tensor, \n",
    "    ) -> torch.Tensor:\n",
    "        x = x.view(*self.shape)\n",
    "        if self.copy:\n",
    "            x = x.clone()\n",
    "        return x"
   ]
  },
  {
   "cell_type": "markdown",
   "metadata": {},
   "source": [
    "### 3. Document the Operation\n",
    "\n",
    "The next step is to document the operation. This should include a description of \n",
    "the operation, the input and output shapes, and the arguments that can be passed to\n",
    "the operation."
   ]
  },
  {
   "cell_type": "code",
   "execution_count": null,
   "metadata": {},
   "outputs": [],
   "source": [
    "class Reshape(ShapeOp):\n",
    "    \"\"\"A operation for reshaping a tensor.\n",
    "\n",
    "    This operation reshapes a tensor to a new shape. The new shape is specified \n",
    "    as a tuple of integers. The `copy` parameter controls whether the reshaped \n",
    "    tensor is a view of the original tensor or a copy.\n",
    "\n",
    "    Parameters\n",
    "    ----------\n",
    "    *shape : int\n",
    "        The new shape of the tensor.\n",
    "    copy : bool\n",
    "        Whether to return a copy of the reshaped tensor.\n",
    "\n",
    "    Attributes\n",
    "    ----------\n",
    "    shape : Tuple[int, ...]\n",
    "        The new shape of the tensor.\n",
    "    copy : bool\n",
    "        Whether to return a copy of the reshaped tensor.\n",
    "    \n",
    "    Input\n",
    "    -----\n",
    "    x : torch.Tensor (Any, ...)\n",
    "        The input tensor to reshape.\n",
    "    \n",
    "    Output\n",
    "    ------\n",
    "    y : torch.Tensor\n",
    "        The reshaped tensor (*shape).\n",
    "\n",
    "    Evaluation\n",
    "    ----------\n",
    "    y = x.view(*shape) if not copy else x.view(*shape).clone()\n",
    "\n",
    "    Examples\n",
    "    --------\n",
    "    >>> operation = Reshape(3, 6, copy=True).build()\n",
    "    >>> x = torch.randn(2, 9)\n",
    "    >>> y = operation(x)\n",
    "    >>> y.shape\n",
    "    torch.Size([3, 6])\n",
    "\n",
    "    \"\"\"\n",
    "    \n",
    "    def __init__( \n",
    "        self, \n",
    "        *shape: int, \n",
    "        copy: bool = False,\n",
    "    ) -> None: \n",
    "        self.shape = shape\n",
    "        self.copy = copy\n",
    "\n",
    "    def forward(  \n",
    "        self, \n",
    "        x: torch.Tensor,  \n",
    "    ) -> torch.Tensor:\n",
    "        \"\"\"Forward pass of the reshape operation.\n",
    "        \n",
    "        Parameters\n",
    "        ----------\n",
    "        x : torch.Tensor\n",
    "            The input tensor to reshape.\n",
    "        \n",
    "        Returns\n",
    "        -------\n",
    "        torch.Tensor\n",
    "            The reshaped tensor.\n",
    "        \"\"\"\n",
    "        x = x.view(*self.shape)\n",
    "        if self.copy:\n",
    "            x = x.clone()\n",
    "        return x"
   ]
  }
 ],
 "metadata": {
  "kernelspec": {
   "display_name": "py_env_dlcc",
   "language": "python",
   "name": "python3"
  },
  "language_info": {
   "codemirror_mode": {
    "name": "ipython",
    "version": 3
   },
   "file_extension": ".py",
   "mimetype": "text/x-python",
   "name": "python",
   "nbconvert_exporter": "python",
   "pygments_lexer": "ipython3",
   "version": "3.12.2"
  }
 },
 "nbformat": 4,
 "nbformat_minor": 2
}
