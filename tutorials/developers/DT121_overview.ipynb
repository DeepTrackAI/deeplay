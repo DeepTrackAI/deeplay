{
  "cells": [
    {
      "cell_type": "markdown",
      "metadata": {},
      "source": [
        "# Knowing Deeplay Base Classes\n",
        "\n",
        "The Deeplay library is built around a few base classes designed to be subclassed to create new classes that can be used in the library. The base classes are:\n",
        "\n",
        "- `DeeplayModule`\n",
        "    \n",
        "    The base class for all modules in the Deeplay library. This class defines the configuration logic and the selection logic for the modules.\n",
        "    \n",
        "- `BaseBlock`\n",
        "\n",
        "    The base class for all blocks in the Deeplay library. This class defines the structure of a block and the methods that should be implemented by all blocks.\n",
        "\n",
        "- `Application`\n",
        "    \n",
        "    The base class for all applications in the Deeplay library. This class defines the structure of an application and the methods that should be implemented by all applications.\n",
        "\n",
        "Components and models do not have base classes, as they are derived from the `DeeplayModule` class."
      ]
    },
    {
      "cell_type": "markdown",
      "metadata": {},
      "source": [
        "# Knowing Which Classes to Subclass\n",
        "\n",
        "The following table provides a sequence of questions to help you decide what type of object you should implement. Each\n",
        "possible answer will have its own style guide.\n",
        "\n",
        "| Question                                                                                                         | Answer | Object type   |\n",
        "| ---------------------------------------------------------------------------------------------------------------- | ------ | ------------- |\n",
        "| Does the class represent a task such as classification, without depending heavily on the exact architecture?     | Yes    | `Application` |\n",
        "| Does the class require a non-standard training procedure to make sense (standard being normal supervised learning)? | Yes    | `Application` |\n",
        "| Does the object represent a specific architecture, such as a ResNet18?                                           | Yes    | `Model`       |\n",
        "| Does the object represent a full architecture, not expected to be used as a part of another architecture?        | Yes    | `Model`       |\n",
        "| Does the object represent a generic architecture, such as a ConvolutionalNeuralNetwork, often used as a part of another architecture?                          | Yes    | `Component`   |\n",
        "| Is the object a small structural object with a sequential forward pass, such as a layer activation?               | Yes    | `Block`       |\n",
        "| Is the object a unit of computation, such as a convolution or a pooling operation?                                               | Yes    | `Operation`   |\n",
        "\n",
        "As a general rule of thumb, for objects derived from `Component`, the number of features in each layer should be defineable by the input arguments. For objects derived from `Model`, only the input and output features must be defineable by the input arguments. In both cases, it is recommended to subclass an existing model or component if possible. This will make it easier to implement the required methods and attributes, and will ensure that the new model or component is compatible with the rest of the library."
      ]
    },
    {
      "cell_type": "markdown",
      "metadata": {},
      "source": []
    }
  ],
  "metadata": {
    "kernelspec": {
      "display_name": "Python 3",
      "language": "python",
      "name": "python3"
    },
    "language_info": {
      "codemirror_mode": {
        "name": "ipython",
        "version": 3
      },
      "file_extension": ".py",
      "mimetype": "text/x-python",
      "name": "python",
      "nbconvert_exporter": "python",
      "pygments_lexer": "ipython3",
      "version": "3.10.7"
    }
  },
  "nbformat": 4,
  "nbformat_minor": 2
}
