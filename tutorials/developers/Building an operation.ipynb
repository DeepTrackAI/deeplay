{
 "cells": [
  {
   "cell_type": "markdown",
   "metadata": {},
   "source": [
    "# Implementing an operation\n",
    "\n",
    "Here we will show the steps you should follow to implement an operation in deeplay.\n",
    "\n",
    "## 1. Should I implement an operation?\n",
    "\n",
    "The first step is to ensure that what you want to implement is actually an operation.\n",
    "Most operations are non-trainable, but they do not have to be.\n",
    "\n",
    "Examples of operations are:\n",
    "- Reshape\n",
    "- Concatenate\n",
    "- Dropout\n",
    "\n",
    "Some operations are trainable. This is useful if the standard constructor of a trainable\n",
    "layer is not well suited for deeplay, or if a layer needs a custom forward pass. This is \n",
    "the case for attention layers, for example. In this case it's important to ensure that\n",
    "the operation is not actually a operation. If the module contains several layers, it should\n",
    "instead be implemented as a operation."
   ]
  },
  {
   "cell_type": "markdown",
   "metadata": {},
   "source": [
    "## 2. Implementing the operation\n",
    "\n",
    "The first step is to create a new file in the `deeplay/ops` directory. It\n",
    "can be in a deeper subdirectory if it makes sense.\n",
    "\n",
    "# 2.1 The base class\n",
    "\n",
    "Some operations have a common base class. These include `ShapeOp` and `MergeOp`.\n",
    "If your operation fits into one of these categories, you should inherit from the\n",
    "base class. If not, you should inherit from `DeeplayModule`.\n",
    "\n",
    "# 2.2 Example, the `Reshape` operation"
   ]
  },
  {
   "cell_type": "code",
   "execution_count": 1,
   "metadata": {},
   "outputs": [],
   "source": [
    "from deeplay.ops.shape import ShapeOp\n",
    "\n",
    "class Reshape(ShapeOp):\n",
    "    def __init__(self, *shape: int, copy: bool = False):\n",
    "        self.shape = shape\n",
    "        self.copy = copy\n",
    "\n",
    "    def forward(self, x):\n",
    "        x = x.view(*self.shape)\n",
    "        if self.copy:\n",
    "            x = x.clone()\n",
    "        return x\n"
   ]
  },
  {
   "cell_type": "markdown",
   "metadata": {},
   "source": [
    "# 2.2 Annotations\n",
    "\n",
    "It is important to add annotations to the class and methods to ensure that the\n",
    "user knows what to expect. This is also useful for the IDE to provide \n",
    "autocomplete."
   ]
  },
  {
   "cell_type": "code",
   "execution_count": 2,
   "metadata": {},
   "outputs": [],
   "source": [
    "from typing import Tuple\n",
    "\n",
    "class Reshape(ShapeOp):\n",
    "\n",
    "    shape: Tuple[int, ...]\n",
    "    copy: bool\n",
    "\n",
    "    def __init__(self, *shape: int, copy: bool = False):\n",
    "        self.shape = shape\n",
    "        self.copy = copy\n",
    "\n",
    "    def forward(self, x):\n",
    "        x = x.view(*self.shape)\n",
    "        if self.copy:\n",
    "            x = x.clone()\n",
    "        return x\n"
   ]
  },
  {
   "cell_type": "markdown",
   "metadata": {},
   "source": [
    "## 2.3 Documenting the operation\n",
    "\n",
    "The next step is to document the operation. This should include a description of \n",
    "the operation, the input and output shapes, and the arguments that can be passed to\n",
    "the operation."
   ]
  },
  {
   "cell_type": "code",
   "execution_count": 3,
   "metadata": {},
   "outputs": [],
   "source": [
    "class Reshape(ShapeOp):\n",
    "    \"\"\"A operation for reshaping a tensor.\n",
    "\n",
    "    This operation reshapes a tensor to a new shape. The new shape is\n",
    "    specified as a tuple of integers. The `copy` parameter controls\n",
    "    whether the reshaped tensor is a view of the original tensor or a\n",
    "    copy.\n",
    "\n",
    "    Parameters\n",
    "    ----------\n",
    "    *shape : int\n",
    "        The new shape of the tensor.\n",
    "    copy : bool\n",
    "        Whether to return a copy of the reshaped tensor.\n",
    "\n",
    "    Attributes\n",
    "    ----------\n",
    "    shape : Tuple[int, ...]\n",
    "        The new shape of the tensor.\n",
    "    copy : bool\n",
    "        Whether to return a copy of the reshaped tensor.\n",
    "    \n",
    "    Input\n",
    "    -----\n",
    "    x : torch.Tensor (Any, ...)\n",
    "        The input tensor to reshape.\n",
    "    \n",
    "    Output\n",
    "    ------\n",
    "    y : torch.Tensor\n",
    "        The reshaped tensor (*shape).\n",
    "\n",
    "    Evaluation\n",
    "    ----------\n",
    "    y = x.view(*shape) if not copy else x.view(*shape).clone()\n",
    "\n",
    "    Examples\n",
    "    --------\n",
    "    >>> operation = Reshape(3, 6, copy=True).build()\n",
    "    >>> x = torch.randn(2, 9)\n",
    "    >>> y = operation(x)\n",
    "    >>> y.shape\n",
    "    torch.Size([3, 6])\n",
    "\n",
    "    \"\"\"\n",
    "    # [rest of the code]"
   ]
  },
  {
   "cell_type": "code",
   "execution_count": 5,
   "metadata": {},
   "outputs": [],
   "source": [
    "# %%\n",
    "import pandas as pd\n",
    "csv = r\"C:\\Users\\GU\\Downloads\\export2024.06.05-09.59.31.csv\"\n",
    "\n",
    "df = pd.read_csv(csv,  encoding='utf-8')\n",
    "# %%\n"
   ]
  },
  {
   "cell_type": "code",
   "execution_count": 9,
   "metadata": {},
   "outputs": [
    {
     "data": {
      "text/plain": [
       "'https://ieeexplore.ieee.org/stamp/stamp.jsp?arnumber=10503508'"
      ]
     },
     "execution_count": 9,
     "metadata": {},
     "output_type": "execute_result"
    }
   ],
   "source": [
    "df[\"PDF Link\"][0]"
   ]
  },
  {
   "cell_type": "code",
   "execution_count": 24,
   "metadata": {},
   "outputs": [
    {
     "data": {
      "text/plain": [
       "'https://www.who.int/docs/'"
      ]
     },
     "execution_count": 24,
     "metadata": {},
     "output_type": "execute_result"
    }
   ],
   "source": [
    "import urllib.parse\n",
    "\n",
    "url = r\"https://www.who.int/docs/../docs/2024.06.05-09.59.31.pdf\"\n",
    "# normalize the url\n",
    "url = urllib.parse.urljoin(url, \".\")\n",
    "url"
   ]
  }
 ],
 "metadata": {
  "kernelspec": {
   "display_name": "Python 3",
   "language": "python",
   "name": "python3"
  },
  "language_info": {
   "codemirror_mode": {
    "name": "ipython",
    "version": 3
   },
   "file_extension": ".py",
   "mimetype": "text/x-python",
   "name": "python",
   "nbconvert_exporter": "python",
   "pygments_lexer": "ipython3",
   "version": "3.10.10"
  }
 },
 "nbformat": 4,
 "nbformat_minor": 2
}
