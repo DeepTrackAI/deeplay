{
 "cells": [
  {
   "cell_type": "markdown",
   "metadata": {},
   "source": [
    "# Deeplay File Structure"
   ]
  },
  {
   "cell_type": "markdown",
   "metadata": {},
   "source": [
    "## Root Level Files\n",
    "\n",
    "Deeplay contains the following files at the root level:\n",
    "- `.gitignore`: Contains the files to be ingnored by GIT.\n",
    "- `.pylintrc`: The configuration file for the pylint tool. It contains the rules for code formatting and style.\n",
    "- `LICENSE.txt`: The license file for the project.\n",
    "- `README.md`: The project's README file\n",
    "- `requirements.txt`: The file containing the dependencies for the project\n",
    "- `setup.cfg`: The configuration file for the setup tool. It contains the metadata for the project.\n",
    "- `setup.py`: The setup file for the project. It contains the instructions for installing the project.\n",
    "especially the warning to be ignored.\n",
    "- `stylestubgen.py`: The script for generating the style stubs for the project. These are type hints for the style system. It creates .pyi files for select classes in the project, and adds overrides to the `.style()` method to enforce the type hints. It also handles the doc strings for the styles in the same way."
   ]
  },
  {
   "cell_type": "markdown",
   "metadata": {},
   "source": [
    "## Root Level Directories\n",
    "\n",
    "Deeplay contains the following directories at the root level:\n",
    "- `.github`: Contains the GitHub actions workflow files for the project. These run the continuous integration tests for the project.\n",
    "- `.vscode`: Contains the Visual Studio Code settings for the project. These settings are used to configure the editor for the project. They include good defaults for the editor, such as the code formatter and the linter.\n",
    "- `deeplay`: Contains the source code for the project. This is where the main code for the project is located.\n",
    "- `tutorials`: Contains the tutorial files for the project. These are jupyter notebooks that provide a comprehensive guide to the Deeplay library, focused on helping users and developers get started with, and make the most of the library. For now, this script should be run by the developer when a new style is added."
   ]
  },
  {
   "cell_type": "markdown",
   "metadata": {},
   "source": [
    "## `Deeplay` Directory\n",
    "\n",
    "**As a general rule, each file should export a single class or function.** This makes it easier to understand and navigate the codebase. If a file exports multiple unrelated classes or functions, it should be split into multiple files. It is better to organize the codebase such that related objects are in the same folder instead of the same file.\n",
    "\n",
    "If a file exports multiple classes or functions, they should be clearly related to each other and should be typically used together.\n",
    "\n",
    "**As a general rule, the Deeplay source code is organized in a hierarchical structure.** The main focus is ensuring that files only depend on other files in the same or lower (closer to the root) directories. This is to prevent circular dependencies and make the codebase easier to understand. So, for example in the structure:\n",
    "``` bash\n",
    "a_folder/\n",
    "    __init__.py\n",
    "    a.py\n",
    "    b_folder/\n",
    "        __init__.py\n",
    "        b.py\n",
    "        ...\n",
    "    c_folder/\n",
    "        __init__.py\n",
    "        c.py\n",
    "        c_extra.py\n",
    "        ...\n",
    "    ...\n",
    "```\n",
    "`a.py` can import `b.py` and `c.py`, but `b.py` and `c.py` cannot import `a.py`. Moreover, `b.py` should not import `c.py` or `c_extra.py`. But `c.py` can import `c_extra.py`, and vice versa.\n",
    "\n",
    "This means that the root level files contain the most general classes and functions, while the lower level files contain more specific classes and functions. This makes it easier to understand the codebase and to find the code you are looking for."
   ]
  },
  {
   "cell_type": "markdown",
   "metadata": {},
   "source": [
    "### `Deeplay` root level files\n",
    "\n",
    "- `module.py`\n",
    "\n",
    "  This file contains the `DeeplayModule` class, which is the base class for all modules in the Deeplay library. It also contains the configuration logic and the selection logic.\n",
    "\n",
    "- `meta.py`\n",
    "\n",
    "  This file contains the metaclass that all `DeeplayModule` subclasses should use.\n",
    "\n",
    "- `list.py`\n",
    "\n",
    "  This file contains list-like classes (most importantly `LayerList` and `Sequential`), which are used as containers for layers, blocks, and components in the Deeplay library.\n",
    "\n",
    "- `decorators.py`\n",
    "\n",
    "  This file contains the decorators used in the Deeplay library. These are mainly method decorators that are used to modify the behavior of methods in the library to ensure methods are called at the right point in the lifecycle of the object.\n",
    "\n",
    "- `trainer.py`\n",
    "\n",
    "  This file contains the `Trainer` class, which is used to train models in the Deeplay library. It extends the Lightning `Trainer` class."
   ]
  },
  {
   "cell_type": "markdown",
   "metadata": {},
   "source": [
    "### `Deeplay` subdirectories\n",
    "\n",
    "- `blocks`\n",
    "\n",
    "  This directory contains the classes and functions related to blocks in the Deeplay library. Blocks are the building blocks of models in the Deeplay library. They are used to define the architecture of a model, and can be combined to create complex models. The most important block classes are in the subfolders `conv`, `linear`, `sequence` and in the files `base.py` anb `sequential.py`.\n",
    "\n",
    "- `components`\n",
    "\n",
    "  Contains the reusable components of the library. These are generally built as a combination of blocks. They are more flexible than full models, but less flexible than blocks.\n",
    "\n",
    "- `applications`\n",
    "\n",
    "  This directory contains the classes and functions related to applications in the Deeplay library. Applications are classes that contain the training logic for specific tasks, such as classification, regression, segmentation, etc. They handle all the details of training a model for a specific task, except for the model architecture.\n",
    "\n",
    "  Generally, the individual applications will be placed in further subdirectories, such as `classification`, `regression`, `segmentation`, etc. However, this is less strict than the root level file structure.\n",
    "\n",
    "- `models`\n",
    "\n",
    "  Contains the models of the library. These are the full models that are used for training and inference. They are built from blocks and components, and are less flexible than both. They generally represent a specific architecture, such as `ResNet`, `UNet`, etc. \n",
    "\n",
    "- `initializers`\n",
    "\n",
    "  Contains the classes for initializing the weights of the models.\n",
    "\n",
    "- `callbacks`\n",
    "\n",
    "  Contains deeplay specific callbacks. Mainly the logging of the training history and the custom progress bar.\n",
    "\n",
    "- `external`\n",
    "\n",
    "  Contains logic for interacting with external classes and object, such as from `torch`. Most important objects are `Layer` and `Optimizer`.\n",
    "\n",
    "- `ops`\n",
    "\n",
    "  Contains individual operations that are used in the blocks and components. These are generally low-level, non-trainable operations, such as `Reshape`, `Cat`, etc. They act like individual layers.\n",
    "\n",
    "- `activelearning`\n",
    "\n",
    "  This directory contains the classes and functions related to active learning in the Deeplay library. This includes application wrappers, criterion, and dataset classes.\n",
    "\n",
    "- `tests`\n",
    "\n",
    "  Contains the tests for the library. These are used to ensure that the library is working correctly and to catch any bugs that may arise."
   ]
  }
 ],
 "metadata": {
  "kernelspec": {
   "display_name": "Python 3",
   "language": "python",
   "name": "python3"
  },
  "language_info": {
   "codemirror_mode": {
    "name": "ipython",
    "version": 3
   },
   "file_extension": ".py",
   "mimetype": "text/x-python",
   "name": "python",
   "nbconvert_exporter": "python",
   "pygments_lexer": "ipython3",
   "version": "3.10.10"
  }
 },
 "nbformat": 4,
 "nbformat_minor": 2
}
