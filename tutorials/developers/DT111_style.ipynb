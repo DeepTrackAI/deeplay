{
 "cells": [
  {
   "cell_type": "markdown",
   "metadata": {},
   "source": [
    "# Style Guide\n",
    "\n",
    "The code style should follow the [PEP 8](https://www.python.org/dev/peps/pep-0008/) guidelines. \n",
    "\n",
    "The code should be formatted using\n",
    "[black](https://black.readthedocs.io/en/stable/). \n",
    "\n",
    "We are not close to lint-compliance yet, but we are working on it."
   ]
  },
  {
   "cell_type": "markdown",
   "metadata": {},
   "source": [
    "## Comply with Naming Conventions\n",
    "\n",
    "Beyond what is defined in the PEP 8 guidelines, we have the following naming conventions:\n",
    "\n",
    "- **Minimize the use of abbreviations.** If an abbreviation is used, it should be well-known and not ambiguous.\n",
    "\n",
    "- **Use standard names for classes.** Use the following names:\n",
    "  - `layer` for a class that represents a single layer in a neural network, typically the learnable part of a block.\n",
    "  - `activation` for a class that represents a non-learnable activation function.\n",
    "  - `normalization` for a class that represents a normalization layer.\n",
    "  - `dropout` for a class that represents a dropout layer.\n",
    "  - `pool` for a class that represents a pooling layer.\n",
    "  - `upsample` for a class that represents an upsampling layer.\n",
    "  - `block` / `blocks` for a class that represents a block in a neural network, typically a sequence of layers.\n",
    "  - `backbone` for a class that represents the main part of a neural network, typically a sequence of blocks.\n",
    "  - `head` for a class that represents the final part of a neural network, typically a single layer followed by an optional activation function.\n",
    "  - `model` for a class that represents a full neural network architecture.\n",
    "  - `optimizer` for a class that represents an optimizer.\n",
    "  - `loss` for a class that represents a loss function.\n",
    "  - `metric` for a class that represents a metric.\n",
    "  \n",
    "- **Use underscored numbers when necessary.** If there is a naming conflict within a class, add numbers to the end of the name with an underscore, 0-indexed. For example, `layer_0` and `layer_1`.\n",
    "  - This is correct: `layer_0`, `layer_1`, `layer_2`\n",
    "  - This is incorrect: ~~`layer_1`, `layer_2`, `layer_3`~~\n",
    "  - This is incorrect: ~~`layer`, `layer_1`, `layer_3`~~"
   ]
  },
  {
   "cell_type": "markdown",
   "metadata": {},
   "source": [
    "## Using Type Hints\n",
    "\n",
    "**Use type hints extensively.** This will make the code more readable and maintainable.\n",
    "\n",
    "The type hints should be as specific as possible.\n",
    "For example, if a string can be one of several values, use a `Literal` type hint. \n",
    "Similarly, if a function takes a list of integers, the type hint should be `List[int]` instead of `List`. \n",
    "\n",
    "We are currently supporting Python 3.8 and above. Some features of Python 3.9 are not supported yet, such as the `|` operator for type hints. You can get around this by importing `annotations` from `__future__`.\n",
    "\n",
    "Classes should have their attribute types defined before the `.__init__()` method. An example is shown below:\n",
    "\n",
    "```python\n",
    "class MyClass:\n",
    "    \"\"\"A class that does something.\"\"\"\n",
    "    attribute: int\n",
    "\n",
    "    def __init__(self, num: int):\n",
    "        \"\"\"Initialize class\"\"\"\n",
    "        self.attribute = num\n",
    "```"
   ]
  },
  {
   "cell_type": "markdown",
   "metadata": {},
   "source": [
    "## Formatting Imports\n",
    "\n",
    "**Use absolute imports.** This should be done for all imports, unless the target is at the same level in the hierarchy inside a `__init__.py`.\n",
    "For example, in `deeplay/external/optimizers/optimizer.py`:\n",
    "```python\n",
    "from deeplay.module import DeeplayModule  # Correct.\n",
    "from ...module import DeeplayModule  # Incorrect.\n",
    "\n",
    "from deeplay.external.optimizers.adam import Adam  # Correct.\n",
    "from .adam import Adam #  Also correct.\n",
    "from deeplay.external.optimizers.adam import *  # Incorrect.\n",
    "```\n",
    "\n",
    "In a `__init__.py` file, you may use * imports from directories, but not from files. From files, you should import the specific classes or functions you need.\n",
    "For example, in `deeplay/external/__init__.py`:\n",
    "```python\n",
    "from .optimizers import *  # Correct.\n",
    "from .optimizers.adam import Adam  # Correct.\n",
    "from .optimizers.adam import *  # Incorrect.\n",
    "```"
   ]
  },
  {
   "cell_type": "markdown",
   "metadata": {},
   "source": [
    "## Writing Documentation\n",
    "\n",
    "Documentation should follow the [NumpyDoc style guide](https://numpydoc.readthedocs.io/en/latest/format.html#style-guide).\n",
    "\n",
    "**TODO: add example here**\n",
    "\n",
    "In general, all non-trivial classes and methods should be documented. The documentation should include a description of the class or method, the parameters, the return value, and any exceptions that can be raised. We sincerely appreciate any effort to improve the documentation, particularly by including examples of how to use the classes and methods."
   ]
  },
  {
   "cell_type": "markdown",
   "metadata": {},
   "source": [
    "## Unit Testing\n",
    "\n",
    "**All new features should be tested.** The tests should cover all possible code paths and should be as comprehensive as possible. The tests should be written using the `unittest` module in Python. The tests should be placed in the `tests` folder. The tests should be run using `unittest`. Not all tests follow our guidelines yet, but we are working on improving them.\n",
    "\n",
    "**We aim to mirror the structure of the `deeplay` package in the `tests` package.** For example, `deeplay/external/layer.py` should have a corresponding `tests/external/test_layer.py` file. The name of the file should be the same as the module it tests, but with `test_` prepended. Note that when adding a folder, the `__init__.py` file should be added to the folder to make it a package.\n",
    "\n",
    "**Each test file should contain one `unittest.TestCase` class per class or function being tested.** The test methods should be as descriptive as possible. For example, `test_forward` is not a good name for a test method. Instead, use `test_forward_with_valid_input` or `test_forward_with_invalid_input`. The test methods should be as independent as possible, but we value coverage over independence.\n",
    "\n",
    "It is fine to use multiple subtests using `with self.subTest()` to test multiple inputs or edge cases. This is particularly useful when testing a method that has many possible inputs.\n",
    "\n",
    "It is fine and preferred to use mocking where appropriate. For example, if a method calls an external API, the API call should be mocked. The `unittest.mock` module is very useful for this purpose.\n",
    "\n",
    "Keep in mind to try to only test the the class or method itself, not the dependencies. For example, testing an application should focus on the training logic it implements, not the specificis of the architecture it uses."
   ]
  },
  {
   "cell_type": "markdown",
   "metadata": {},
   "source": [
    "### Testing Applications\n",
    "\n",
    "Applications can be hard to test because they often require a lot of data and time to train to fully validate. This is not feasible, since we want to retain the unit test speed to within a few minutes. Here are some guidelines to follow when testing applications:\n",
    "\n",
    "- Test both using build and create methods.\n",
    "  - Validate that the forward pass works as expected.\n",
    "  - Validate that the loss and metrics are correctly set.\n",
    "  - Validate that the optimizer is correctly set.\n",
    "    - This can be done by manually calling `app.configure_optimizer()` and checking that returned optimizer is correct the expected one.\n",
    "    - Also, verify that the parameters of the optimizer are correctly set. This can\n",
    "      be done by doing a forward pass, backward pass, and then checking that the optimizer's parameters have been updated.\n",
    "      - If there are multiple optimizers with different parameters, ensure that the correct parameters are updated.\n",
    "\n",
    "- Test `app.compute_loss` on a small input and verify that the loss is correct.\n",
    "\n",
    "- Test `app.training_step` on a small input and verify that the loss is correct. Note that you might need to attach a trainer for this.\n",
    "\n",
    "- Test training the application on a single epoch both using `app.fit` and `trainer.fit(app)`.\n",
    "  - It's a good idea to check that the training history contains the correct keys.\n",
    "  - Use as small a dataset and model as possible to keep the test fast. Turn off checkpointing and logging to speed up the test.\n",
    "\n",
    "- Test that the application can be saved and loaded correctly.\n",
    "  - Currently, we only guarantee `save_state_dict` and `load_state_dict` to work correctly. A good way to test is to save the state dict, create a new application, load the state dict, and then check that the new application has the same state as the old one.\n",
    "\n",
    "- Test any application-specific methods, such as `app.detect`, `app.classify`, etc."
   ]
  },
  {
   "cell_type": "markdown",
   "metadata": {},
   "source": [
    "### Testing Models\n",
    "\n",
    "Models are easier to test than applications because they are usually smaller and have fewer dependencies. We do not test if models can be trained.\n",
    "\n",
    "- Test that the model, created with default arguments, can be created.\n",
    "\n",
    "- Test that the model, created with default arguments, has the correct number of parameters.\n",
    "\n",
    "- Test that the model, created with default arguments, can be saved and loaded using `save_state_dict` and `load_state_dict`.\n",
    "\n",
    "- Test that a previously saved model state dict can be loaded into a new model.\n",
    "\n",
    "- Test that the model, created with default arguments, has the expected hierarchical structure. This is mostly for forward compatibility.\n",
    "\n",
    "- Test the forward pass with a small input and verify that the output is correct in terms of tensor shape.\n",
    "\n",
    "- Test that the model can be created with non-default arguments and that the arguments are correctly set.\n",
    "\n"
   ]
  },
  {
   "cell_type": "markdown",
   "metadata": {},
   "source": [
    "### TODO: more testing guidelines for other modules"
   ]
  },
  {
   "cell_type": "markdown",
   "metadata": {},
   "source": []
  }
 ],
 "metadata": {
  "kernelspec": {
   "display_name": "Python 3",
   "language": "python",
   "name": "python3"
  },
  "language_info": {
   "codemirror_mode": {
    "name": "ipython",
    "version": 3
   },
   "file_extension": ".py",
   "mimetype": "text/x-python",
   "name": "python",
   "nbconvert_exporter": "python",
   "pygments_lexer": "ipython3",
   "version": "3.10.10"
  }
 },
 "nbformat": 4,
 "nbformat_minor": 2
}
